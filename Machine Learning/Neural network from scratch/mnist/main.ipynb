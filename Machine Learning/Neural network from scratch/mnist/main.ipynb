{
 "cells": [
  {
   "cell_type": "code",
   "execution_count": 4,
   "metadata": {},
   "outputs": [],
   "source": [
    "from mnist import MNIST\n",
    "import random\n",
    "\n",
    "mndata = MNIST('datasets')\n",
    "\n",
    "images, labels = mndata.load_training()\n",
    "# or\n",
    "images, labels = mndata.load_testing()"
   ]
  },
  {
   "cell_type": "code",
   "execution_count": 7,
   "metadata": {},
   "outputs": [
    {
     "name": "stdout",
     "output_type": "stream",
     "text": [
      "\n",
      "............................\n",
      "............................\n",
      "............................\n",
      "............................\n",
      "............................\n",
      "............................\n",
      "............................\n",
      "............................\n",
      "......@@@@@@................\n",
      ".....@@@@@@@@@@.............\n",
      ".....@@@@@@@@@@@............\n",
      ".............@@@............\n",
      "...............@@...........\n",
      "...............@@...........\n",
      "...............@@...........\n",
      "...........@@@@@@@..........\n",
      "..........@@@@@@@@@@@.......\n",
      "..........@@@@@@@@@@@@@@....\n",
      "..........@@@@......@@@@....\n",
      "............................\n",
      "............................\n",
      "............................\n",
      "............................\n",
      "............................\n",
      "............................\n",
      "............................\n",
      "............................\n",
      "............................\n"
     ]
    }
   ],
   "source": [
    "index = random.randrange(0, len(images))  # choose an index ;-)\n",
    "print(mndata.display(images[index]))"
   ]
  },
  {
   "cell_type": "code",
   "execution_count": null,
   "metadata": {},
   "outputs": [],
   "source": []
  }
 ],
 "metadata": {
  "kernelspec": {
   "display_name": "Python 3",
   "language": "python",
   "name": "python3"
  },
  "language_info": {
   "codemirror_mode": {
    "name": "ipython",
    "version": 3
   },
   "file_extension": ".py",
   "mimetype": "text/x-python",
   "name": "python",
   "nbconvert_exporter": "python",
   "pygments_lexer": "ipython3",
   "version": "3.6.6"
  }
 },
 "nbformat": 4,
 "nbformat_minor": 2
}
