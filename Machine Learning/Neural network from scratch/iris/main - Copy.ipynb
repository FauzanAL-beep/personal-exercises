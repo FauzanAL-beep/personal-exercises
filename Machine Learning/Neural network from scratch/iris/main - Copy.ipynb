{
 "cells": [
  {
   "cell_type": "code",
   "execution_count": 1,
   "metadata": {},
   "outputs": [
    {
     "name": "stdout",
     "output_type": "stream",
     "text": [
      "[0.47220339 0.0971663  0.41830923 0.96512651 0.22519656 0.44020876\n",
      " 0.03927627 0.82876461 0.94089503 0.94480297 0.72956342 0.32384222\n",
      " 0.95958867 0.26745854 0.33596345 0.00673869 0.03634102 0.80835212\n",
      " 0.35845703 0.37113616]\n",
      "[0.59102568 0.12456306 0.72342692 0.81045374 0.46113744 0.40105307\n",
      " 0.96238751 0.06811488 0.44679388 0.60772856 0.62607529 0.92541192\n",
      " 0.69375398 0.13332689 0.06893443]\n"
     ]
    },
    {
     "ename": "NameError",
     "evalue": "name 'h1' is not defined",
     "output_type": "error",
     "traceback": [
      "\u001b[1;31m---------------------------------------------------------------------------\u001b[0m",
      "\u001b[1;31mNameError\u001b[0m                                 Traceback (most recent call last)",
      "\u001b[1;32m<ipython-input-1-0f2a1b9519d2>\u001b[0m in \u001b[0;36m<module>\u001b[1;34m()\u001b[0m\n\u001b[0;32m     51\u001b[0m \u001b[1;31m#error check\u001b[0m\u001b[1;33m\u001b[0m\u001b[1;33m\u001b[0m\u001b[0m\n\u001b[0;32m     52\u001b[0m \u001b[1;33m\u001b[0m\u001b[0m\n\u001b[1;32m---> 53\u001b[1;33m \u001b[0mprint\u001b[0m\u001b[1;33m(\u001b[0m\u001b[1;34m\"h1: \"\u001b[0m\u001b[1;33m+\u001b[0m\u001b[0mstr\u001b[0m\u001b[1;33m(\u001b[0m\u001b[0mh1\u001b[0m\u001b[1;33m)\u001b[0m\u001b[1;33m)\u001b[0m\u001b[1;33m\u001b[0m\u001b[0m\n\u001b[0m\u001b[0;32m     54\u001b[0m \u001b[0mprint\u001b[0m\u001b[1;33m(\u001b[0m\u001b[1;34m\"h2: \"\u001b[0m\u001b[1;33m+\u001b[0m\u001b[0mstr\u001b[0m\u001b[1;33m(\u001b[0m\u001b[0mh2\u001b[0m\u001b[1;33m)\u001b[0m\u001b[1;33m)\u001b[0m\u001b[1;33m\u001b[0m\u001b[0m\n\u001b[0;32m     55\u001b[0m \u001b[0mprint\u001b[0m\u001b[1;33m(\u001b[0m\u001b[1;34m\"h3: \"\u001b[0m\u001b[1;33m+\u001b[0m\u001b[0mstr\u001b[0m\u001b[1;33m(\u001b[0m\u001b[0mh3\u001b[0m\u001b[1;33m)\u001b[0m\u001b[1;33m)\u001b[0m\u001b[1;33m\u001b[0m\u001b[0m\n",
      "\u001b[1;31mNameError\u001b[0m: name 'h1' is not defined"
     ]
    }
   ],
   "source": [
    "import numpy as np\n",
    "#import matplotlib.pyplot as plt\n",
    "import pandas as pd\n",
    "import csv\n",
    "import random\n",
    "import math\n",
    "\n",
    "def sig(x): #activation function: sigmoid\n",
    "    return 1 /(1+(math.e**-x))\n",
    "def mse(tar,out): #error check (means squared error)\n",
    "    return ((tar-out)**2)/2\n",
    "\n",
    "dataset = \"./datasets/iris.csv\"\n",
    "#desc: 4 input node, 3 output node, 5 hidden layer's node, 1 hidden layer, 20 first weights and 15 second weights\n",
    "#1st output: Iris-setosa, 2nd output: Iris-versicolor, 3rd output: Iris-virginica\n",
    "\n",
    "#initializations\n",
    "\n",
    "a = 0.5 #learning rate\n",
    "bh = 0.35 #bias for hidden layer\n",
    "bo = 0.6 #bias for output layer\n",
    "\n",
    "w1 = np.random.rand(1,20)\n",
    "w2 = np.random.rand(1,15)\n",
    "w1 = w1[0]\n",
    "w2 = w2[0]\n",
    "print(w1)\n",
    "print(w2)\n",
    "\n",
    "\n",
    "testd1 = [5.1,3.5,1.4,0.2] #test data, will be changed with csv\n",
    "testd1o = [1,0,0] #expected output, will be changed with csv\n",
    "\n",
    "#testd1.append(1)\n",
    "#w1.append(bh)\n",
    "neth = [0,0,0,0,0]\n",
    "h = [0,0,0,0,0]\n",
    "neto = [0,0,0]\n",
    "o = [0,0,0]\n",
    "\n",
    "#forward pass\n",
    "#-for loop to number of first hidden neurons\n",
    "neth[0] = np.dot(testd1,w1[:4])+bh\n",
    "neth[1] = np.dot(testd1,w1[4:8])+bh\n",
    "neth[2] = np.dot(testd1,w1[8:12])+bh\n",
    "neth[3] = np.dot(testd1,w1[12:16])+bh\n",
    "neth[4] = np.dot(testd1,w1[16:])+bh\n",
    "#-for loop to number of first hidden neurons\n",
    "h[0] = sig(neth[0])\n",
    "h[1] = sig(neth[1])\n",
    "h[2] = sig(neth[2])\n",
    "h[3] = sig(neth[3])\n",
    "h[4] = sig(neth[4])\n",
    "#-for loop to number of output neurons\n",
    "neto[0] = np.dot(h,w2[:5])+bo\n",
    "neto[1] = np.dot(h,w2[5:10])+bo\n",
    "neto[2] = np.dot(h,w2[10:])+bo\n",
    "#-for loop to number of output neurons\n",
    "o[0] = sig(neto[0])\n",
    "o[1] = sig(neto[1])\n",
    "o[2] = sig(neto[2])\n",
    "\n",
    "#error check\n",
    "etot = mse(testd1o[0],o[0])+mse(testd1o[1],o[1])+mse(testd1o[2],o[2])\n",
    "\n",
    "#backward pass\n",
    "\n",
    "\n",
    "\n",
    "print(\"h1: \"+str(h1))\n",
    "print(\"h2: \"+str(h2))\n",
    "print(\"h3: \"+str(h3))\n",
    "print(\"h4: \"+str(h4))\n",
    "print(\"h5: \"+str(h5))"
   ]
  },
  {
   "cell_type": "code",
   "execution_count": null,
   "metadata": {},
   "outputs": [],
   "source": []
  }
 ],
 "metadata": {
  "kernelspec": {
   "display_name": "Python 3",
   "language": "python",
   "name": "python3"
  },
  "language_info": {
   "codemirror_mode": {
    "name": "ipython",
    "version": 3
   },
   "file_extension": ".py",
   "mimetype": "text/x-python",
   "name": "python",
   "nbconvert_exporter": "python",
   "pygments_lexer": "ipython3",
   "version": "3.6.6"
  }
 },
 "nbformat": 4,
 "nbformat_minor": 2
}
