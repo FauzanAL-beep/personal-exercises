{
 "cells": [
  {
   "cell_type": "code",
   "execution_count": 3,
   "metadata": {},
   "outputs": [
    {
     "name": "stdout",
     "output_type": "stream",
     "text": [
      "[[0.74976805 0.68159843 0.8474241  0.10722035 0.55647558 0.99447804\n",
      "  0.29268889 0.79366889 0.37987217 0.04161174 0.96321377 0.41394177\n",
      "  0.26440519 0.58737711 0.89207147 0.29216026 0.53404336 0.90016904\n",
      "  0.41709208 0.77073225]]\n",
      "[[0.3226517  0.10743644 0.99039175 0.45502315 0.99568309 0.50128545\n",
      "  0.34438633 0.64180363 0.88104774 0.90202462 0.55971401 0.43205403\n",
      "  0.76684492 0.51379752 0.46425308]]\n"
     ]
    }
   ],
   "source": [
    "import numpy as np\n",
    "#import matplotlib.pyplot as plt\n",
    "import pandas as pd\n",
    "import csv\n",
    "import random\n",
    "\n",
    "dataset = \"./datasets/iris.csv\"\n",
    "#desc: 4 input node, 3 output node, 5 hidden layer's node, 1 hidden layer, 20 first weights and 15 second weights\n",
    "a = 0.5 #learning rate\n",
    "w1 = np.random.rand(1,20)\n",
    "w2 = np.random.rand(1,15)\n",
    "print(w1)\n",
    "print(w2)"
   ]
  },
  {
   "cell_type": "code",
   "execution_count": null,
   "metadata": {},
   "outputs": [],
   "source": []
  }
 ],
 "metadata": {
  "kernelspec": {
   "display_name": "Python 3",
   "language": "python",
   "name": "python3"
  },
  "language_info": {
   "codemirror_mode": {
    "name": "ipython",
    "version": 3
   },
   "file_extension": ".py",
   "mimetype": "text/x-python",
   "name": "python",
   "nbconvert_exporter": "python",
   "pygments_lexer": "ipython3",
   "version": "3.6.6"
  }
 },
 "nbformat": 4,
 "nbformat_minor": 2
}
