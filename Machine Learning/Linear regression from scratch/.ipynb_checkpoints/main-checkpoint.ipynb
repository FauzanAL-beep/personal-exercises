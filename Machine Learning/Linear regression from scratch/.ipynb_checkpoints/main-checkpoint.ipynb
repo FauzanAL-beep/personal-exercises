{
 "cells": [
  {
   "cell_type": "code",
   "execution_count": 72,
   "metadata": {},
   "outputs": [
    {
     "name": "stdout",
     "output_type": "stream",
     "text": [
      "     x     y  x-X       y-Y  (x-X)(y-Y)  (x-X)^2\n",
      "0  2.4  1.70 -1.2 -0.312857    0.375429     1.44\n",
      "1  2.8  1.85 -0.8 -0.162857    0.130286     0.64\n",
      "2  3.2  1.79 -0.4 -0.222857    0.089143     0.16\n",
      "3  3.6  1.95  0.0 -0.062857   -0.000000     0.00\n",
      "4  4.0  2.10  0.4  0.087143    0.034857     0.16\n",
      "5  4.2  2.00  0.6 -0.012857   -0.007714     0.36\n",
      "6  5.0  2.70  1.4  0.687143    0.962000     1.96\n",
      "x             3.600000e+00\n",
      "y             2.012857e+00\n",
      "x-X          -6.344132e-17\n",
      "y-Y           0.000000e+00\n",
      "(x-X)(y-Y)    2.262857e-01\n",
      "(x-X)^2       6.742857e-01\n",
      "dtype: float64\n",
      "slope:  0.335593220338983\n",
      "c:  0.8047215496368041\n",
      "y =  0.335593220338983 x +  0.8047215496368041\n"
     ]
    },
    {
     "data": {
      "image/png": "[encoded data removed]",
      "text/plain": [
       "<Figure size 432x288 with 1 Axes>"
      ]
     },
     "metadata": {},
     "output_type": "display_data"
    }
   ],
   "source": [
    "import numpy as np\n",
    "import matplotlib.pyplot as plt\n",
    "import pandas as pd\n",
    "\n",
    "df = pd.read_csv('./datasets/idk.csv', delimiter=',', names=['x', 'y'])\n",
    "df['x-X'] = df.apply(lambda row: row['x'] - df['x'].mean(), axis=1)\n",
    "df['y-Y'] = df.apply(lambda row: row['y'] - df['y'].mean(), axis=1)\n",
    "df['(x-X)(y-Y)'] = df.apply(lambda row: row['x-X'] * row['y-Y'], axis=1)\n",
    "df['(x-X)^2'] = df.apply(lambda row: row['x-X'] * row['x-X'], axis=1)\n",
    "slope = df['(x-X)(y-Y)'].sum() / df['(x-X)^2'].sum()\n",
    "c = df['y'].mean() - (slope*df['x'].mean())\n",
    "f = lambda x: slope*x + c\n",
    "\n",
    "print(df)\n",
    "print(df.mean())\n",
    "print('slope: ', slope)\n",
    "print('c: ', c)\n",
    "print('y = ',slope,'x + ',c)\n",
    "\n",
    "plt.scatter(df['x'], df['y'], label='csv')\n",
    "x=np.array([2,5])\n",
    "\n",
    "plt.plot(x, f(x))\n",
    "\n",
    "plt.xlabel('x')\n",
    "plt.ylabel('y')\n",
    "plt.title('Linear Depression')\n",
    "plt.legend()\n",
    "plt.show()"
   ]
  },
  {
   "cell_type": "code",
   "execution_count": null,
   "metadata": {},
   "outputs": [],
   "source": []
  },
  {
   "cell_type": "code",
   "execution_count": null,
   "metadata": {},
   "outputs": [],
   "source": []
  }
 ],
 "metadata": {
  "kernelspec": {
   "display_name": "Python 3",
   "language": "python",
   "name": "python3"
  },
  "language_info": {
   "codemirror_mode": {
    "name": "ipython",
    "version": 3
   },
   "file_extension": ".py",
   "mimetype": "text/x-python",
   "name": "python",
   "nbconvert_exporter": "python",
   "pygments_lexer": "ipython3",
   "version": "3.6.6"
  }
 },
 "nbformat": 4,
 "nbformat_minor": 2
}
