{
 "cells": [
  {
   "cell_type": "code",
   "execution_count": 1,
   "metadata": {},
   "outputs": [
    {
     "data": {
      "text/plain": [
       "\"\\nwhile True:\\n    plt.clf()\\n    slope+=1\\n    b+=1\\n    x = np.linspace(0, 10, 1000)\\n    plt.plot(x, f(x))\\n    f = lambda x: slope*x + b\\n    #plt.xlabel('x')\\n    #plt.ylabel('y')\\n    plt.title('Linear Depression')\\n    plt.show()\\n    if(slope>50):\\n        break\\n\""
      ]
     },
     "execution_count": 1,
     "metadata": {},
     "output_type": "execute_result"
    },
    {
     "data": {
      "image/png": "[encoded data removed]",
      "text/plain": [
       "<Figure size 432x288 with 1 Axes>"
      ]
     },
     "metadata": {},
     "output_type": "display_data"
    }
   ],
   "source": [
    "import numpy as np\n",
    "import matplotlib.pyplot as plt\n",
    "import pandas as pd\n",
    "import time\n",
    "from IPython import display\n",
    "%matplotlib inline\n",
    "\n",
    "f = lambda x: slope*x + b\n",
    "slope = -50\n",
    "b = -50\n",
    "\n",
    "while True:\n",
    "    try:\n",
    "        plt.clf()\n",
    "        slope+=1\n",
    "        #b+=1\n",
    "        x = np.linspace(0, 10, 1000)\n",
    "        plt.plot(x, f(x))\n",
    "        f = lambda x: slope*x + b\n",
    "        display.display(plt.gcf())\n",
    "        display.clear_output(wait=True)\n",
    "        #time.sleep(0.001)\n",
    "        if(slope>50):\n",
    "            break\n",
    "    except KeyboardInterrupt:\n",
    "        break\n",
    "'''\n",
    "while True:\n",
    "    plt.clf()\n",
    "    slope+=1\n",
    "    b+=1\n",
    "    x = np.linspace(0, 10, 1000)\n",
    "    plt.plot(x, f(x))\n",
    "    f = lambda x: slope*x + b\n",
    "    #plt.xlabel('x')\n",
    "    #plt.ylabel('y')\n",
    "    plt.title('Linear Depression')\n",
    "    plt.show()\n",
    "    if(slope>50):\n",
    "        break\n",
    "'''"
   ]
  },
  {
   "cell_type": "code",
   "execution_count": null,
   "metadata": {},
   "outputs": [],
   "source": []
  },
  {
   "cell_type": "code",
   "execution_count": null,
   "metadata": {},
   "outputs": [],
   "source": []
  },
  {
   "cell_type": "code",
   "execution_count": null,
   "metadata": {},
   "outputs": [],
   "source": []
  }
 ],
 "metadata": {
  "kernelspec": {
   "display_name": "Python 3",
   "language": "python",
   "name": "python3"
  },
  "language_info": {
   "codemirror_mode": {
    "name": "ipython",
    "version": 3
   },
   "file_extension": ".py",
   "mimetype": "text/x-python",
   "name": "python",
   "nbconvert_exporter": "python",
   "pygments_lexer": "ipython3",
   "version": "3.6.6"
  }
 },
 "nbformat": 4,
 "nbformat_minor": 2
}
