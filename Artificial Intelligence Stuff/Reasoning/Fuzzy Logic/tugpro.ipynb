{
 "cells": [
  {
   "cell_type": "code",
   "execution_count": 19,
   "metadata": {},
   "outputs": [],
   "source": [
    "import pandas as pd\n",
    "import matplotlib.pyplot as plt\n",
    "import numpy as np\n",
    "\n",
    "def tinggi(kiri,kanan,x):\n",
    "    if x<=kiri:\n",
    "        return 0\n",
    "    elif x>kanan:\n",
    "        return 1\n",
    "    return (x-kiri)/(kanan-kiri)\n",
    "def rendah(kiri,kanan,x):\n",
    "    if x<=kiri:\n",
    "        return 1\n",
    "    elif x>kanan:\n",
    "        return 0\n",
    "    return 1-((x-kiri)/(kanan-kiri))\n",
    "def sedang(kiri1,kiri2,kanan1,kanan2,x):\n",
    "    if x<=kiri1 or x>kanan2:\n",
    "        return 0\n",
    "    elif x>kiri1 and x<=kiri2:\n",
    "        return (x-kiri1)/(kiri2-kiri1)\n",
    "    elif x>kiri2 and x<=kanan1:\n",
    "        return 1\n",
    "    elif x>kanan1 and x<=kanan2:\n",
    "        return (kanan2-x)/(kanan2-kanan1)\n",
    "    return 0\n",
    "\n",
    "df=pd.read_csv(\"DataTugas2.csv\")"
   ]
  },
  {
   "cell_type": "code",
   "execution_count": 20,
   "metadata": {},
   "outputs": [],
   "source": [
    "tpkiri=1.5\n",
    "tpkanan=1.75\n",
    "rpkiri=0.5\n",
    "rpkanan=0.75\n",
    "spkiri1=0.65\n",
    "spkiri2=0.8\n",
    "spkanan1=1.4\n",
    "spkanan2=1.65\n",
    "thkiri=70\n",
    "thkanan=80\n",
    "rhkiri=20\n",
    "rhkanan=30\n",
    "shkiri1=25\n",
    "shkiri2=35\n",
    "shkanan1=65\n",
    "shkanan2=75\n",
    "\n",
    "df2=df\n",
    "df2['considered'] = df.apply(lambda row: max(min(tinggi(tpkiri,tpkanan,row[' Pendapatan']),tinggi(thkiri,thkanan,row[' Hutang'])),\n",
    "    min(sedang(spkiri1,spkiri2,spkanan1,spkanan2,row[' Pendapatan']),sedang(shkiri1,shkiri2,shkanan1,shkanan2,row[' Hutang'])),\n",
    "    min(rendah(rpkiri,rpkanan,row[' Pendapatan']),rendah(rhkiri,rhkanan,row[' Hutang']))), axis=1)\n",
    "df2['accepted'] = df.apply(lambda row: max(min(sedang(spkiri1,spkiri2,spkanan1,spkanan2,row[' Pendapatan']),tinggi(thkiri,thkanan,row[' Hutang'])),\n",
    "    min(rendah(rpkiri,rpkanan,row[' Pendapatan']),tinggi(thkiri,thkanan,row[' Hutang'])),\n",
    "    min(rendah(rpkiri,rpkanan,row[' Pendapatan']),sedang(shkiri1,shkiri2,shkanan1,shkanan2,row[' Hutang']))), axis=1)\n",
    "df2['rejected'] = df.apply(lambda row: max(min(tinggi(tpkiri,tpkanan,row[' Pendapatan']),sedang(shkiri1,shkiri2,shkanan1,shkanan2,row[' Hutang'])),\n",
    "    min(tinggi(tpkiri,tpkanan,row[' Pendapatan']),rendah(rhkiri,rhkanan,row[' Hutang'])),\n",
    "    min(sedang(spkiri1,spkiri2,spkanan1,spkanan2,row[' Pendapatan']),rendah(rhkiri,rhkanan,row[' Hutang']))), axis=1)"
   ]
  },
  {
   "cell_type": "code",
   "execution_count": 41,
   "metadata": {},
   "outputs": [],
   "source": [
    "def deffuzy(r, c, a):\n",
    "    return ((r * 40) + (c * 60) + (a * 90))/(r+c+a)\n",
    "df2['score'] = df.apply(lambda row: deffuzy(row['rejected'],row['considered'],row['accepted']), axis=1)"
   ]
  },
  {
   "cell_type": "code",
   "execution_count": 52,
   "metadata": {},
   "outputs": [],
   "source": [
    "df2=df2.sort_values(by=['score'], ascending=False)\n",
    "# print(df2)\n",
    "i=0\n",
    "has=[]\n",
    "for index, row in df2.iterrows():\n",
    "    if i<20:\n",
    "        has.append(index+1)\n",
    "    i+=1\n",
    "# print(has)\n",
    "expor = pd.DataFrame({'No':has})\n",
    "\n",
    "# print(expor)\n",
    "expor.to_csv(\"hasil.csv\", encoding='utf-8', index=False)\n",
    "#     print(row['No'], row['score'])"
   ]
  },
  {
   "cell_type": "code",
   "execution_count": null,
   "metadata": {},
   "outputs": [],
   "source": []
  }
 ],
 "metadata": {
  "kernelspec": {
   "display_name": "Python 3",
   "language": "python",
   "name": "python3"
  },
  "language_info": {
   "codemirror_mode": {
    "name": "ipython",
    "version": 3
   },
   "file_extension": ".py",
   "mimetype": "text/x-python",
   "name": "python",
   "nbconvert_exporter": "python",
   "pygments_lexer": "ipython3",
   "version": "3.6.6"
  }
 },
 "nbformat": 4,
 "nbformat_minor": 2
}
