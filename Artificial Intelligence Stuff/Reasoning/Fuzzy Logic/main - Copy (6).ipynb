{
 "cells": [
  {
   "cell_type": "code",
   "execution_count": 1,
   "metadata": {},
   "outputs": [],
   "source": [
    "import pandas as pd\n",
    "# import matplotlib as plt\n",
    "import matplotlib.pyplot as plt\n",
    "import numpy as np\n",
    "\n",
    "pend,hut=[],[]\n",
    "df=pd.read_csv(\"DataTugas2.csv\")\n",
    "pend=df[' Pendapatan'].values\n",
    "hut=df[' Hutang'].values"
   ]
  },
  {
   "cell_type": "code",
   "execution_count": 2,
   "metadata": {},
   "outputs": [
    {
     "name": "stdout",
     "output_type": "stream",
     "text": [
      "\n"
     ]
    },
    {
     "data": {
      "text/plain": [
       "(0, 100)"
      ]
     },
     "execution_count": 2,
     "metadata": {},
     "output_type": "execute_result"
    },
    {
     "data": {
      "image/png": "[encoded data removed]",
      "text/plain": [
       "<Figure size 432x288 with 2 Axes>"
      ]
     },
     "metadata": {},
     "output_type": "display_data"
    }
   ],
   "source": [
    "def hl(l,r,ek):\n",
    "    if ek<=l:\n",
    "        return 0\n",
    "    elif ek>r:\n",
    "        return 1\n",
    "    return (ek-l)/(r-l)\n",
    "def ll(l,r,ek):\n",
    "    if ek<=l:\n",
    "        return 1\n",
    "    elif ek>r:\n",
    "        return 0\n",
    "    return 1-((ek-l)/(r-l))\n",
    "def rg(l1,l2,r1,r2,ek):\n",
    "    if ek<=l1 or ek>r2:\n",
    "        return 0\n",
    "    elif ek>l1 and ek<=l2:\n",
    "        return (ek-l1)/(l2-l1)\n",
    "    elif ek>l2 and ek<=r1:\n",
    "        return 1\n",
    "    elif ek>r1 and ek<=r2:\n",
    "        return (r2-ek)/(r2-r1)\n",
    "    return 0\n",
    "\n",
    "phr=1.5\n",
    "phl=1.1\n",
    "plr=0.8\n",
    "pll=0.4\n",
    "pal1=0.4\n",
    "pal2=0.7\n",
    "par1=1.3\n",
    "par2=1.4\n",
    "\n",
    "hlr=30\n",
    "hll=15\n",
    "\n",
    "hal1=20\n",
    "hal2=32\n",
    "har1=48\n",
    "har2=59\n",
    "\n",
    "h2al1=50\n",
    "h2al2=60\n",
    "h2ar1=70\n",
    "h2ar2=78\n",
    "\n",
    "hhr=77\n",
    "hhl=64\n",
    "\n",
    "fig, axes = plt.subplots(nrows=2, sharex=False)\n",
    "x = np.linspace(0, 2, 100)\n",
    "axes[0].plot(x, [hl(phl,phr,xx) for xx in x])\n",
    "axes[0].plot(x, [ll(pll,plr,xx) for xx in x])\n",
    "axes[0].plot(x, [rg(pal1,pal2,par1,par2,xx) for xx in x])\n",
    "axes[0].set_xlim(0, 2)\n",
    "axes[0].set_ylim(-0.1, 1.1)\n",
    "\n",
    "print()\n",
    "x2 = np.linspace(0, 100, 500)\n",
    "axes[1].plot(x2, [hl(hhl,hhr,xx) for xx in x2])\n",
    "axes[1].plot(x2, [ll(hll,hlr,xx) for xx in x2])\n",
    "axes[1].plot(x2, [rg(hal1,hal2,har1,har2,xx) for xx in x2])\n",
    "axes[1].plot(x2, [rg(h2al1,h2al2,h2ar1,h2ar2,xx) for xx in x2])\n",
    "axes[1].set_xlim(0, 100)\n"
   ]
  },
  {
   "cell_type": "code",
   "execution_count": 3,
   "metadata": {},
   "outputs": [],
   "source": [
    "score=[]\n",
    "acr=[]\n",
    "i=0\n",
    "while i<len(pend):\n",
    "    score.append([\n",
    "        {'label':'considered','score':min(hl(phl,phr,pend[i]),hl(hhl,hhr,hut[i]))},\n",
    "        {'label':'rejected','score':min(hl(phl,phr,pend[i]),rg(hal1,hal2,har1,har2,hut[i]))},\n",
    "        {'label':'rejected','score':min(hl(phl,phr,pend[i]),rg(h2al1,h2al2,h2ar1,h2ar2,hut[i]))},\n",
    "        {'label':'rejected','score':min(hl(phl,phr,pend[i]),ll(hll,hlr,hut[i]))},\n",
    "        \n",
    "        {'label':'accepted','score':min(rg(pal1,pal2,par1,par2,pend[i]),hl(hhl,hhr,hut[i]))},\n",
    "        {'label':'considered','score':min(rg(pal1,pal2,par1,par2,pend[i]),rg(hal1,hal2,har1,har2,hut[i]))},\n",
    "        {'label':'accepted','score':min(rg(pal1,pal2,par1,par2,pend[i]),rg(h2al1,h2al2,h2ar1,h2ar2,hut[i]))},\n",
    "        {'label':'rejected','score':min(rg(pal1,pal2,par1,par2,pend[i]),ll(hll,hlr,hut[i]))},\n",
    "        \n",
    "        {'label':'accepted','score':min(ll(pll,plr,pend[i]),hl(hhl,hhr,hut[i]))},\n",
    "        {'label':'accepted','score':min(ll(pll,plr,pend[i]),rg(hal1,hal2,har1,har2,hut[i]))},\n",
    "        {'label':'considered','score':min(ll(pll,plr,pend[i]),rg(h2al1,h2al2,h2ar1,h2ar2,hut[i]))},\n",
    "        {'label':'considered','score':min(ll(pll,plr,pend[i]),ll(hll,hlr,hut[i]))},\n",
    "    ])\n",
    "    i+=1\n",
    "# print(score)"
   ]
  },
  {
   "cell_type": "code",
   "execution_count": 4,
   "metadata": {},
   "outputs": [],
   "source": [
    "i=0\n",
    "while i<len(pend):\n",
    "    cons=[]\n",
    "    acc=[]\n",
    "    rej=[]\n",
    "    j=0\n",
    "    while j<len(score[i]):\n",
    "        if score[i][j]['label']=='considered':\n",
    "            cons.append(score[i][j]['score'])\n",
    "        elif score[i][j]['label']=='accepted':\n",
    "            acc.append(score[i][j]['score'])\n",
    "        elif score[i][j]['label']=='rejected':\n",
    "            rej.append(score[i][j]['score'])\n",
    "        j+=1\n",
    "    acr.append({'considered':max(cons),'accepted':max(acc),'rejected':max(rej)})\n",
    "    i+=1\n",
    "# print(acr)"
   ]
  },
  {
   "cell_type": "code",
   "execution_count": 41,
   "metadata": {
    "scrolled": false
   },
   "outputs": [
    {
     "name": "stdout",
     "output_type": "stream",
     "text": [
      "[36, 9, 44, 74, 92, 24, 61, 47, 21, 15, 62, 77, 22, 66, 6, 3, 41, 23, 34, 49]\n",
      "[20, 21, 22, 23, 24, 25, 26, 27, 28, 29, 30, 31, 32, 33, 34, 35, 36, 37, 38, 39, 40, 41, 42, 43, 44, 45, 46, 47, 48, 49, 50, 51, 52, 53, 54, 55, 56, 57, 58, 59, 60, 61, 62, 63, 64, 65, 66, 67, 68, 69, 70, 71, 72, 73, 74, 75, 76, 77, 78, 79, 80, 81, 82, 83, 84, 85, 86, 87, 88, 89, 90, 91, 92, 93, 94, 95, 96, 97, 98, 99]\n",
      "    No   Pendapatan   Hutang      score\n",
      "35  36        0.946   98.000  80.000000\n",
      "8    9        0.806   69.192  80.000000\n",
      "43  44        0.902   68.021  80.000000\n",
      "73  74        0.600   80.864  80.000000\n",
      "91  92        0.817   62.427  80.000000\n",
      "23  24        0.819   60.764  80.000000\n",
      "60  61        0.880   79.878  80.000000\n",
      "46  47        0.780   78.054  80.000000\n",
      "20  21        0.155   29.496  78.778083\n",
      "14  15        0.428   38.739  77.263844\n",
      "61  62        1.159   87.871  76.143791\n",
      "76  77        1.217   82.991  73.210832\n",
      "21  22        0.828   56.747  73.013737\n",
      "65  66        0.666   60.245  71.773533\n",
      "5    6        0.664   63.226  71.639344\n",
      "2    3        1.273   80.701  70.942408\n",
      "40  41        1.159   68.120  70.888031\n",
      "22  23        0.112   26.202  70.135492\n",
      "33  34        0.515   41.771  69.505703\n",
      "48  49        0.516   43.660  69.422492\n",
      "52  53        0.473   28.740  69.106410\n",
      "87  88        1.209   67.625  65.889968\n",
      "92  93        0.557   29.517  65.116506\n",
      "58  59        0.493   27.813  65.011971\n",
      "63  64        0.588   35.480  63.746398\n",
      "18  19        0.599   45.566  62.930665\n",
      "17  18        1.345   76.343  59.022543\n",
      "79  80        0.664   39.692  58.360656\n",
      "34  35        1.325   70.009  56.338990\n",
      "56  57        1.336   62.094  56.016260\n",
      "..  ..          ...      ...        ...\n",
      "11  12        1.617   55.544  30.000000\n",
      "86  87        1.593   41.325  30.000000\n",
      "24  25        1.723   33.533  30.000000\n",
      "19  20        1.763   55.289  30.000000\n",
      "89  90        1.586   38.999  30.000000\n",
      "10  11        1.548   53.764  30.000000\n",
      "25  26        1.410   25.133  30.000000\n",
      "93  94        1.474   56.534  30.000000\n",
      "7    8        0.925    0.000  30.000000\n",
      "6    7        1.680   37.761  30.000000\n",
      "4    5        1.596   37.319  30.000000\n",
      "98  99        0.816   18.123  30.000000\n",
      "85  86        1.531   21.480  30.000000\n",
      "83  84        1.643   57.308  30.000000\n",
      "54  55        1.623   41.850  30.000000\n",
      "28  29        1.684   45.068  30.000000\n",
      "80  81        1.164   18.112  30.000000\n",
      "29  30        1.794   24.110  30.000000\n",
      "77  78        1.900   32.769  30.000000\n",
      "36  37        1.755   42.045  30.000000\n",
      "44  45        1.736   27.340  30.000000\n",
      "45  46        1.714   36.429  30.000000\n",
      "49  50        1.818   49.628  30.000000\n",
      "51  52        1.551   51.746  30.000000\n",
      "71  72        1.641   46.775  30.000000\n",
      "70  71        1.046   13.541  30.000000\n",
      "68  69        1.218   17.396  30.000000\n",
      "0    1        1.632   39.375  30.000000\n",
      "81  82        1.804   27.693  30.000000\n",
      "97  98        1.406   46.838  30.000000\n",
      "\n",
      "[100 rows x 4 columns]\n"
     ]
    }
   ],
   "source": [
    "# import operator\n",
    "def deff(r, c, a):\n",
    "    return ((r * 30) + (c * 50) + (a * 80))/(r+c+a)\n",
    "results=[]\n",
    "result=[]\n",
    "resrej=[]\n",
    "score=[]\n",
    "has=[]\n",
    "i=0\n",
    "df2=df\n",
    "while i<len(acr):\n",
    "    results.append({'index':i+1,'score':deff(acr[i]['rejected'],acr[i]['considered'],acr[i]['accepted'])})\n",
    "    score.append(deff(acr[i]['rejected'],acr[i]['considered'],acr[i]['accepted']))\n",
    "    i+=1\n",
    "se = pd.Series(score)\n",
    "df2['score'] = se.values\n",
    "    \n",
    "# for foo in sorted(results, key=operator.itemgetter(\"score\"),reverse=True):\n",
    "#     result.append(foo)\n",
    "# i=0\n",
    "# while i<len(result):\n",
    "#     if(i>=20):\n",
    "#         resrej.append(result[i]['index']-1)\n",
    "#     i+=1\n",
    "\n",
    "\n",
    "df2=df2.sort_values(by=['score'], ascending=False)\n",
    "\n",
    "i=0\n",
    "for index, row in df2.iterrows():\n",
    "    if i<20:\n",
    "        has.append(index+1)\n",
    "    else:\n",
    "        resrej.append(i)\n",
    "    i+=1\n",
    "\n",
    "print(has)\n",
    "print(resrej)\n",
    "print(df2)\n",
    "# se = pd.Series(score)"
   ]
  },
  {
   "cell_type": "code",
   "execution_count": 42,
   "metadata": {},
   "outputs": [
    {
     "name": "stdout",
     "output_type": "stream",
     "text": [
      "    No   Pendapatan   Hutang      score\n",
      "35  36        0.946   98.000  80.000000\n",
      "8    9        0.806   69.192  80.000000\n",
      "43  44        0.902   68.021  80.000000\n",
      "73  74        0.600   80.864  80.000000\n",
      "91  92        0.817   62.427  80.000000\n",
      "23  24        0.819   60.764  80.000000\n",
      "60  61        0.880   79.878  80.000000\n",
      "46  47        0.780   78.054  80.000000\n",
      "20  21        0.155   29.496  78.778083\n",
      "14  15        0.428   38.739  77.263844\n",
      "61  62        1.159   87.871  76.143791\n",
      "76  77        1.217   82.991  73.210832\n",
      "21  22        0.828   56.747  73.013737\n",
      "65  66        0.666   60.245  71.773533\n",
      "5    6        0.664   63.226  71.639344\n",
      "2    3        1.273   80.701  70.942408\n",
      "40  41        1.159   68.120  70.888031\n",
      "22  23        0.112   26.202  70.135492\n",
      "33  34        0.515   41.771  69.505703\n",
      "48  49        0.516   43.660  69.422492\n"
     ]
    },
    {
     "data": {
      "text/plain": [
       "<matplotlib.axes._subplots.AxesSubplot at 0x2204d5f7390>"
      ]
     },
     "execution_count": 42,
     "metadata": {},
     "output_type": "execute_result"
    },
    {
     "data": {
      "image/png": "[encoded data removed]",
      "text/plain": [
       "<Figure size 432x288 with 1 Axes>"
      ]
     },
     "metadata": {},
     "output_type": "display_data"
    }
   ],
   "source": [
    "df2=df2.drop(df2.index[resrej])\n",
    "print(df2)\n",
    "ax1 = df.plot.scatter(x=' Pendapatan',y=' Hutang')\n",
    "df2.plot.scatter(x=' Pendapatan',y=' Hutang',ax=ax1,color='#ff0000')"
   ]
  },
  {
   "cell_type": "code",
   "execution_count": 43,
   "metadata": {},
   "outputs": [],
   "source": [
    "re=[]\n",
    "i=0\n",
    "for index, row in df2.iterrows():\n",
    "    if i<20:\n",
    "        re.append(index+1)\n",
    "    i+=1\n",
    "sil = pd.DataFrame(re)\n",
    "sil.to_csv(\"TebakanTugas2.csv\", encoding='utf-8', index=False,header=False)"
   ]
  },
  {
   "cell_type": "code",
   "execution_count": null,
   "metadata": {},
   "outputs": [],
   "source": []
  }
 ],
 "metadata": {
  "kernelspec": {
   "display_name": "Python 3",
   "language": "python",
   "name": "python3"
  },
  "language_info": {
   "codemirror_mode": {
    "name": "ipython",
    "version": 3
   },
   "file_extension": ".py",
   "mimetype": "text/x-python",
   "name": "python",
   "nbconvert_exporter": "python",
   "pygments_lexer": "ipython3",
   "version": "3.6.6"
  }
 },
 "nbformat": 4,
 "nbformat_minor": 2
}
