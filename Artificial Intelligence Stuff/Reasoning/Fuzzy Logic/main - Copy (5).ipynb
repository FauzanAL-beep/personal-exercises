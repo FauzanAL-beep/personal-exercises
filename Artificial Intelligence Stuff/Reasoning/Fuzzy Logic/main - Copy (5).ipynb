{
 "cells": [
  {
   "cell_type": "code",
   "execution_count": 4,
   "metadata": {},
   "outputs": [],
   "source": [
    "import pandas as pd\n",
    "# import matplotlib as plt\n",
    "import matplotlib.pyplot as plt\n",
    "import numpy as np\n",
    "\n",
    "pend,hut=[],[]\n",
    "df=pd.read_csv(\"DataTugas2.csv\")\n",
    "pend=df[' Pendapatan'].values\n",
    "hut=df[' Hutang'].values"
   ]
  },
  {
   "cell_type": "code",
   "execution_count": 5,
   "metadata": {},
   "outputs": [
    {
     "name": "stdout",
     "output_type": "stream",
     "text": [
      "\n"
     ]
    },
    {
     "data": {
      "text/plain": [
       "(0, 100)"
      ]
     },
     "execution_count": 5,
     "metadata": {},
     "output_type": "execute_result"
    },
    {
     "data": {
      "image/png": "[encoded data removed]",
      "text/plain": [
       "<Figure size 432x288 with 2 Axes>"
      ]
     },
     "metadata": {},
     "output_type": "display_data"
    }
   ],
   "source": [
    "def hl(l,r,ek):\n",
    "    if ek<=l:\n",
    "        return 0\n",
    "    elif ek>r:\n",
    "        return 1\n",
    "    return (ek-l)/(r-l)\n",
    "def ll(l,r,ek):\n",
    "    if ek<=l:\n",
    "        return 1\n",
    "    elif ek>r:\n",
    "        return 0\n",
    "    return 1-((ek-l)/(r-l))\n",
    "def rg(l1,l2,r1,r2,ek):\n",
    "    if ek<=l1 or ek>r2:\n",
    "        return 0\n",
    "    elif ek>l1 and ek<=l2:\n",
    "        return (ek-l1)/(l2-l1)\n",
    "    elif ek>l2 and ek<=r1:\n",
    "        return 1\n",
    "    elif ek>r1 and ek<=r2:\n",
    "        return (r2-ek)/(r2-r1)\n",
    "    return 0\n",
    "\n",
    "phr=1.5\n",
    "phl=1.1\n",
    "plr=0.8\n",
    "pll=0.4\n",
    "pal1=0.4\n",
    "pal2=0.7\n",
    "par1=1.3\n",
    "par2=1.4\n",
    "\n",
    "hlr=30\n",
    "hll=15\n",
    "\n",
    "hal1=20\n",
    "hal2=32\n",
    "har1=48\n",
    "har2=59\n",
    "\n",
    "h2al1=50\n",
    "h2al2=60\n",
    "h2ar1=70\n",
    "h2ar2=78\n",
    "\n",
    "hhr=77\n",
    "hhl=64\n",
    "\n",
    "fig, axes = plt.subplots(nrows=2, sharex=False)\n",
    "x = np.linspace(0, 2, 100)\n",
    "axes[0].plot(x, [hl(phl,phr,xx) for xx in x])\n",
    "axes[0].plot(x, [ll(pll,plr,xx) for xx in x])\n",
    "axes[0].plot(x, [rg(pal1,pal2,par1,par2,xx) for xx in x])\n",
    "axes[0].set_xlim(0, 2)\n",
    "axes[0].set_ylim(-0.1, 1.1)\n",
    "\n",
    "print()\n",
    "x2 = np.linspace(0, 100, 500)\n",
    "axes[1].plot(x2, [hl(hhl,hhr,xx) for xx in x2])\n",
    "axes[1].plot(x2, [ll(hll,hlr,xx) for xx in x2])\n",
    "axes[1].plot(x2, [rg(hal1,hal2,har1,har2,xx) for xx in x2])\n",
    "axes[1].plot(x2, [rg(h2al1,h2al2,h2ar1,h2ar2,xx) for xx in x2])\n",
    "axes[1].set_xlim(0, 100)\n"
   ]
  },
  {
   "cell_type": "code",
   "execution_count": 6,
   "metadata": {},
   "outputs": [],
   "source": [
    "score=[]\n",
    "acr=[]\n",
    "i=0\n",
    "while i<len(pend):\n",
    "    score.append([\n",
    "        {'label':'considered','score':min(hl(phl,phr,pend[i]),hl(hhl,hhr,hut[i]))},\n",
    "        {'label':'rejected','score':min(hl(phl,phr,pend[i]),rg(hal1,hal2,har1,har2,hut[i]))},\n",
    "        {'label':'rejected','score':min(hl(phl,phr,pend[i]),rg(h2al1,h2al2,h2ar1,h2ar2,hut[i]))},\n",
    "        {'label':'rejected','score':min(hl(phl,phr,pend[i]),ll(hll,hlr,hut[i]))},\n",
    "        \n",
    "        {'label':'accepted','score':min(rg(pal1,pal2,par1,par2,pend[i]),hl(hhl,hhr,hut[i]))},\n",
    "        {'label':'considered','score':min(rg(pal1,pal2,par1,par2,pend[i]),rg(hal1,hal2,har1,har2,hut[i]))},\n",
    "        {'label':'accepted','score':min(rg(pal1,pal2,par1,par2,pend[i]),rg(h2al1,h2al2,h2ar1,h2ar2,hut[i]))},\n",
    "        {'label':'rejected','score':min(rg(pal1,pal2,par1,par2,pend[i]),ll(hll,hlr,hut[i]))},\n",
    "        \n",
    "        {'label':'accepted','score':min(ll(pll,plr,pend[i]),hl(hhl,hhr,hut[i]))},\n",
    "        {'label':'accepted','score':min(ll(pll,plr,pend[i]),rg(hal1,hal2,har1,har2,hut[i]))},\n",
    "        {'label':'considered','score':min(ll(pll,plr,pend[i]),rg(h2al1,h2al2,h2ar1,h2ar2,hut[i]))},\n",
    "        {'label':'considered','score':min(ll(pll,plr,pend[i]),ll(hll,hlr,hut[i]))},\n",
    "    ])\n",
    "    i+=1\n",
    "# print(score)"
   ]
  },
  {
   "cell_type": "code",
   "execution_count": 7,
   "metadata": {},
   "outputs": [],
   "source": [
    "i=0\n",
    "while i<len(pend):\n",
    "    cons=[]\n",
    "    acc=[]\n",
    "    rej=[]\n",
    "    j=0\n",
    "    while j<len(score[i]):\n",
    "        if score[i][j]['label']=='considered':\n",
    "            cons.append(score[i][j]['score'])\n",
    "        elif score[i][j]['label']=='accepted':\n",
    "            acc.append(score[i][j]['score'])\n",
    "        elif score[i][j]['label']=='rejected':\n",
    "            rej.append(score[i][j]['score'])\n",
    "        j+=1\n",
    "    acr.append({'considered':max(cons),'accepted':max(acc),'rejected':max(rej)})\n",
    "    i+=1\n",
    "# print(acr)"
   ]
  },
  {
   "cell_type": "code",
   "execution_count": 16,
   "metadata": {
    "scrolled": false
   },
   "outputs": [
    {
     "ename": "AttributeError",
     "evalue": "'list' object has no attribute 'values'",
     "output_type": "error",
     "traceback": [
      "\u001b[1;31m---------------------------------------------------------------------------\u001b[0m",
      "\u001b[1;31mAttributeError\u001b[0m                            Traceback (most recent call last)",
      "\u001b[1;32m<ipython-input-16-f9c1605c4672>\u001b[0m in \u001b[0;36m<module>\u001b[1;34m()\u001b[0m\n\u001b[0;32m     12\u001b[0m     \u001b[0mscore\u001b[0m\u001b[1;33m.\u001b[0m\u001b[0mappend\u001b[0m\u001b[1;33m(\u001b[0m\u001b[0mdeff\u001b[0m\u001b[1;33m(\u001b[0m\u001b[0macr\u001b[0m\u001b[1;33m[\u001b[0m\u001b[0mi\u001b[0m\u001b[1;33m]\u001b[0m\u001b[1;33m[\u001b[0m\u001b[1;34m'rejected'\u001b[0m\u001b[1;33m]\u001b[0m\u001b[1;33m,\u001b[0m\u001b[0macr\u001b[0m\u001b[1;33m[\u001b[0m\u001b[0mi\u001b[0m\u001b[1;33m]\u001b[0m\u001b[1;33m[\u001b[0m\u001b[1;34m'considered'\u001b[0m\u001b[1;33m]\u001b[0m\u001b[1;33m,\u001b[0m\u001b[0macr\u001b[0m\u001b[1;33m[\u001b[0m\u001b[0mi\u001b[0m\u001b[1;33m]\u001b[0m\u001b[1;33m[\u001b[0m\u001b[1;34m'accepted'\u001b[0m\u001b[1;33m]\u001b[0m\u001b[1;33m)\u001b[0m\u001b[1;33m)\u001b[0m\u001b[1;33m\u001b[0m\u001b[0m\n\u001b[0;32m     13\u001b[0m     \u001b[0mi\u001b[0m\u001b[1;33m+=\u001b[0m\u001b[1;36m1\u001b[0m\u001b[1;33m\u001b[0m\u001b[0m\n\u001b[1;32m---> 14\u001b[1;33m \u001b[0mdf2\u001b[0m\u001b[1;33m[\u001b[0m\u001b[1;34m'new_col'\u001b[0m\u001b[1;33m]\u001b[0m \u001b[1;33m=\u001b[0m \u001b[0mscore\u001b[0m\u001b[1;33m.\u001b[0m\u001b[0mvalues\u001b[0m\u001b[1;33m\u001b[0m\u001b[0m\n\u001b[0m\u001b[0;32m     15\u001b[0m \u001b[1;33m\u001b[0m\u001b[0m\n\u001b[0;32m     16\u001b[0m \u001b[1;32mfor\u001b[0m \u001b[0mfoo\u001b[0m \u001b[1;32min\u001b[0m \u001b[0msorted\u001b[0m\u001b[1;33m(\u001b[0m\u001b[0mresults\u001b[0m\u001b[1;33m,\u001b[0m \u001b[0mkey\u001b[0m\u001b[1;33m=\u001b[0m\u001b[0moperator\u001b[0m\u001b[1;33m.\u001b[0m\u001b[0mitemgetter\u001b[0m\u001b[1;33m(\u001b[0m\u001b[1;34m\"score\"\u001b[0m\u001b[1;33m)\u001b[0m\u001b[1;33m,\u001b[0m\u001b[0mreverse\u001b[0m\u001b[1;33m=\u001b[0m\u001b[1;32mTrue\u001b[0m\u001b[1;33m)\u001b[0m\u001b[1;33m:\u001b[0m\u001b[1;33m\u001b[0m\u001b[0m\n",
      "\u001b[1;31mAttributeError\u001b[0m: 'list' object has no attribute 'values'"
     ]
    }
   ],
   "source": [
    "import operator\n",
    "def deff(r, c, a):\n",
    "    return ((r * 30) + (c * 50) + (a * 80))/(r+c+a)\n",
    "results=[]\n",
    "result=[]\n",
    "resrej=[]\n",
    "score=[]\n",
    "i=0\n",
    "df2=df\n",
    "while i<len(acr):\n",
    "    results.append({'index':i+1,'score':deff(acr[i]['rejected'],acr[i]['considered'],acr[i]['accepted'])})\n",
    "    score.append(deff(acr[i]['rejected'],acr[i]['considered'],acr[i]['accepted']))\n",
    "    i+=1\n",
    "se = pd.Series(score)\n",
    "df2['new_col'] = se.values\n",
    "    \n",
    "for foo in sorted(results, key=operator.itemgetter(\"score\"),reverse=True):\n",
    "    result.append(foo)\n",
    "i=0\n",
    "while i<len(result):\n",
    "    if(i>=20):\n",
    "        resrej.append(result[i]['index']-1)\n",
    "    i+=1\n",
    "# se = pd.Series(score)"
   ]
  },
  {
   "cell_type": "code",
   "execution_count": 9,
   "metadata": {},
   "outputs": [
    {
     "name": "stdout",
     "output_type": "stream",
     "text": [
      "    No   Pendapatan   Hutang\n",
      "2    3        1.273   80.701\n",
      "5    6        0.664   63.226\n",
      "8    9        0.806   69.192\n",
      "14  15        0.428   38.739\n",
      "20  21        0.155   29.496\n",
      "21  22        0.828   56.747\n",
      "22  23        0.112   26.202\n",
      "23  24        0.819   60.764\n",
      "33  34        0.515   41.771\n",
      "35  36        0.946   98.000\n",
      "40  41        1.159   68.120\n",
      "43  44        0.902   68.021\n",
      "46  47        0.780   78.054\n",
      "48  49        0.516   43.660\n",
      "60  61        0.880   79.878\n",
      "61  62        1.159   87.871\n",
      "65  66        0.666   60.245\n",
      "73  74        0.600   80.864\n",
      "76  77        1.217   82.991\n",
      "91  92        0.817   62.427\n"
     ]
    },
    {
     "data": {
      "text/plain": [
       "<matplotlib.axes._subplots.AxesSubplot at 0x177f0c115c0>"
      ]
     },
     "execution_count": 9,
     "metadata": {},
     "output_type": "execute_result"
    },
    {
     "data": {
      "image/png": "[encoded data removed]",
      "text/plain": [
       "<Figure size 432x288 with 1 Axes>"
      ]
     },
     "metadata": {},
     "output_type": "display_data"
    }
   ],
   "source": [
    "\n",
    "df2=df\n",
    "# df2=df2.drop(df2.index[resrej])\n",
    "print(df2)\n",
    "ax1 = df.plot.scatter(x=' Pendapatan',y=' Hutang')\n",
    "df2.plot.scatter(x=' Pendapatan',y=' Hutang',ax=ax1,color='#ff0000')"
   ]
  },
  {
   "cell_type": "code",
   "execution_count": 15,
   "metadata": {},
   "outputs": [],
   "source": [
    "re=[]\n",
    "i=0\n",
    "for index, row in df2.iterrows():\n",
    "    if i<20:\n",
    "        re.append(index+1)\n",
    "    i+=1\n",
    "sil = pd.DataFrame(re)\n",
    "sil.to_csv(\"TebakanTugas2.csv\", encoding='utf-8', index=False,header=False)"
   ]
  },
  {
   "cell_type": "code",
   "execution_count": null,
   "metadata": {},
   "outputs": [],
   "source": []
  }
 ],
 "metadata": {
  "kernelspec": {
   "display_name": "Python 3",
   "language": "python",
   "name": "python3"
  },
  "language_info": {
   "codemirror_mode": {
    "name": "ipython",
    "version": 3
   },
   "file_extension": ".py",
   "mimetype": "text/x-python",
   "name": "python",
   "nbconvert_exporter": "python",
   "pygments_lexer": "ipython3",
   "version": "3.6.6"
  }
 },
 "nbformat": 4,
 "nbformat_minor": 2
}
