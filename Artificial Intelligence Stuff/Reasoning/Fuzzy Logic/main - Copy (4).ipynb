{
 "cells": [
  {
   "cell_type": "code",
   "execution_count": 109,
   "metadata": {},
   "outputs": [],
   "source": [
    "import pandas as pd\n",
    "# import matplotlib as plt\n",
    "import matplotlib.pyplot as plt\n",
    "import numpy as np\n",
    "\n"
   ]
  },
  {
   "cell_type": "code",
   "execution_count": 110,
   "metadata": {},
   "outputs": [
    {
     "name": "stdout",
     "output_type": "stream",
     "text": [
      "\n"
     ]
    },
    {
     "data": {
      "text/plain": [
       "(0, 100)"
      ]
     },
     "execution_count": 110,
     "metadata": {},
     "output_type": "execute_result"
    },
    {
     "data": {
      "image/png": "[encoded data removed]",
      "text/plain": [
       "<Figure size 432x288 with 2 Axes>"
      ]
     },
     "metadata": {},
     "output_type": "display_data"
    }
   ],
   "source": [
    "def hl(l,r,ek):\n",
    "    if ek<=l:\n",
    "        return 0\n",
    "    elif ek>r:\n",
    "        return 1\n",
    "    return (ek-l)/(r-l)\n",
    "def ll(l,r,ek):\n",
    "    if ek<=l:\n",
    "        return 1\n",
    "    elif ek>r:\n",
    "        return 0\n",
    "    return 1-((ek-l)/(r-l))\n",
    "def rg(l1,l2,r1,r2,ek):\n",
    "    if ek<=l1 or ek>r2:\n",
    "        return 0\n",
    "    elif ek>l1 and ek<=l2:\n",
    "        return (ek-l1)/(l2-l1)\n",
    "    elif ek>l2 and ek<=r1:\n",
    "        return 1\n",
    "    elif ek>r1 and ek<=r2:\n",
    "        return (r2-ek)/(r2-r1)\n",
    "    return 0\n",
    "\n",
    "phr=1.5\n",
    "phl=1.1\n",
    "plr=0.8\n",
    "pll=0.4\n",
    "pal1=0.4\n",
    "pal2=0.7\n",
    "par1=1.3\n",
    "par2=1.4\n",
    "\n",
    "hlr=30\n",
    "hll=15\n",
    "\n",
    "hal1=20\n",
    "hal2=32\n",
    "har1=48\n",
    "har2=59\n",
    "\n",
    "h2al1=50\n",
    "h2al2=60\n",
    "h2ar1=70\n",
    "h2ar2=78\n",
    "\n",
    "hhr=77\n",
    "hhl=64\n",
    "\n",
    "fig, axes = plt.subplots(nrows=2, sharex=False)\n",
    "x = np.linspace(0, 2, 100)\n",
    "axes[0].plot(x, [hl(phl,phr,xx) for xx in x])\n",
    "axes[0].plot(x, [ll(pll,plr,xx) for xx in x])\n",
    "axes[0].plot(x, [rg(pal1,pal2,par1,par2,xx) for xx in x])\n",
    "axes[0].set_xlim(0, 2)\n",
    "axes[0].set_ylim(-0.1, 1.1)\n",
    "\n",
    "print()\n",
    "x2 = np.linspace(0, 100, 500)\n",
    "axes[1].plot(x2, [hl(hhl,hhr,xx) for xx in x2])\n",
    "axes[1].plot(x2, [ll(hll,hlr,xx) for xx in x2])\n",
    "axes[1].plot(x2, [rg(hal1,hal2,har1,har2,xx) for xx in x2])\n",
    "axes[1].plot(x2, [rg(h2al1,h2al2,h2ar1,h2ar2,xx) for xx in x2])\n",
    "axes[1].set_xlim(0, 100)\n"
   ]
  },
  {
   "cell_type": "code",
   "execution_count": 111,
   "metadata": {},
   "outputs": [],
   "source": [
    "score=[]\n",
    "acr=[]\n",
    "i=0\n",
    "while i<len(pend):\n",
    "    score.append([\n",
    "        {'label':'considered','score':min(hl(phl,phr,pend[i]),hl(hhl,hhr,hut[i]))},\n",
    "        {'label':'rejected','score':min(hl(phl,phr,pend[i]),rg(hal1,hal2,har1,har2,hut[i]))},\n",
    "        {'label':'rejected','score':min(hl(phl,phr,pend[i]),rg(h2al1,h2al2,h2ar1,h2ar2,hut[i]))},\n",
    "        {'label':'rejected','score':min(hl(phl,phr,pend[i]),ll(hll,hlr,hut[i]))},\n",
    "        \n",
    "        {'label':'accepted','score':min(rg(pal1,pal2,par1,par2,pend[i]),hl(hhl,hhr,hut[i]))},\n",
    "        {'label':'considered','score':min(rg(pal1,pal2,par1,par2,pend[i]),rg(hal1,hal2,har1,har2,hut[i]))},\n",
    "        {'label':'accepted','score':min(rg(pal1,pal2,par1,par2,pend[i]),rg(h2al1,h2al2,h2ar1,h2ar2,hut[i]))},\n",
    "        {'label':'rejected','score':min(rg(pal1,pal2,par1,par2,pend[i]),ll(hll,hlr,hut[i]))},\n",
    "        \n",
    "        {'label':'accepted','score':min(ll(pll,plr,pend[i]),hl(hhl,hhr,hut[i]))},\n",
    "        {'label':'accepted','score':min(ll(pll,plr,pend[i]),rg(hal1,hal2,har1,har2,hut[i]))},\n",
    "        {'label':'considered','score':min(ll(pll,plr,pend[i]),rg(h2al1,h2al2,h2ar1,h2ar2,hut[i]))},\n",
    "        {'label':'considered','score':min(ll(pll,plr,pend[i]),ll(hll,hlr,hut[i]))},\n",
    "    ])\n",
    "    i+=1\n",
    "# print(score)"
   ]
  },
  {
   "cell_type": "code",
   "execution_count": 112,
   "metadata": {},
   "outputs": [],
   "source": [
    "i=0\n",
    "while i<len(pend):\n",
    "    cons=[]\n",
    "    acc=[]\n",
    "    rej=[]\n",
    "    j=0\n",
    "    while j<len(score[i]):\n",
    "        if score[i][j]['label']=='considered':\n",
    "            cons.append(score[i][j]['score'])\n",
    "        elif score[i][j]['label']=='accepted':\n",
    "            acc.append(score[i][j]['score'])\n",
    "        elif score[i][j]['label']=='rejected':\n",
    "            rej.append(score[i][j]['score'])\n",
    "        j+=1\n",
    "    acr.append({'considered':max(cons),'accepted':max(acc),'rejected':max(rej)})\n",
    "    i+=1\n",
    "# print(acr)"
   ]
  },
  {
   "cell_type": "code",
   "execution_count": 117,
   "metadata": {
    "scrolled": false
   },
   "outputs": [
    {
     "name": "stdout",
     "output_type": "stream",
     "text": [
      "[52, 87, 92, 58, 63, 18, 17, 79, 34, 56, 38, 94, 88, 59, 31, 42, 13, 75, 1, 12, 32, 47, 72, 82, 95, 69, 67, 37, 99, 57, 55, 39, 9, 16, 41, 64, 26, 15, 84, 3, 27, 66, 96, 30, 74, 50, 78, 53, 90, 0, 4, 6, 7, 10, 11, 19, 24, 25, 28, 29, 36, 44, 45, 49, 51, 54, 62, 68, 70, 71, 77, 80, 83, 85, 86, 89, 93, 98, 81, 97]\n"
     ]
    }
   ],
   "source": [
    "import operator\n",
    "def deff(r, c, a):\n",
    "    return ((r * 30) + (c * 50) + (a * 80))/(r+c+a)\n",
    "results=[]\n",
    "result=[]\n",
    "resrej=[]\n",
    "i=0\n",
    "while i<len(acr):\n",
    "    results.append({'index':i+1,'score':deff(acr[i]['rejected'],acr[i]['considered'],acr[i]['accepted'])})\n",
    "    i+=1\n",
    "for foo in sorted(results, key=operator.itemgetter(\"score\"),reverse=True):\n",
    "    result.append(foo)\n",
    "i=0\n",
    "while i<len(result):\n",
    "    if(i>=20):\n",
    "        resrej.append(result[i]['index']-1)\n",
    "    i+=1"
   ]
  },
  {
   "cell_type": "code",
   "execution_count": 118,
   "metadata": {},
   "outputs": [
    {
     "name": "stdout",
     "output_type": "stream",
     "text": [
      "    No   Pendapatan   Hutang\n",
      "2    3        1.273   80.701\n",
      "5    6        0.664   63.226\n",
      "8    9        0.806   69.192\n",
      "14  15        0.428   38.739\n",
      "20  21        0.155   29.496\n",
      "21  22        0.828   56.747\n",
      "22  23        0.112   26.202\n",
      "23  24        0.819   60.764\n",
      "33  34        0.515   41.771\n",
      "35  36        0.946   98.000\n",
      "40  41        1.159   68.120\n",
      "43  44        0.902   68.021\n",
      "46  47        0.780   78.054\n",
      "48  49        0.516   43.660\n",
      "60  61        0.880   79.878\n",
      "61  62        1.159   87.871\n",
      "65  66        0.666   60.245\n",
      "73  74        0.600   80.864\n",
      "76  77        1.217   82.991\n",
      "91  92        0.817   62.427\n"
     ]
    },
    {
     "data": {
      "text/plain": [
       "<matplotlib.axes._subplots.AxesSubplot at 0x1e4d48d6ac8>"
      ]
     },
     "execution_count": 118,
     "metadata": {},
     "output_type": "execute_result"
    },
    {
     "data": {
      "image/png": "[encoded data removed]",
      "text/plain": [
       "<Figure size 432x288 with 1 Axes>"
      ]
     },
     "metadata": {},
     "output_type": "display_data"
    }
   ],
   "source": [
    "df=pd.read_csv(\"DataTugas2.csv\")\n",
    "df2=df\n",
    "df2=df2.drop(df2.index[resrej])\n",
    "print(df2)\n",
    "# ax2 = df2.plot.scatter(x=' Pendapatan',y=' Hutang')\n",
    "ax1 = df.plot.scatter(x=' Pendapatan',y=' Hutang')\n",
    "df2.plot.scatter(x=' Pendapatan',y=' Hutang',ax=ax1,color='#ff0000')"
   ]
  },
  {
   "cell_type": "code",
   "execution_count": 95,
   "metadata": {},
   "outputs": [],
   "source": [
    "# df2=df\n",
    "# df2=df2.drop(df2.index[listtodrop])\n",
    "# print(df)\n",
    "# print(df2)"
   ]
  },
  {
   "cell_type": "code",
   "execution_count": 96,
   "metadata": {},
   "outputs": [
    {
     "name": "stdout",
     "output_type": "stream",
     "text": [
      "     No   Pendapatan   Hutang       rat\n",
      "22   23        0.112   26.202  0.004274\n",
      "20   21        0.155   29.496  0.005255\n",
      "73   74        0.600   80.864  0.007420\n",
      "35   36        0.946   98.000  0.009653\n",
      "46   47        0.780   78.054  0.009993\n",
      "5     6        0.664   63.226  0.010502\n",
      "60   61        0.880   79.878  0.011017\n",
      "14   15        0.428   38.739  0.011048\n",
      "65   66        0.666   60.245  0.011055\n",
      "8     9        0.806   69.192  0.011649\n",
      "48   49        0.516   43.660  0.011819\n",
      "33   34        0.515   41.771  0.012329\n",
      "91   92        0.817   62.427  0.013087\n",
      "18   19        0.599   45.566  0.013146\n",
      "61   62        1.159   87.871  0.013190\n",
      "43   44        0.902   68.021  0.013261\n",
      "23   24        0.819   60.764  0.013478\n",
      "21   22        0.828   56.747  0.014591\n",
      "76   77        1.217   82.991  0.014664\n",
      "2     3        1.273   80.701  0.015774\n",
      "52   53        0.473   28.740  0.016458\n",
      "63   64        0.588   35.480  0.016573\n",
      "79   80        0.664   39.692  0.016729\n",
      "40   41        1.159   68.120  0.017014\n",
      "17   18        1.345   76.343  0.017618\n",
      "58   59        0.493   27.813  0.017726\n",
      "87   88        1.209   67.625  0.017878\n",
      "47   48        1.433   78.028  0.018365\n",
      "94   95        1.329   71.308  0.018637\n",
      "92   93        0.557   29.517  0.018870\n",
      "..  ...          ...      ...       ...\n",
      "96   97        0.950   23.790  0.039933\n",
      "89   90        1.586   38.999  0.040668\n",
      "84   85        1.030   25.246  0.040799\n",
      "0     1        1.632   39.375  0.041448\n",
      "36   37        1.755   42.045  0.041741\n",
      "99  100        1.183   28.061  0.042158\n",
      "4     5        1.596   37.319  0.042766\n",
      "64   65        1.282   29.854  0.042942\n",
      "6     7        1.680   37.761  0.044490\n",
      "9    10        1.178   26.359  0.044691\n",
      "98   99        0.816   18.123  0.045026\n",
      "26   27        1.255   27.166  0.046197\n",
      "45   46        1.714   36.429  0.047050\n",
      "24   25        1.723   33.533  0.051382\n",
      "62   63        1.423   27.672  0.051424\n",
      "25   26        1.410   25.133  0.056102\n",
      "77   78        1.900   32.769  0.057982\n",
      "78   79        1.227   20.851  0.058846\n",
      "44   45        1.736   27.340  0.063497\n",
      "53   54        0.756   11.764  0.064264\n",
      "80   81        1.164   18.112  0.064267\n",
      "81   82        1.804   27.693  0.065143\n",
      "68   69        1.218   17.396  0.070016\n",
      "90   91        0.793   11.302  0.070165\n",
      "85   86        1.531   21.480  0.071276\n",
      "29   30        1.794   24.110  0.074409\n",
      "70   71        1.046   13.541  0.077247\n",
      "72   73        0.158    1.472  0.107337\n",
      "50   51        0.689    2.032  0.339075\n",
      "7     8        0.925    0.000  0.925000\n",
      "\n",
      "[100 rows x 4 columns]\n",
      "{'index': 9, 'score': 80.0}\n",
      "{'index': 24, 'score': 80.0}\n",
      "{'index': 36, 'score': 80.0}\n",
      "{'index': 44, 'score': 80.0}\n",
      "{'index': 47, 'score': 80.0}\n",
      "{'index': 61, 'score': 80.0}\n",
      "{'index': 74, 'score': 80.0}\n",
      "{'index': 92, 'score': 80.0}\n",
      "{'index': 21, 'score': 78.7780830774204}\n",
      "{'index': 15, 'score': 77.26384364820848}\n",
      "{'index': 62, 'score': 76.14379084967321}\n",
      "{'index': 77, 'score': 73.21083172147002}\n",
      "{'index': 22, 'score': 73.01373686005768}\n",
      "{'index': 66, 'score': 71.77353342428377}\n",
      "{'index': 6, 'score': 71.63934426229508}\n",
      "{'index': 3, 'score': 70.94240837696336}\n",
      "{'index': 41, 'score': 70.8880308880309}\n",
      "{'index': 23, 'score': 70.13549197004458}\n",
      "{'index': 34, 'score': 69.50570342205323}\n",
      "{'index': 49, 'score': 69.42249240121579}\n"
     ]
    }
   ],
   "source": [
    "df3=df\n",
    "# df3['gaji/utang'] = np.where(df['Name']=='Person1',df['State'].map(state_map),df['State'].map(state_map2))\n",
    "# df['data'].apply(lambda x: 'true' if x <= 2.5 else 'false')\n",
    "df3['rat'] = df.apply(lambda row: row[' Pendapatan']/row[' Hutang'] if row[' Hutang']>0 else row[' Pendapatan'], axis=1)\n",
    "df3=df3.sort_values(by=['rat'], ascending=True)\n",
    "print(df3)\n",
    "# for index, row in df3.iterrows():\n",
    "#     print(row.to_frame().T)\n",
    "\n",
    "for i,k in enumerate(newlist):\n",
    "    if(i<20):\n",
    "        print(k)"
   ]
  },
  {
   "cell_type": "code",
   "execution_count": 97,
   "metadata": {
    "scrolled": false
   },
   "outputs": [
    {
     "name": "stdout",
     "output_type": "stream",
     "text": [
      "52\n",
      "63\n",
      "79\n",
      "40\n",
      "17\n",
      "58\n",
      "87\n",
      "47\n",
      "94\n",
      "92\n",
      "34\n",
      "82\n",
      "38\n",
      "75\n",
      "88\n",
      "95\n",
      "3\n",
      "1\n",
      "59\n",
      "12\n",
      "56\n",
      "42\n",
      "13\n",
      "66\n",
      "31\n",
      "67\n",
      "32\n",
      "55\n",
      "93\n",
      "27\n",
      "39\n",
      "83\n",
      "10\n",
      "11\n",
      "37\n",
      "51\n",
      "97\n",
      "41\n",
      "30\n",
      "57\n",
      "19\n",
      "15\n",
      "16\n",
      "69\n",
      "71\n",
      "49\n",
      "28\n",
      "86\n",
      "54\n",
      "74\n",
      "96\n",
      "89\n",
      "84\n",
      "0\n",
      "36\n",
      "99\n",
      "4\n",
      "64\n",
      "6\n",
      "9\n",
      "98\n",
      "26\n",
      "45\n",
      "24\n",
      "62\n",
      "25\n",
      "77\n",
      "78\n",
      "44\n",
      "53\n",
      "80\n",
      "81\n",
      "68\n",
      "90\n",
      "85\n",
      "29\n",
      "70\n",
      "72\n",
      "50\n",
      "7\n",
      "[20, 21, 22, 23, 24, 25, 26, 27, 28, 29, 30, 31, 32, 33, 34, 35, 36, 37, 38, 39, 40, 41, 42, 43, 44, 45, 46, 47, 48, 49, 50, 51, 52, 53, 54, 55, 56, 57, 58, 59, 60, 61, 62, 63, 64, 65, 66, 67, 68, 69, 70, 71, 72, 73, 74, 75, 76, 77, 78, 79, 80, 81, 82, 83, 84, 85, 86, 87, 88, 89, 90, 91, 92, 93, 94, 95, 96, 97, 98, 99]\n",
      "    No   Pendapatan   Hutang       rat\n",
      "22  23        0.112   26.202  0.004274\n",
      "20  21        0.155   29.496  0.005255\n",
      "73  74        0.600   80.864  0.007420\n",
      "35  36        0.946   98.000  0.009653\n",
      "46  47        0.780   78.054  0.009993\n",
      "5    6        0.664   63.226  0.010502\n",
      "60  61        0.880   79.878  0.011017\n",
      "14  15        0.428   38.739  0.011048\n",
      "65  66        0.666   60.245  0.011055\n",
      "8    9        0.806   69.192  0.011649\n",
      "48  49        0.516   43.660  0.011819\n",
      "33  34        0.515   41.771  0.012329\n",
      "91  92        0.817   62.427  0.013087\n",
      "18  19        0.599   45.566  0.013146\n",
      "61  62        1.159   87.871  0.013190\n",
      "43  44        0.902   68.021  0.013261\n",
      "23  24        0.819   60.764  0.013478\n",
      "21  22        0.828   56.747  0.014591\n",
      "76  77        1.217   82.991  0.014664\n",
      "2    3        1.273   80.701  0.015774\n"
     ]
    },
    {
     "data": {
      "image/png": "[encoded data removed]",
      "text/plain": [
       "<Figure size 432x288 with 1 Axes>"
      ]
     },
     "metadata": {},
     "output_type": "display_data"
    }
   ],
   "source": [
    "resreal=[]\n",
    "i=0\n",
    "for index, row in df3.iterrows():\n",
    "    \n",
    "    if(i>=20):\n",
    "        print(index)\n",
    "        resreal.append(i)\n",
    "#         resreal.append(index)\n",
    "    i+=1\n",
    "print(resreal)\n",
    "df4=df3\n",
    "df4=df4.drop(df4.index[resreal])\n",
    "ax3 = df.plot.scatter(x=' Pendapatan',y=' Hutang')\n",
    "df4.plot.scatter(x=' Pendapatan',y=' Hutang',ax=ax3,color='#ff0000')\n",
    "print(df4)"
   ]
  },
  {
   "cell_type": "code",
   "execution_count": null,
   "metadata": {},
   "outputs": [],
   "source": []
  },
  {
   "cell_type": "code",
   "execution_count": null,
   "metadata": {},
   "outputs": [],
   "source": []
  },
  {
   "cell_type": "code",
   "execution_count": null,
   "metadata": {},
   "outputs": [],
   "source": []
  }
 ],
 "metadata": {
  "kernelspec": {
   "display_name": "Python 3",
   "language": "python",
   "name": "python3"
  },
  "language_info": {
   "codemirror_mode": {
    "name": "ipython",
    "version": 3
   },
   "file_extension": ".py",
   "mimetype": "text/x-python",
   "name": "python",
   "nbconvert_exporter": "python",
   "pygments_lexer": "ipython3",
   "version": "3.6.6"
  }
 },
 "nbformat": 4,
 "nbformat_minor": 2
}
