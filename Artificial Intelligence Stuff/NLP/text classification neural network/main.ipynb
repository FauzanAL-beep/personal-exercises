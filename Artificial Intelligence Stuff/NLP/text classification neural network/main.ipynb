{
 "cells": [
  {
   "cell_type": "code",
   "execution_count": 74,
   "metadata": {},
   "outputs": [],
   "source": [
    "import nltk\n",
    "from Sastrawi.Stemmer.StemmerFactory import StemmerFactory\n",
    "import os\n",
    "import json\n",
    "import datetime\n",
    "import pandas as pd\n",
    "import re"
   ]
  },
  {
   "cell_type": "code",
   "execution_count": 75,
   "metadata": {},
   "outputs": [],
   "source": [
    "df=pd.read_csv('dataset.csv',index_col=False)"
   ]
  },
  {
   "cell_type": "code",
   "execution_count": 76,
   "metadata": {
    "scrolled": true
   },
   "outputs": [
    {
     "name": "stdout",
     "output_type": "stream",
     "text": [
      "2000 documents\n",
      "2 classes ['jokowi', 'prabowo']\n",
      "4070 unique stemmed words ['', 'ahmadmulkan9', 'pesan', 'senang', 'lampung', '477', 'puprsigapmembangunnegeri', 'andriawanrandie', 'said', 'presiden2', 'habibthink', 'teman', 'hoax', 'islam', 'hamaasalfatih02', 'bakauheni', 'angkot', 'senin', 'jabat', 'lewat', 'pongah', 'ini', 'jejak', 'bajar', 'tka', 'hanura', 'prnah', 'pake', 'gemulai', 'ices tea', 'melda jeffrey', 'dusta', 'kotor', 'nista', 'papua', 'kk', 'apa trus', 'tribunnewsbogor', 'sen1njempol', 'w88hero', 'negatif', 'togel88wdinfo', 'keliling2', 'pict', 'canada', '18', 'kirim', 'few', 'umur', 'crew', 'mega wati', 'selatan', 'celah', 'oktober', 'salingfollback', 'judul', 'bptj151', 'islamituindah', 'tau', 'wabah', 'nataliuspigai2', 'jet', 'bisnis', 'line', 'sbgmna', 'huni', 'ketu', 'sumpah', 'sumatera', 'kuat', 'tedset70', 'bawaslu ri', 'misuh2', 'ustadtengkuzul', 'ragu', 'ketemu', 'puji', 'unsur', 'akn', 'lantun', 'togel', 'dorong', 'ipm', 'bengkulu', 'mnjadi', 'tol', 'indoprogress', 'sejahtera', 'sherwins8', 'kab majalengka', 'kebut', 'bobok', '2019pbb calegkita', 'sedia', 'ras', 'istri', 'pukul', 'bentrok', 'instalasi', 'rebut', 'o dhany', 'story', 'reuniakbar212', 'bocimi', 'mengeneralisir', 'titieksoeharto', 'mereka', 'km', 'kids', 'kemlon', 'aman', 'berkah', 'papuawest', 'ghama', 'provokasi', 'ramashook', 'sedikit', 'kompak', 'kalang', 'kencang', 'bhahahaha', 'nusron', 'apa kau', 'indonesia-', 'siap', 'rumah', 'daya', 'lomba', 'janji2', 'celebration', 'lokal', 'konektivitas', 'jokowilah', 'canda', 'munafikun', 'hariadhi', 'boeingmideast', 'kamis', 'rombong', '2019lampungjoin', 'timses', 'paham', 'kado', 'g', '41 3', 'taruhanbola', 'kengr', 'akh', 'dan', 'kutuk', 'tetapi', 'sis', 'total', 'utama evan', 'daerah2', 'masyarakat2', 'dg', 'hilir', 'sponsor', 'laku', 'keluh', 'vicky', 'dampak', 'sragen', 'salingfollow', 'budimandjatmiko', 'melulu', 'yra', 'arekgubeng2', 'habitat', 'bawa', 'y', 'logistik', 'sentra', 'luar', 'mana', 'prof', 'sabar', 'kami', 'ngak', 'nagita', 'ma aruf', 'gerbang', 'ogah', 'kempanrb', 'agak', 'tendang', 'drone', 'alih', 'politis', 'nasrani', 'pes', 'dengerin', 'tgl', 'cebongdungusemakinpanik', 'cnn', 'korpri', 'umat', 'bnr', 'gincu', 'peacefull', 'upin', 'cetakbalikpapan', 'kemaren', 'u', 'lindraeddianto', 'paras', 'asrar', 'sambil', 'penting', 'islamiah', 'ketidakmampuanmu', 'ngopi', 'squarepants', 'ribu', 'harigurunasional', 'kriminalisasi', 'nomor', 'kemenpu', 'sambang', 'day', 'kinclong', 'layat', 'biar', 'habibrizieqpahlawanbangsa', 'smnurjanah', 'masing', 'bo-mi-bo', 'ngatain', 'arah', 'iplt', 'sadran', 'prestis', 'bisa', 'baru', '131', 'kakekdetektifid', 'juventini 3rwin', 'ridwankamil', 'bau', 'dlm', 'pura', 'elang', 'belum', 'bgm', 'built', 'jitu', 'simak', 'hpurwanto231', '212 luar', 'jaga', 'jaring', 'kudung', 'kontras', 'cebong2', 'sosmed', 'sp', 'commuterline', 'goblok', 'ika', 'cari', 'arab', 'sodomi', 'nyaman', 'referensi', 'many', 'masya', 'sokratez', 'madrosid', 'dungu', 'anwarud-dibaaz', 'talang', 'negarawan', 'pagi', 'ta ala', 'pola', 'kasubdit', '25', 'kejang2', 'kamu', 'samapi', 'lelang', '10jt', 'lebih', 'goda', 'massif', 'kemenhub151', 'again', '411', 'lemes', 'maju', 'lahan', 'ernijasin', 'perang', 'persijaday', 'keren', 'wiranto1947', 'kuda', 'lah', 'maksimal', 'ri', 'konsen', 'greget', 'strategi', 'kepada', 'coret', 'abadi', 'bs', 'skema', 'bela', 'lho', 'lha', 'gpp', 'boeing', 'tahun', 'followback', 'sementara', 'ir', 'ketar', 'commander', 'ruf', 'apelo', 'dasar', 'tagarnews', 'koruptor', 'tembak', 'judibola', 'video', 'upaya', 'd4ni3l pu', 'majelis', 'msalahny', 'sabtu', 'ditjensda', 'asrarkrm', 'adilmakmur', 'hormat', 'alaricluthfy', 'kebhinekaan', 'prajurit', 'no 2', '2019tetapantipki', 'ancam', 'sepakat', 'bredal edy', 'ci', 'ceo', 'beda', 'suasana', 'kuhp', 'jk', 'rinduorba', 'scr', 'sdh', 'wartapolitik', 'erak', 'mane', 'barang', 'upone', 'signal', 'emak', 'baper', 'raja', 'mpok', 'kontestan', 'nyinyirnyirnyinyir', 'dollar', '178', 'sesal', 'buss', 'tanya', 'ganda', 'akut', 'maha', 'bi', '17', 'jokowibersa', '5dhany5', 'suruh', 'kereen', 'cianjur-padalarang', 'genderuwosontoloyo', 'sofyan', 'koplak', 'anak-cucu', 'detikcom', '2019gantikacung', 'hindar', 'kerah', '3t', 'prabowo sandi', 'macem', 'smp', 'ciawi', 'freewestpapua', 'masak', 'terlalu', 'akal', 'kata', 'kultural', 'bahwa', 'ada', 'rezim2', 'minggumalam', 'uji', 'sebut', 'kota', 'says', 'feelnya', 'ngemis', 'ngelihat', 'berakhlakul', 'hubung', 'ngomongin', 'pdi juang', 'are', 'fatihah', 'agusrudi m27', 'bgtulah', 'kpop', 'temlen', 'tindas', 'krn', 'deklarasi', 'slavina', 'dejambrong', 'di', 'like', 'sukabumi-bogor', 'cianjur', 'timbang', 'liat', 'mentok', 'dimanupulasi', 'luhut', 'ptjasamarga', 'amp', 'mahal', 'kejo online', 'kreta', 'cuitanya', 'aksi demo', 'ora', 'tumpu', 'trans', 'langgar', 'fadli', 'grombolan', 'tangan', 'sejarah', 'rmolco', 'aspek', 'clan', 'un', 'azzamizzulhaq', 'guru dosen', 'mangkrak', 'disisain', 'bbm', 'hujan', 'jnnewrw', 'ilc', 'oetaryo7', 'tinjau', 'soeharto', 'ylbhi', 'ekstra', 'bocimijokowibikinhepi', 'maling', 'borong', 'je ly', 'kn', 'ketawa', 'subsidi', 'ga', 'tir', 'tengah', 'sangar', 'nya', 'sbtlnya', 'gandrung', 'ape', 'nich', 'sawit', 'adab', 'endrabanyu', 'memamg', 'triliun', 'insha', 'mp3', 'rohmanganteng11', 'jusuf', 'sukses', 'ngumpulin', 'reformis', 'fier 79', '92', 'owhh', 't', 'andrizalkribo', 'singa', 'cakiminow', '01', 'uni', 'bacot', '101', 'nakut-nakutin', 'nasihat', 'iman', 'insan', 'kasi', '4 700', 'misi', 'populer', 'tonjolin', 'saefulsiregar', 'nyiyir', 'viral', 'baris', 'sasar', 'lama', 'tunarungu', 'forum', 'eselon', 'unggul', 'pencet', 'dapet', 'rasulullah', 'atur', 'alishaqy6', 'susipudjiastuti', 'caleg2', 'kawasan', 'dhewan', 'nggak', 'seankevlar', 'wkwkwkwk', 'jumpa', 'hangul', 'aksis', 'adapun', 'booth', 'underground', 'umum bahar', 'sedekah', 'genjot', 'minta', 'sayano 01', 'dishub', 'blt', 'slalu', '201', 'mesti', 'pasar', 'joxzin jogja', 'diri', 'orasi', '49', 'judiniman', 'donasi', 'monas', 'kampanye', 'fondasi', 'luhutbinsar', 'bawah', 'tk', 'full', 'gue', 'mabuk', 'sumber', 'guys', 'domestik', 'bangun', 'china', 'kunjung', 'kalau', 'pdip', 'ditjen', 'iri', 'operasional', 'bandarq', 'dung', 'pasti2', '-ricky', 'rezekine', 'infopupr', 'celana', 'iya', 'pemuda', 'dprd', 'kesi', 'kolom', 'biaya', 'aparatur', 'adem', 'jasmerah', 'hadir', 'inggris', 'khalsa86 mdn', 'tunda', 'dealer', 'renowij07670360', 'abrakadabong', 'cameoong', 'sampai', 'lip', 'dsb', 'ter', 'tahan', 'ebong', 'bonus', 'zul hasan', 'bagaimana', 'skrg', 'bayar', 'faham', 'ginian', 'pimpin', 'makan', 'timur', 'bye', 'jam', 'ipung', 'tengku', 'england', 'miring', 'haru', 'memble', 'sayang', 'ngigau', 'anak2', 'langit', 'asbun hina', 'tweet', 'olah', 'bener', 'yunartowijaya', 'musuh', 'rupa', '7juta', 'brp', 'trim', 'sila', 'mandiin', 'coblos', 'istana', 'internet', 'inti', 'telatpos', 'cerita', 'biadap', 'argentina', 'sya', 'selamanyaantipki', 'imf', 'ardhan syahil', 'nuntut', 'praktik', 'ngasoh', 'klik', 'andai', 'agung', 'kerjsm', 'sahabat', 'satar', 'pembangungan', 'utuh', 'pda', 'pingin', 'sieun', 'pak', 'syantik', 'bong ingak ingak ye', 'koran', 'budaya', 'sp damarpanuluh', 'strategis', 'm', 'serah', 'pun', 'in', 'samarinda', 'rp', 'blangsat', 'coba', 'dri', 'gala', '100', 'editor', 'ig', 'ngk', 'ngga', '616', 'informasi', 'baik mari', 'kabur', 'follback', '137', 'siar', 'acara beda', 'orqng', 'kualitas', 'pst', 'tempat', 'dingin', 'dpdporakaltim', 'nape', 'mah', 'nasional', 'rockygerung', 'toto', 'indonesia', '20detik', 'ahad', 'berlian', 'berondong', 'tauhid', 'bejibun', 'percaya', 'tuli', 'yusuf dumdum', 'cepat', 'kakek', 'laju', 'sang', 'lrt', 'syarat', 'ngaca introspeksi', 'kordinator', 'novian sp', 'rencana', 'serves', 'sesuai', 'kanopi', 'rinjanijb', 'temu', 'musisi', 'tentu', 'kecil', 'ferdinand haean', 'antusias', 'deh', 'rusun', 'karya', 'immaterial', 'gelar', 'lu', 'ingin', 'perahu', 'kadangkala', 'tivi', 'ordegila', 'alumni212', 'bungkus', 'bahasa', '2019kitapilihjokowiaja', 'makdetektif', 'insyaallah', 'puncak', '2019ulamakita', 'norak', 'mp4', 'bbrp', 'prestasi nya', 'tulus', 'mulyono', 'palembang', '24', 'belah', 'lampau', '2019prabowosandimenang', '8', 'kospirasiglobal', 'khofifah', 'lantas', 'mikroklet', 'gesuriid', 'bakti', 'tanggung', 'keroyok', 'testimoni', 'mengkredilkan', 'kalbar', 'khalisah', 'impor', 'antisipasi', 'bptj', 'bro', 'tki', 'bareskrim', 'krna', 'dah', 'lentik', 'selamathariguru', 'andhikaradhitya', '20an', 'wkwwkkwkwk', 'depan', 'plus', 'anggar', 'islamsejuk', 'dpp bmi', 'blokir', 'gonggong', 'kunspek', 'bhs', 'bandung', 'minggu', 'apa2', 'dse', 'lido', 'sarawak', 'ahhhh', 'antarkabupaten', 'how', 'herman', 'kah', 'alami', 'jutaanpeserta', 'kemenkopmk', 'pada', 'bagiosastro', 'semester', 'tahana', 'wajib', 'suka', 'ukhuwah', 'hutang', 'dunia', 'brazil', 'lanjut', 'kesejahtraan', 'tanda', 'lancar', 'media', 'seksi-1', 'waduh', '155', 'subahanaallah', 'anti-islam', 'manusiasampah', 'followforfollow', 'ponpes', 'sholat', 'kyai', 'dinda jutek1', 'gaes', 'caraka', 'ustaz', 'daftar', '--', 'impi', 'jg', 'ibnu', 'urus', 'industri', 'model', 'selamat', 'n t', 'dini', 'martabat', 'natciro', 'jungaspal', 'komposer', 'jokowi2periode', 'zidane', 'jembatan', '3-12-18pk8', 'marierteman', 'kuy', 'happy', 'pukau', 'pecah', 'kaesangp', 'india', 'allah', 'massa', 'sandera', 'boeingdefense', 'aminnnn', 'husinshihab', 'hariguru2018', 'nasdemgolkar5dpp ppppartaihanuradpp pkbpartaiperindopkpi id', 'sy', 'kita', 'kasih', 'berfikir', 'soal', 'illahi', 'malaikat', 'holistik', 'tjahjadijudono', 'bayi', 'nepotisme', 'mula', 'kontrol', 'bandara', 'ugal2an', 'kang sleding', 'pencitraanya', 'fhotoku', 'terus', 'pusat', 'perintah', 'peluang', 'ambisius', 'pasuruan', 'cawapresnya', 'skin', 'ms', 'jokowi', 'operasi', 'zaman', 'rabujokowin', 'ramenya', 'tepuk', 'underrated', 'de', 'ketat', 'basa', 'raga', 'reservoir', 'q', 'emaa', 'telat', 'bungkuskopi33', 'naik', 'hobby', 'smanta', 'ketua', 'chain', 'lihatin', 'bibir', 'rezim', 'raih', 'kompascom', 'diam', 'mental', 'gua', 'radar', 'pembangunam', 'april', 'rb', 'cebooooong', 'kue', 'potensial', 'nek', 'puisi', 'kkn', 'gunromli', 'bulat', 'asia', 'anarkis', 'pikir', 'kangdede78', 'saya', 'nugraha-jogja', 'al-bayan', 'anothermaya', 'menghianati', 'haram', 'sabotase', 'gnpfulama sumut', 'ma', 'taman', 'coldice10911773', 'ciletuhgeopark', 'kini', 'bludak', '4', 'aja', 'percuma', 'diner', 'senyum', 'ayom', '2019tetapjokowi', 'yuks', 'ribu 30', 'kebiri', 'kena', 'saja', 'rakyat', 'bunuh', 'singapur', 'mereka umat', 'itam', '127', 'sifat', 'nyepedahan', 'besar', 'tua', 'november', 'ank', 'damai', 'presidium', 'serunipuspaalam', 'isolasi', 'partaisocmed', 'kuasa', 'pidah', 'ngeluh', 'aksi', 'lantah', 'sirik', 'spain', 'ciduk', 'mekoesnadi 10', 'tampan', 'bpknya', 'ulama', 'tepat', 'derita', 'cumah', 'ceplos', 'hina', 'tutur', 'veteran', 'nanyangin kte', 'bahkan', 'harga', 'dzn', 'kalok', 'bumn', 'ksubdit', 'namvah', 'selalu', 'pingkal', 'buat', 'lies', 'gini2', 'bugil', 'commuter', 'prihatin', 'pelita', 'telinga', 'pulang', 'anak', 'gcs', 'hero', 'salingfolllow', 'junjung', 'tambah', 'luarbiasa', 'bekas', 'kuningan', 'desy', 'gede', 'api', 'anies', 'spy', 'koq', 'takut', 'sembunyi', 'kawan', 'upah', 'kagak', 'boook', 'rugi', 'bogor-sukabumi', 'news', '212kamihadir', 'tolol', 'sengsara', 'so', 'curi', 'rekor', 'malam', 'indonesiaadilmakmur', 'hu', 'terap', 'masa', 'kartu', 'hijau', 'nyanyi', 'yahtirom', 'toh', 'tokyo', 'dikalahin', 'cantik', 'nyinyir', 'bakal', 'to', 'hambalang', '800 kg', 'hikmah', 'rasa', 'i o', 'bicara', '4 selain', 'pahlawan', '136bis', 'masyaallah', 'kalimantan', 'krakatau putra', 'apabila', 'bhineka', 'gabung', 'jiwa', 'sosok', 'lambat', 'pindah', 'peru', 'dikerjain', 'school', 'could', 'hambat', 'sembako', 'jelas', 'happyteachersday', 'surga', 'ktnya', 'tonton', 'isi', 'caci', 'nurmatgr', 'padi', 'kebahagian', 'prasarana', 'jokowilagi', 'berak', 'ja', 'semen', 'angin', 'kafir', 'kecumburuan', 'mrk', 'sm', 'sedang', 'kaos', 'ejek', 'bandar', 'hendak', 'gembrebek', 'tar', 'mau', 'bidang', 'ustad', 'jogjadaruratagraria', 'pakdhee', 'suddenly', 'sumbar', 'burhansaidi', 'ulang', 'pancasila', 'apa', 'budek', 'first', 'nyenyak', 'ular', 'dosa', 'kelit', 'loh', 'share', 'koneksitas', 'tunjuk', 'bidadari', 'kisah', '40', 'pelosok', 'peduli', 'anak rantau', 'hehehehehehe', 'edisi', 'mana2', 'energi', 'kawal', 'signifikan', 'doang', 'ni', 'kpd', 'gelap', 'arti', 'sepeda', 'komunitas alhamdulillah', 'bentang', 'seknas ri', '70', 'merah', 'buruk', 'terang', 'amat', 'asumsi', 'kabsukabumi id', 'gunung', 'kampung', 'jhrpujianto', 'tanam', 'gilir', 'kalian', 'debapirez', 'nanggung', 'klw', 'tempe', 'pan', 'udah', 'bgt', 'apeelooo', 'umrik', 'kan', 'js', 'mexico', 'suara', 'keselee', 'utama', 'jumlah', 'booooook', 'amanah', 'miss', 'maupun', 'pakkkkk', 'sdm', 'tebar', 'menhub', 'dennysiregar7', 'agam', 'epic', 'bispak', 'si', 'university', 'sembari', 'kelar', 'angkasa', 'hal', 'jabodetabek', 'ruas', 'th', 'jokowijk', 'yamin', 'lumpur', 'v', 'nasionalisme', 'dll', 'cross', 'maruf', 'wakil jelata', 'klaim', 'duniawi', 'bila', 'elektronik', 'komunitas', 'jt', 'seluruh', 'bahas', 'sbg', 'landa34991441', 'toge', 'tukar', 'kharismatik', 'suryosodipuro', 'kabinet', 'pontianak', '2019kitatetapbersaudara', 'sbagai', 'fatihurr', 'penjilatnsi', 'padat', 'nurul', 'konstruksi', 'moncong', 'bendung', 'jamaah', 'bpjs', 'haus', 'serta', 'investor', 'rt', 'dengar', 'hd52766966', 'bayang', 'bubudi101j', 'kek', 'info', 'dn', 'dil', '47', 'sekali', 'dahnil', 'room', 'gas', 'kaltimhebat', 'cobra0312', 'nanaa rosaa', 'senjata', 'identitas', 'folbek follow', 'pandu', 'munkin', 'pedo', 'makhluk', 'ganteng makziml', 'ahok', 'sisi', 'pahala', 'skg', 'pbb2019', 'nation building', 'zarazettirazr', 'kang', 'ramah', 'mangkas', 'lg', 'jokowibangundesa', 'permadiaktivis', 'rela', 'slh', 'gun4w4nahokers', 'kiat', 'turut', 'abis', 'takut sikutil', 'prov', 'ego', 'seko', 'optimisme', 'aseng', 'miskin', 'berapa', 'dul cemonk', 'sungguh', 'rakjat', 'tayang', 'kayak', 'keluar', 'bentar', 'yes', 'vivacoid', 'rakyatkritis', 'bagi', 'menang', 'waskita karya', 'mudah', 'seragam', 'kolera', 'desa', 'makanya', 'medsos', 'saudara', 'nurasiauno', 'keras', 'preeet', 'saran', 'carina niken', 'rindusoeharto', 'penistaanagamaend', 'sinyal', 'nu online', '200', 'qencono', 'cina', 'sd', 'perspective', 'heli', 'binsar', 'pantau', 'swarnadiva9', 'nikmat', 'warna', 'tolak', 'pulkam', 'syukur', 'bpk', 'kpai official', 'mnghindari', 'gentlemen', 'nah', 'bulan', 'sepele', 'siiiip', 'ciletuh', 'minimal', 'harus', 'menteri', 'masing2', 'program', 'gentleman', 'kapok', 'sosial', 'long', 'semua', 'wib', 'oknum2', 'oplas', 'yah', 'ribuuuuuuuu', 'latih', 'bamukmin', 'bareskrimpolri', 'ajar', 'hello', 'ciri', 'ganggu', 'adsastrawidjaja', 'welcome', 'dpn', 'back', 'kurniawan99hery', 'tenuin', 'riskameliaag', 'pen', 'biak', 'geber', 'mania', 'gw', 'organisasi', 'tvrinasional', 'lengkap', 'hambanya99', 'guru2', 'persis', 'boeingeurope', 'akhlak', 'prabowosandi', 'hny', 'eh', 'tahap', 'baju', 'kabur hindar', 'artikel', 'produktivitas', 'kubur', 'klub', 'modus', 'mewah', 'politik', 'nyia', 'badan', '6', 'turun', 's', 'dendam', 'jangan', 'periksadpt', 'jari', 'jalur', 'lapor', 'memfollow', 'ethnic', 'kaleng', 'gubernur', 'kakak', 'jarak', 'redaksi', 'foto', 'kafil', 'baik bangun', 'pacu', 'jauh2', 'denger', 'skalipun', 'batas', 'insfrastruktur', 'riau', 'pelosok2', 'parkir', 'latepost', 'italy', 'ku', 'haid', 'ngadain', 'dongok', 'jon pangeran79', 'awas', 'padalarang', 'kpakdhe', 'sumbang', 'ferguso', 'opm', 'haji', 'strategy', 'ksh', 'ujar', 'snw82b', 'bandarq-bandar-q', 'guna', 'kspgoid', 'dunguuu', 'konsentrasi', 'boeingairplanes', 'drink', '2014', 'malu', 'bocah', 'gater', 'thailand', 'lahir', 'tdak', 'lgi', '2019tetapjoin', 'pembngunan', 'seni', 'kwalitas', 'munafikunn', 'negeri', 'balm', 'nurdinamir1', 'bubarin', 'kabar', 'lingkar', 'beli', 'caleg', 'islamic', 'usan', '334', 'bolahantu77', 'petik', 'arif', 'wow', 'respect', 'zalim', 'aspirasi', 'teruus', 'shaa', 'budi', 'tad', 'vital', 'h syafruddin', 'utara', 'tangkerang', 'lebar', 'peras', 'aa', 'mata', 'melow', 'primadona', 'ngobush3', 'asal', 'bahwasanya', 'abuse', 'marifinilham', 'kopra', 'muttle9', 'kecuali', 'min', 'korean', 'main', 'tarik', 'taon', '212thepoweroff1', 'makmur', 'kembali', 'gaya', 'habibi', 'real', 'kantung2', 'kritik hina ngatain', 'daripada', 'if', 'rangin', 'distribusi', 'aparat', 'luluh', 'luka', 'betawi', 'buta', 'senantiasa', 'tidak', 'cuman', 'revolusi', 'celoteh', 'jemaah', 'hahahhaha', 'akun2', 'mutu', 'k', 'lama2', 'pantang', 'kuasa negarawan', 'laki', '166', 'hahahaha', 'bokepk', 'isu', 'reuni212', 'besok', 'kira2', 'loyalis', 'female', 'cita2', 'duit', 'intervensi', 'pangkat', 'barokalloh', 'kecambah', 'jokowimaruf2019', 'pasti', 'rachlannashidik', 'msa', 'kabur kt', 'lari', 'dkk', '20', 'got', 'balas', 'kenapa', 'akuntofa', 'suherman', 'pameranhabitat2018', 'habibbahar212', 'novel', 'lazuardi', 'laennya', 'beri', '99', 'kai121', 'korupsi', 'basi', 'pek', 'bahar', 'garuda', 'toyib', 'ayoo', 'mbak', 'via', 'sembakomaut', 'janji', 'tdk', '2019prabowosandi', 'bijaksana', 'mr hanwi', 'media2', 'tunjang', 'resmiin', 'eksekusi', 'cekik', '51', 'landing', 'perkara', 'tidurbya', 'at', 'peang', 'mengakomodir', 'rindu', 'jual', 'ppp', 'pgri', 'grassrockstones', 'ojekpahlawankeluarga', 'msh', 'pegawai', 'river', 'kenyataanya', 'nunggu', 'jokowimarufamin2019', 'kampret', 'no 7', 'mukidi', '21', 'proyek', 'makassar', 'kala', 'gurulagipengendimanja', 'lekang', '2020', 'budimuni98', 'kawan2', 'musti', 'alaaa', 'followbackteam', 'west', 'anandapramudyaa', 'data', 'istiwaqamah', 'kapitra', 'kenneth aurelio', 'hamba', 'tlah', 'kurang', 'elektrifikasi', 'moga', 'adun', 'pelihara', 'addie', 'belanja', 'tni', 'move', 'kyai2-nya', 'tmpt', 'smg', 'tekan', 'simpan', 'sukabumi', 'pinggir', 'lo', 'situasi', 'serius', 'pr1841788', 'user', 'stlh', 'basuki btp', 'gojek dps', 'cicil', 'riah', 'tuu', 'kostum', 'private', 'eunak', '10rb', 'setia', 'korup', 'sambung', 'nissaloveallah', 'hingga', 'takbir', 'sampah', 'susun', 'subhanahu', 'kalla', 'cleansing', 'islands', 'khianat', 'airin nz', 'sektor', 'direktur', 'saking', 'jokowi-amin', 'kacung', 'rute', 'sampean', 'ompong', '14', 'cara', 'mikha690', 'zero', 'babeh', 'pakde', 'cc', 'kitabisa', 'prediksi', 'pakai', 'cundang', 'pa', 'ekosandjojo', 'bin', 'fakta', 'ridho', 'kaltim', 'saw', 'tni ad', 'syaranza', 'terpana', 'miliar', 'patah', 'hendrasuhaimi', 'prabowosandimenang', 'ungkap', 'bendera', 'aq', 'his', 'bruto', 'kasus', 'pulih', 'mandiri', 'eeh', 'bogor-ciawi-sukabumi', 'tahajud', 'seperti', 'atau', 'sera', 'jokowimaruf', 'bokep', 'tumpah', 'berkorba', 'tingkah', 'berjuta2', 'aju', 'aktif', 'judionline', 'breakingnews', 'tjahjono trie', 'least', 'theradf', 'wajar', 'bola', 'asipkholbihi', 'krama', 'lemah', 'belio', 'pula', 'koleksi', 'gaji', 'kesandung', 'blg', 'maarif', 'bongkar', 'kanda', 'jauh', 'transport', 'speechless', 'dpp fpi1', 'pdhal', '-', 'komputer', 'cawapres', 'modal', 'woy', 'toleransi', 'abercio9', 'singapore', 'qw', 'dikit', 'produksi', 'makna', 'miris', 'tinggi', 'lepas', 'korbanya', 'tri', 'musnah', 'pk20 10', 'niat', 'sukarno', '18thn', 'bantu', 'alaska', 'telekomunikasi', 'probowo', 'faisal', 'ayat', 'mumpuni', 'gonta-ganti', 'komisi', 'realisasi', 'dapat', 'cengaja', 'rusak', '134', 'kilometer', 'kes', 'ngamuk2', 'buzzer', 'banci', 'urut', 'ujung', 'kreator', 'pulau', 'ringan', 'tampung', 'fight', 'informal', 'masy', 'berita', 'mending', 'sibuk', 'hukum', 'unjur', 'billysimamora', 'traveling', 'tanpa', 'posting', 'serba', 'akbar', 'on', 'tirto', 'pilih', 'heheheh', 'buka', 'elit', 'komentar', 'memang', 'tuduh', 'bapak', 'koar', 'jajah', 'comberan', 'merasmikan', 'blingsatan', '2019jokowilagi', 'jgn', 'sangga', 'tunai', 'gaikut', 'thn', 'bray', 'sdalbayanislamicschool', 'tambahin', 'd loneliness', 'hitung', 'aljazeera', 'masuk', 'ambil', '18th', 'woman', 'subuh', 'orde', 'smua', 'efisien', 'duh', '174', 'semangaaaatt', 'pembrakatn', 'damping y', 'dp', 'byk', 'bambu', 'aniesbaswedan', 'ini dan', 'usai', 'gorok', 'here', 'simon', 'buah', 'playground', 'ngumpul', '2019pilihjokowikyaimaruf', 'teacher', 'sulawesi', 't-shirt', 'dunggu', 'mulu', 'wonderfulindonesiamendunia', 'ia', 'dz usman', 'monumen', 'yakin', 'industrialisasi', 'kesah', 'maki', 'anomtea', 'hangat', 'agama tauhid', 'puspen tni', 'kendara', 'genap', 'realitas', 'reuniakkbar212', 'guntur', 'seret', 'and', 'masing-masing', 'faktor', 'dewidomino', 'peran', 'muhamad', 'p3nj3l4j4h', 'pelorotin', 'tidur', 'ambyar2o', 'pura2', 'sapa', '2019jokowimarufamin', 'masa2', 'heritage', 'kerbau', 'amrihakim7', 'clip', 'maaf', 'bersih', 'padahal', 'tukang', 'anugerah', 'cucu', 'hazeskw', 'kesatria', '2019pilihpks', 'dong', 'tragis', 'maka', 'mujahidah', 'regulasi', 'jabar', 'kau', 'kali', 'kait', 'tulis', '3-12-18', 'pabrik', 'rancang', 'proy infrastruktur', 'tutup', 'wonokerto', 'uno', 'blonde', 'layan', 'lebak', 'polemik', 'aprilialin', 'asepapit', 'j', 'polisi', 'homo', 'ombudsmanri137', 'captivating', 'cukup', 'kate', 'dana', 'kpu', 'paslon', 'rampung', 'nun', 'hampir', '2-12-18', 'warga', 'ribet', 'bgn', 'qatar', 'akan', 'join', 'togel88wd', 'atas', 'judi', 'sekali2', 'berulangkali', 'satu', 'pk20', 'militan', 'qq', 'angkat', 'sampah2', 'manusia', 'korban', 'kalimat', 'dukung', 'anggap', 'palestina', 'aneh', 'gerindra', 'link', 'mabok', 'komen', 'ibu', 'anjlok', 'point', 'nabi', 'bkn', 'minelial', 'tsb patut', 'khan', 'poker', 'jkt', '1 982', 'hujat', 'dkarhita', 'alhamdulillah calon', 'misolu', 'kantor', 'tarif', '200sekolam', 'peci', 'adil', 'koalisi', 'ketiak', 'dongkrak', '212', 'rusus', 'olh', 'bentarlagi', '3 aset', 'regazzyx', 'benar2 jadi', 'giat', 'ide', 'dekade', 'mungkin', 'bubur', 'kabupaten', 'jasa', 'negara jangan', 'jika', 'indone', 'drainase', 'hahaha', 'sekarng', 'hayu', 'sabun', 'sorot', 'esco r barus', '23 03 2018', 'metropolitan', 'belatauhid212', 'dun', 'sejuk', 'suku', 'bungkus tp', 'presiden', 'plasma', 'org', 'jajangridwan19', 'tekad', 'internasional', 'meski', 'irigasi', 'semangat', 'mobil', 'cater', 'balik', 'ahmad', 'pasang', 'mars', 'yukks', 'implementasi', 'jenderal', 'sambut', 'aplikasi', 'bukn', 'janganphpg', 'kolusi', 'kutat', 'hallo', 'rai', 'care', 'argumentatif', 'uang', '2019', 'cuci', 'panggung', 'gabut', 'pesat', 'awam', 'lyrics thai', 'rangkum', 'addiems', 'collaps', 'rlt', 'yusrilihza mhd', 'cinta', 'rezeki', 'ndon08back', 'enggak', 'ronavioleta', 'tourdesingkarak', 'koecing pasar', 'fullnya', 'misa', 'aryprasetyo85', 'faizalassegaf', 'antarwilayah', 'jadi', 'busuk', 'bangsa', 'al', 'muda', 'instrumen', 'meriang beh lama', 'kemah', 'tuch', 'please', 'alas', 'road', 'porn', 'nct', 'now', 'yakali', 'world', 'fahraniee', 'danil', 'bahagia', 'merpersiapkan', 'follow', 'hi', 'fwpc', 'warrrbiyasa', 'president', 'kuis', 'klelur3', 'dalam', 'upload', 'aj', 'open', 'dgan', 'majisyafii', 'as', 'tetangga', 'vokasi', 'tingkat', 'persen', 'po st', 'dsertai', 'ancara', 'playlist', 'lambangdc5', 'sby', 'perata', 'vote', 'ganahan', 'iceu suryani', 'ucap', 'bung', 'erti', 'kalah', '212reuni', 'kbakaran', 'ketimbang', 'skala', 'potensi', 'with', 'meng-edukasi', 'pringan', 'reaksi', 'alhamdulillah', 'kelola', 'harirabumenangjokowi', 'mulia', 'rest', 'tingkat sudah', 'rt erdogan', 'makasih', 'bakar', 'para', 'salmabrecht', 'harap', 'tanyajokowi', 'agar', 'optimis', 'akses', 'dimonas', 'sing', 'cv wilcor', 'toko', 'intan37866162', 'fitnah', 'bukannn', 'kerap', 'allaah', 'engga', 'sudah', 'tani', 'panglima', 'periksa', 'hadap', 'jaya', 'merk', 'gaesss dia', 'fasilitas', 'sahabat lampung', 'barna byo', 'transportasi', 'palsu', 'guru2ku', 'yosep', 'jga', 'koit', 'asu', 'inget', 'momen', 'murtadhaone', 'yee', 'rfauzy5', 'multiplier', 'andijkts', 'demokrasi', 'otak', 'igedemanuke9', 'layak', 'fasik', 'picik', 'silvy riau', 'pramonoanung', 'laut', 'i', 'psi id', 'added', 'mklum', 'demo', 'narik', 'sebab', 'banget', 'wiro', 'adlh', 'sanggup', 'fluidasae', 'himawan1978', 'the', 'betul', 'sajapaulus', '1pmenang', 'justru', 'aristh', 'dewan', 'good', 'slm', 'dibanggain', 'ott', 'cyber', 'tak', 'grup', 'waras', 'prabowobersamaulama', 'saidaqil', 'sentuh', 'lembut', 'memetanpahurufk', 'putus2', 'umum', 'sia', 'arus', 'bahan', 'komoditas', 'malang', 'acara', 'tentang', 'cigombong', 'wujud', 'gus', 'tejo', 'singaporepools', 'safari', 'bataaaasss', 'cemburu', 'sakit', 'westpapuanid', 'pln', 'uu', 'quvvatt', 'genotnoto', 'tetep', 'permadiarya1', 'gambar', 'wqwq', 'officialcruzy', 'naciro', 'debirokratisasi', 'knp', 'bogor', 'jokowow', 'tangkap', 'kunkerdpr', 'bgmn', 'gratis', 'club', 'seringkali', 'tolakbigotri', 'tantang', 'negri', 'sblm', 'jalla', 'jemput', 'mikir', 'kari', 'bumi', 'bkngoid', 'gencar', 'desain', 'ngakak', 'woelannnn', 'oleh', '2-4', 'sahal as', '29', 'prabowo-sandi', 'teriak', 'tsamaradki', 'love', 'yoris ab', 'dipotong2', 'kacang', 'psi', 'sara', 'saudara-saudariku', 'adu', 'sableng', 'regulating', 'vintenas', 'sansuwardhi', 'ikut', 'hilang', 'motivasi', 'mirip2', 'publik', 'pki', 'sekolah', 'kaw', 'wainggai s', 'neh', 'diridloi', 'sesuatu', 'perempuan', 'hmm', 'gahar', 'nie', 'pdiperjuangan', 'pilpres', 'keluarga', 'kata y', 'casino', 'pervandingan', 'calegnya', 'favorit', 'projo', 'titiek', 'wiradesa', 'ton', 'ipa', 'sentris', 'nikmatin', 'ratus', 'kenang', 'mendo akan', '727', 'basuki', 'hidup', 'selesai', 'nanti', 'hputrasoeharto', '2012', 'uas', 'dominan', 'saling', 'apresiasi', 'online', 'ikhlas', 'laksana', 'metro tv', 'show', 'cek', 'segera', 'sulit', 'saudara aku', 'enny fadjri', 'se-olah2', 'kelas', 'inhil', 'rangka', 'cakepsekali', 'mw', 'usah', 'untuk', 'pnjara', 'wadaooo', 'lagipula', '15', 'retweet', 'ramai', '15 35', 'benar2', 'canang', 'sgt', 'ormas', 'kuntovijaya', 'cikampek', 'syabas', 'zon', 'hope', 'bole', 'saididu', 'gerak', 'yusril', 'nasionalis', 'kbrkan', 'bang', 'juga', 'ekonomi', 'toreh', 'parang', 'ungkit', 'disamain', 'celebrating', 'partai', 'lempar', 'ceramah', 'thinking', 'nuansa', '2019jokowimaruf', 'ny', 'duo', 'broadcast', 'widayatiningsi1', 'ijin', 'meemiliki', 'aku', 'penghianat', 'ky', 'modal hutang', 'telang', 'apresiasi terima', 'ajak', 'cuit', 'soekarno-hatta', 'koma', 'of', 'nayarakofif', 'minoritas', 'hymneguru', 'nyahoo', 'siswa', 'ngaca', 'merdeka', 'panik', 'wowo', 'begini', 'kt', 'mantan', 'masyarakat', 'tunggu', 'agen', '1000', 'jokoedy6', 'null', 'akhir', 'wenda', 'jakarta-bandung', 'antoniraja', 'poatingan', 'u sementara', 'jujur', 'bilang', 'today', 'sdri', 'xihxhouxexchou', 'harimaumacannnn', 'karimah', 'curang', 'tindak', 'rlm', 'rekanmudajkw', 'll', 'kebun', '300', 'berkaryapartai', 'cm', 'ver', 'orba', 'puluh', 'drama', 'yakni', 'hantu', 'puprsiapmelayani', 'patung', 'allahu', 'misal', 'berjama ah', 'honorer', 'm jwb', 'kompas100', 'massifnya', 'dalangya', 'kisi', 'sbagainya', 'hehehe', 'raba', 'jawa', 'hymne', 'luput', 'petuahsoeharto', 'ketika', 'lupa', 'jihad', 'ngabisin', 'karakter', '2019jokowilanjut', 'hibur', 'digital', 'hasil', 'jokowi-jk', 'efektif', 'samasamabangunbangsa', 'kolam', '02', 'inspirasi', 'mafia', 'you', 'jariyah', 'gather', 'awal', 'karni', '150', 'hari', 'ganti', 'dokter', 'bermedsos', 'bosan', 'mangkrak2', 'upa', 'rippersindonesia', 'sempat', 'karismatik', 'ony anwar', 'haluan', 'laden', 'heri', 'thank', 'yuniar', 'kis', 'christian', 'inspring', 'kmrn', 'jansen jsp', 'karyawannya', 'walhi', 'alam', 'banding', 'saksi', 'smk', 'tegas', 'sehat', 'pandixa d', 'anandyalina', 'hotmix', 'indonesian', 'jayadikusuma10', 'aagym', 'sukardi2017', 'gadai', 'hectorhecko', 'ib', 'basri', 'rezimsontoloyo', 'saat', 'kecewa', 'lindung', 'dengkul', 'bengkeldodo', 'mantap', 'orang2', 'sikutil', '01jokowilagi', 'permanen', 'murah', 'elektabilitas', 'muslim', 'solar', 'kecut', 'community', 'ac', 'rasio', 'rapi', 'insya', 'babi', 'rendah', 'planga-plongo', 'gandeng', 'wartakotalive', 'hehe', 'blusukan', 'tanda2', 'kq', 'heniunique', 'uangny', 'osis', 'azza', 'anggota', 'bu', 'pupr', 'putus', 'bahu', 'pandang', 'bella', 'istiqomah', 'nusantara', 'priode', 'tinja', 'suap', 'ngau', 'habib', 'wilayah', 'regarsormin01', 'sandi', 'nkri', 'progres', 'brarti', 'agusrydsdryn', 'hancur', 'golong', 'nampak', 'apakah', 'leee', 'munzir', 'bangun infratt', 'tante', 'almh', 'massivenya', 'capai', 'biji', 'ceboooookkkkk', '2019kamicoblosno2', 'labuh', 'telah', 'nkri kita', 'itu', 'jangka', 'reuni', 'ngaji', 'reuniakbar212dimonas', 'lebaran', 'gen almaidah 54', '01jokowimantul', 'langsung', 'msoekarnoputri', 'p tnyaan', 'panjat', 'hastag', 'kran2', 'mati', 'semata', '73', '3 menteri', 'kompasiana', '01jokowipresiden', 'juventus', 'om', 'indah', 'heboh', 'salahsatu', 'russia', 'generasi', 'das', 'hrs', 'pasal', 'pospera kaltim', 'lena', 'sama', 'lm', 'amir', 'pangeranmingguan', 'reuniakbar', 'part', 'gin', 'insaallah', 'dia', 'gera', 'runtuh', 'gowes', 'much', 'beritasatu', 'suramadu', 'resiko', 'bloomberg', 'infrastuktur', 'prakarsa', 'jajar', 'trus', 'gol', 'ludah', 'bengkak', '163', 'penjara', 'piring', 'haikal hassan', 'tanpateks', 'pro', 'kitty', 'taxiway', 'kls', 'lebahborneo', 'towel', 'ken', 'empat', 'rapat', 'kutik', 'naek', 'sewa', 'butuh', 'publish', 'kpk', 'kuping', '2019prabowosandikita', 'tular', 'baca', 'mekanisme', 'letwestpapuavote', 'section', 'dinikmatinlah', '10 000', 'gym', 'east', 'umkm', 'lapang', 'tuhan', 'folbek', 'n', 'terima', 'mefitnah', 'banyak', 'kaum', 'struktur', 'aspal', 'yim', 'izin', '2019dkijoin', 'setiadi551', 'tuju', 'free', 'merpati', 'efek', 'efisiensi', 'dpr', 'yuk', 'tp', 'sukabumitoday', 'kalimalang', 'jenis', 'gelisah', 'selebrasi', 'jav', 'periode', 'hariguru', 'prilaku', 'bohong', 'eae18', '119', 'wahid', 'narkoba', 'kaki', 'suryoudoro', 'pidana', 'adl', 'no', 'sepi', 'inshaa', 'butirhikmah', 'jgn2', 'realforjkw', 'mentah', '2018', 'bong', 'super', 'ikan', 'sda', 'sesat', 'mulus', 'agama', 'framingnya', 'jakarta', 'france', 'detiksport', 'pdhl', 'menghidupipancasila', 'kelojot', '2019-2024', 'entas', 'sawah', 'sampe', 'mna', 'diss', 'jadwal', 'disiplin', 'lai', 'sehingga', 'mimpin', 'rutinitas', 'framing', 'siang', 'per', 'tel', 'swasta', 'mikirnya', 'x', 'md3', 'gt', '11 30', '5 3', 'jargon', '5', 'singgasana', 'policy', 'bakso', 'ch chotimah', 'lawan', 'the xdhd', 'ban', 'milenial', 'muhammad', 'usaha', 'anandaemoeis', 'milik', 'pemikir5', 'gunwbisono', 'tata', 'ha', 'produktif', 'studi', 'fokus', 'bobo', 'cried', 'samping', '52 78', 'koperasi', 'stefan ivanov', 'sembarang', 'google', 'dengki', 'liked', 'karena', 'terrorist', 'idiot', 'emak2', '6f', '500', 'sopan', 'ah', 'konarsyusup1', 'sipil', 'satgaspungli', 'reuni212politis', 'bangsat', 'late', 'rahasia', 'sumba', 'andiarief', 'munafiq', 'lain', 'sengaja', 'ma ruf', 'tanding', 'sepenuh', 'elite', 'rekonstruksi', 'preservasi', 'calon', 'pd', 'netherlands', 'amirul hikam', '345', 'ngeles', 'lambung', 'juang', 'boleh', 'tokoh', 'bimbing', 'bikin', 'tiba', 'hahahha', 'sukseanya', 'orang', 'macet', 'oleh2', 'tohok', 'jokower', 'pantas', 'alloh', 'bukan', 'dekat', '19', 'abang', 'kyk', 'ketaqwaan', 'ustadz', 'senior', 'komentar-2', 'tugu', 'imbang', 'muntah', 'tusuk', 'heran', 'meni', 'teknologi', 'humaira979', 'follow4follow', 'jokuwi', 'zona', 'barat', 'grace nat', 'widodo', 'lelaki', 'fisik', 'benderang', '2des2018', 'jahat', '1963', 'bokepkorea', 'benar', 'jokowimembangunindonesia', 'pas', 'lucu', 'taeeeeeek', 'kenyang', 'mohmahfudmd', 'teteeub', 'milanparma', 'segitunya', 'kejang', 'ninnocyber', 'nonton', 'jarot', 'otoriter', 'nyinyirin', 'tradisional', 'rhinysalam', 'sih', 'ribu 40', 'swt', 'mantullll', 'solo', 'joko', 'bodoh', 'wadoooh pd', 'sekaligus', 'hk', 'disabilitas', 'thd', 'bri99', 'asa', 'grateful', 'whatsapp', 'asli', 'pinjam', 'tandas', 'rustamibrahim', 'togelsgp', 'perhati', 'mulut', 'silah', 'ummat', 'bantengkaltim', 'bapak2', 'fungsional', '791', 'bos', 'bundar', 'sop', 'nurulis53223263', 'elu', 'indonesi', 'mari', 'ribu 20', 'iv', 'kerdil', 'ad', 'people', 'kujisa', 'bangga', 'this', 'dr moeldoko', 'project', 'nila', 'jkw2p', 'bsr', 'konco', '2017', 'ane', 'tugas', 'ya', 'belanda', 'jin', 'tentara', 'mantul', 'sekarang', 'kerja', 'karniilyas', 'susup', 'baswedan', 'official', 'namun', 'pecandusore', 'tamu', 'yang', 'neng geli', 'investasi', 'lingwinata81', 'pasif', 'golput', 'benam', 'sebar', 'wapres', 'ampas', 'dulu', 'kibar', '57', '01jokowimenang', 'hare', 'jkw', 'menit', 'pajak', 'segi', 'sungkawa', 'cs', 'mus', 'setiawan', 'hakiki', 'religius', 'eliya mkom', 'beribu2', 'amatir', 'papua-papua', 'sedih', 'berangus', 'bijak', 'tvonenews', 'suriah', 'paling', 'pensiun', 'tetapjokow', 'dagang', 'puas', 'struk tunggu', 'telkomsel', '01indonesiamaju', 'khusus', 'agenda', 'sedamgkan', 'wakil', 'ibadah', 'keberadaanya', 'mahyudinismail', 'com', 'better', 'tanjung', 'seknas', 'level', 'duduk', 'hirau', 'aksesibilitas', 'gitu', 'jenggot', 'infrastruktur', '10m', 'parah', 'witir', 'tawar', 'tol2', '66janji', 'bo ong', 'nama', 'prabowountukindonesia', 'bencong', 'beban', 'muri', 'kh', 'dgn', 'taek', 'bukti', 'tsb', 'masalah', 'pojok', 'iyaa', 'langkah', 'januari', 'sindikat', 'dewasa', 'sini', 'dewi', 'team', 'ustdz', 'kelompok', 'altanuna', 'ruang', 'kok', 'bapak ibu', 'cerdas', 'e', 'audit', 'mlh', 'edar', 'ngedaleminnya', 'terban', 'manfaat', 'yaitu', 'info mek', 'thanks', 'abai', 'beberapa', 'bani', 'veraagustian', 'ahankiki', 'blm', 'mmg', 'minahasa', 'nilai', 'bangkit', 'hadirin', 'aamiin', 'buruh', '6550', 'tender', 'cebong', 'santri', 'nov 18', 'berlaku15jam', 'tiada', 'gara-gara', 'pdkng', 'tanyarl', 'lesu', 'wa', 'mamak', 'timurkotajogja', 'hery80056777', 'teachersday', 'nih', 'tadi', 'staf', 'bab', 'for', 'fadjroel', 'loo', 'babtis', 'can', 'mulai', 'riweuh', 'smith', 'spt', 'banjir', 'tapi', 'cakkhum', 'probolinggo', 'bhakti', 'selaku', 'dua', 'angkut', 'westpapua', 'desember', 'hutan', 'panggil', 'ratanca21675753', 'ceking', 'jaman', 'pemdes', 'sarang', 'mrt', 'kadang', 'stop', 'terimakasih', 'tiap', 'bamboo85212656', 'pakbei7', 'ingkar', 'pondok', 'walau', 'yuni', 'gembar-gembor', 'jelas2', 'bismilah', 'live', 'seyogyanya', 'arstot', 'kip', 'tiga', 'ych7168', 'berangkat', 'limbah', 'ridlwandjogja', 'terkadang', 'diktator', 'target', '01j', 'sontoloyo', 'rawan', 'genosida', 'kaca', '43', 'tuntun', 'at abdillahtoha', 'ryan fareld', 'kondisi', 'terampil', 'youtube', 'berisik', 'kapan', 'kritik', 'sulaiman', 'tks', 'erryfreakz', 'mahar', 'ototopic', 'spirit', 'birfikir', 'bupati', '500m', 'iffhs', 'komisi asn', 'iii', 'ak', 'tuh', 'prioritas', '1 840', 'brooo', 'geblek', 'rmh', 'download', 'cebi', 'cak', 'nu tizen', 'pesawat', 'hmsmarkum', 'ngepost', 'demokrat', 'pdkngnya', 'lampias', 'pasu', 'jatuh', 'semesta', 'hangus', 'rupiah', 'lumpuh', 'nekolim', 'kontroversial', 'mmberitakan kita', 'cilik', 'askmenfess', 'followme', 'unit', 'info binamarga', 'se', 'tegak', 'ngomong', 'kerek', 'an', '97', 'jo1n lamongan', '10', 'lengser', 'gumpal', 're-name', 'tuk', 'kab lebak', 'pres', 'demi', 'banser cybernu', 'asfin', 'lintas', 'bnyk', 'meridhoi', 'malaysia', 'getar', 'domino', 'marah', 'putih', 'enteng', 'banci haid', 'ngejelek2in', 'waktu', 'hasto', 'ciambar', 'punya', 'dpt', 'ukur', 'sadar', 'deregulasi', 'sahal', '3', 'bebas', 'rata', 'istiqlal', 'balada', 'perangkat', 'tahu', 'kapir', 'didih', 'broo', 'genocide', 'slogan', 'robot', 'siwalan', 'sana', 'beras', 'melaratttttt', 'yaa', 'proses', 'sj', 'lembagaf', 'saing', 'emang', 'hasrat', 'kpk ri', 'biasa', 'tega', 'maksain', 'kandang', 'dzalimi', 'rekam', 'mint', '2019prabowopresiden', 'rutin', 'imam', 'kepala', 'fahrihamzah', 'folback', 'nedisetiadi', 'bolak', 'dennis', 'ahmaddhaniprast', 'goreng', 'frisca', 'say', 'parpol', 'iur', 'dm', 'dengan', 'libur', 'stopprovokasi', 'rel', 'millenial', 'gani', 'properti', 'ekologis', 'silo', 'tagar', 'kaya', 'bpntangerangkab', 'brekekekekekekek', 'kumpul2', 'antara', 'ardhie 9179', 'dzolim', 'nisa safiyaa', 'sesak', 'mymarthaa', '32', 'mimpi', 'fpi', 'mjadi', 'syafii', 'komando', 'product', 'ceby', 'sares', 'ke', 'bisikin', 'medan', 'sidik', '2', 'soekarno', 'karangwangi', 'candraasmara85', 'mujahid', 'karna', 'hapus', 'ajaib', 'temuin', 'anda', 'gegara', 'rahmat', 'mas', 'kodok', 'cium', 'hotel', 'skrng', 'ulah', 'ini-itu', 'potonews', 'cewek', 'nyiakan', 'ketidaknyamanannya', 'bangroy sajo', '30 11 2018', '250', 'kpbu', 'al nghothot', 'bentuk', 'roket', 'jdi', 'ananda moeis', 'abgbugil', 'durjana', 'prestasi', 'donk', 'kirain', 'sia2', 'manja', 'loop', 'oposisi', 'nyalahin', 'makin', 'jaenudin', 'walaupun', 'aset', 'momentum', 'eman', 'sederhana', 'jalan', 'resmi', 'sodara', 'channel', 'sobat', 'dianaktirikan', 'paspampres', 'tkn', 'groundbreaking', 'dhani', 'dum', 'wetanki', 'dna', 'dimana2', 'tertib', '1997', 'sejak', 'nge-like', 'kompleks', 'benci', 'simple', 'bagus', 'mere', 'tim', 'jempol', 'ajarin', 'pamer', 'ghiroh', 'bagi mashaa', 'mbahuyok', 'menangkalahgarudadidadaku', '135', 'hongkongpools', '2019gantikepsek', 'sasmita', 'gawat', 'halimun jingga', 'lbh', 'murid', 'dip', 'that', 'sunarwidjaja', 'munduur', 'bangzul 1988', 'kmu', 'military', 'kalcare', 'rekan', 'karet', 'gembira', 'wijaya', 'dlm2', 'reportase', 'tampak', 'p', 'edit', 'gerbong', 'cikarang', 'alumni', 'asyik', 'rangkul', 'kasino', 'ukhuwah saudara', 'kabiner', 'tolong', 'gagal', 'mmahalik2', 'dr', 'tanggap', 'suci', 'pihak', 'surabaya', 'jokowi-ma ruf', '7', 'oh', 'jupiter', 'spongebob', 'citra', 'kunci', 'berni', 'kai', 'disebut2', 'projopusat', 'reuni212dimonas', '01indonesia', 'wkwkwkwkwk', 'hal2', 'duga', 'a', 'ruah', 'gagas', '2021', 'rabbaniprojects', 'lagi', 'romli', 'dd', 'esensi', 'kias', '20 000', 'indigenous', 'marah2', '01ind', 'benahyar', 'jatim', 'capres', 'indikator', '038', 'buya', 'ucon', 'aceh', 'sdg', 'kemarin', 'ciawi-cigombong', 'beliau', 'adalah', 'unik', 'salam', 'geser', 'lg beh cebong pd', 'jkowi', 'non', 'ngancam', 'katedral', 'didik', 'sanitasi', 'soffiagus', 'waprespun', 'haridisabilitasinternasional', 'dmn', 'mirip', 'tam', 'ngrasa', 'cerna', 'divhumas polri', 'trs', 'leader', 'sudrajatasep17', 'tpi', 'siapa', 'selenggara', 'situs', 'milu', 'papuans', 'ghamaproduction', '29 11', 'apbn', 'mil', 'kacamata', 'kompastv', 'ngupi', 'raya', 'shifting', 'era', 'utk', 'alang', 'bareng', 'undang', 'contoh', 'ibarat', 'didu', 'khmluqman', 'sekian', 'antar', 'anjing', 'wkwkwk', 'gedung', 'wong', 'evaluasi', '2019gantipresiden', 'anti', 'takviri', 'perlu', 'pantat', 'tanah', 'bawaslu', 'mohon', 'gimana', 'muka', 'tenang', 'kalkulasi', 'obok2', 'gerakan212', 'gengsi', 'henti', 'utang', 'oke', 'boong', 'primitif', 'benny', 'tipu', 'cuma', 'kubu', 'pribadi', 'mrpiye', 'pare2', 'abdul', 'twit', 'kontribusi', 'hanya', 'kpp pa', 'hgn2018', 'tumbuh', 'taat', 'wisata', 'geliat', 'polling', 'petisi', 'ubah', 'alat', 'nationalteachersday', 'juru', 'pk', 'ii', 'link text', 'bensin', 'usang', 'sembah', 'klo', 'remeh', 'bhw', 'swasta bumn', 'prabowo', 'perkosa', 'scenario', 'nandingin', 'ciawi-sukabumi', 'mayoritas', 'feradiana a', 'garap', 'sate', 'we', 'promosiin', 'kuleuheu', 'rame', 'muncul', '369', 'jagona', 'masih', 'berdesak-desakan', 'clbk', 'cerdik', 'mendowngradenya', 'segala', 'infowestpapua', 'from', 'koment-folback', 'kejut', 'birgaldos', 'laporin', 'produk', 'blom', 'survei', 'jernih', 'pun teteeeeeppp', 'mudah2an', 'kembang', 'donejuan3', 'sma', 'institute', 'masif', 'hajar', 'daerah', 'mashaa', 'sinode', 'alir', 'konsumtif', 'tv', 'beton', 'kerjakerjakerja', 'udh', 'syaa', 'dewantara adjie', 'mcaops', 'radikal', 'saptu', 'tetapjokowi', 'marioakbarr', 'gus pul07', 'anggur', 'jokowibangunindonesia', 'gen', 'berani', 'poker88wd', 'dpc', 'ebugogo2periode', 'struuuk', 'blueprint nya', 'nol', 'mngungkapkan', 'paba', 'sendiri', 'tangkal', 'mu', 'only', 'pekan', 'tempuh', 'piktor', 'guling2', 'nyata', 'karat', 'silaturahmi', 'seksi', 'pbangunan', 'loe reuni', 'pu', 'kereta', 'bangpino', 'akun', 'pingsan', 'lagrande', 'layang', 'others', 'loe', 'prasangka', 'rambut', 'fjb', 'sistem', 'dari', 'satya', 'balikin', 'hati', 'bsa', 'santai', 'republika', 'ye', 'serang', 'nyindir', 'sekitar', 'kepleset', 'hoak', 'catat', 'pace', 'jelasin', 'mersi', 'ama', 'genderuwo', 'dahsyat', 'mancing', 'kornhurry', 'sbyudhoyono', 'tpn-opm', 'tiru', 'betapa', 'ngutang', 'salah', 'abuanaaf', 'mendatagkan', 'padu', '9', 'yaaa', 'baik', 'adlah', 'ayo', '2019prabowopresident08', 'sikap', 'kayuh', 'jd', 'fadlizon', 'area', 'mahfudz', 'rajapurwa', 'kumpul', 'makar', 'sub', 'zainudin', 'ttg', 'koh', 'national', 'saah', 'entah', 'operandi', 'wisman', 'gawir2', 'mensejahtetakan', 'dahnilanzar', 'praska', 'kl', 'kumpar', 'bego', 'alokasi', 'mempan', 'pilgub', 'cegah', 'kesehjateraan', 'wawanrescue', 'nak', 'tempurung', 'ingat', 'sandiuno', 'nasi', 'gereja', 'stakof', 'hasut', 'sejati', 'ronny jaya', 'hoby', 'jln', 'menaggapi', 'pesantren', 'gak', 'sanubari', 'representasi', 'perspektif', 'birokrasi', 'need', 'ampun', 'aplg', '10 5jam', 'dunguuuu', 'datang', 'lagu', 'meme', 'kasanmulyono', 'pernah', 'sandiaga', 'selain', 'paut', 'gaeesss', '1 700', 'maluuu', 'hadiah', 'post', 'malah', 'berkuliatas', 'panjang', 'akibat', 'susah', 'msapunya', '10k', 'kwartir', 'budikaryas', 'radioelshinta', 'provinsi', 'salam01jempol', 'gerombol', 'u-16', 'materi', 'sangat', '80', 'progressive', 'situ', 'habis', 'teriak2', 'mampu', 'as-tiongkok', 'deschamps', '1', 'klu', 'bhd 58', '300-an', '2019prabowopresidenkita', 'juara', 'amin', 'nu', 'air', 'inshaallah', 'otomatis', 'mlm', 'reuniakbarmujahid212', '52', 'rizieq', 'mandalika', 'berdikari', 'pekanbaru', 'makam', 'etika', 'lihat', 'satu2', 'rokoksurya', 'seaqidah', 'iring', 'bahdirdja', 'engkau', 'panas', 'nga', 'buku', 'everything', 'kendali', 'ikhtiar', 'nama mei', 'd', 'panjaitan', 'banten', 'surat', 'g20', 'basah', 'virus', 'pala', 'negara', 'jawab', 'solomon', 'is', 'genggam', 'sesi', 'cair', 'integrasi', 'yosepparonkabon', 'tetap', 'begitu', '1335', 'kite', 'lentera', 'ulysses ferrel', 'hak', 'gk', 'tirta helena', 'landas', 'masalah2', 'kasur', 'sector', 'bui', '2 12 18', 'ngaco', '60', 'gurumurid', 'nahdliyin', 'hebat', 'resolusi', 'pariwisata', 'apalagi', 'maki2', 'by', 'juta', 'pidato', 'doa', 'tinggal', 'ali', 'musyawarah', 'kardus', 'yg', 'lalu', 'muhammadiyah', 'amien', 'yaman', 'berat', 'bagai', 'ambition', 'namany', 'spionasenkri', 'kemudian', 'yak', 'lawangerakanseparatis', 'bayan', 'suatu', 'rok', 'idola', 'etc', '1 9', 'republikaonline', 'mumpung', 'singkir', 'ya baca', 'thearieair', 'rang', 'minum', '2015', 'rifanikunafir', 'kalo', 'lengah', 'pdiperjuangan kaltim', 'harto', 'kariiiim', 'cintankri12', 'supaya', 'ewako', '3gp', 'yakud', 'mara', 'fchmidiot', 'listrik', 'timpang', 'filbertstwn', 'nasdem', 'mrepet', 'napas', '22', 'guru', 'cipta', 'joksusi2019', 'rizmawidiono', 'ze sukma', 'savicali', 'pak jk', 'gantung', 'fii', 'my', 'diplomacy', 'mediaindonesia', 'megawati', 'rakyat kita', 'nink47018190', 'pertama', 'reuniakabr212dimonas', 'tenggara', '15 4', 'effect', 'mdh', 'lgsung', 'tirtoid', '2019pilihjokowi', 'sinar', 'sean4president', 'lega', 'ente', 'yoman', 'kapasitas', 'pujanarto', '2019jokowikyaimaruf', 'penuh', 'ber', '12', 'baleteros', 'benah', '30', 'patri', '2016', 'destinasi', 'hut', 'harryktea', 'gemacan70', 'repelitaonline', 'genep']\n"
     ]
    }
   ],
   "source": [
    "factory = StemmerFactory()\n",
    "stemmer = factory.create_stemmer()\n",
    "words = []\n",
    "classes = []\n",
    "documents = []\n",
    "ignore_words = ['?','']\n",
    "for index, pattern in df.iterrows():\n",
    "    res = re.sub(r\"http\\S+\", \"\", pattern['sentence'])#remove unnecessary links\n",
    "    w = nltk.word_tokenize(res)\n",
    "    words.extend(w)\n",
    "    documents.append((w, pattern['class']))# add to documents in our corpus\n",
    "    if pattern['class'] not in classes:# add to our classes list\n",
    "        classes.append(pattern['class'])\n",
    "words = [stemmer.stem(w.lower()) for w in words if w not in ignore_words]# stem and lower each word and remove duplicates\n",
    "words = list(set(words))# remove duplicates\n",
    "classes = list(set(classes))# remove duplicates\n",
    "print(len(documents), \"documents\")\n",
    "print(len(classes), \"classes\", classes)\n",
    "print(len(words), \"unique stemmed words\", words)"
   ]
  },
  {
   "cell_type": "code",
   "execution_count": 77,
   "metadata": {},
   "outputs": [],
   "source": [
    "training = []\n",
    "output = []\n",
    "output_empty = [0] * len(classes) #output array\n",
    "for doc in documents: #training set, bag of words for each sentence\n",
    "    bag = [] #initialize bag of words\n",
    "    pattern_words = doc[0] #list of tokenized words for the pattern\n",
    "    pattern_words = [stemmer.stem(word.lower()) for word in pattern_words] #stem each word\n",
    "    for w in words:\n",
    "        bag.append(1) if w in pattern_words else bag.append(0) #create our bag of words array\n",
    "    training.append(bag)\n",
    "    output_row = list(output_empty) #output is a '0' for each tag and '1' for current tag\n",
    "    output_row[classes.index(doc[1])] = 1\n",
    "    output.append(output_row)"
   ]
  },
  {
   "cell_type": "code",
   "execution_count": 78,
   "metadata": {},
   "outputs": [],
   "source": [
    "#Below can be replaced with SCIKIT\n",
    "import numpy as np\n",
    "import time\n",
    "\n",
    "def sigmoid(x):#sigmoid function\n",
    "    output = 1/(1+np.exp(-x))\n",
    "    return output\n",
    "\n",
    "def sigmoid_output_to_derivative(output):# convert output of sigmoid function to its derivative\n",
    "    return output*(1-output)\n",
    " \n",
    "def clean_up_sentence(sentence):\n",
    "    sentence_words = nltk.word_tokenize(sentence) #tokenize to words\n",
    "    sentence_words = [stemmer.stem(word.lower()) for word in sentence_words] #stem words\n",
    "    return sentence_words\n",
    "\n",
    "def bow(sentence, words, show_details=False): #return bag of words array: 0 or 1 for each word in the bag that exists in the sentence\n",
    "    sentence_words = clean_up_sentence(sentence) #tokenize the pattern\n",
    "    bag = [0]*len(words)#bag of words\n",
    "    for s in sentence_words:\n",
    "        for i,w in enumerate(words):\n",
    "            if w == s: \n",
    "                bag[i] = 1\n",
    "                if show_details:\n",
    "                    print (\"found in bag: %s\" % w)\n",
    "    return(np.array(bag))\n",
    "\n",
    "def think(sentence, show_details=False):#this is for testing\n",
    "    x = bow(sentence.lower(), words, show_details)\n",
    "    if show_details:\n",
    "        print (\"sentence:\", sentence, \"\\n bow:\", x)\n",
    "    l0 = x\n",
    "    l1 = sigmoid(np.dot(l0, synapse_0)) #neural network feed forward from input to hidden\n",
    "    l2 = sigmoid(np.dot(l1, synapse_1)) #neural network feed forward from hidden to output\n",
    "    return l2"
   ]
  },
  {
   "cell_type": "code",
   "execution_count": 79,
   "metadata": {},
   "outputs": [],
   "source": [
    "def train(X, y, hidden_neurons=10, alpha=1, epochs=50000, dropout=False, dropout_percent=0.5):\n",
    "    print (\"Training with %s neurons, alpha:%s, dropout:%s %s\" % (hidden_neurons, str(alpha), dropout, dropout_percent if dropout else '') )\n",
    "    print (\"Input matrix: %sx%s    Output matrix: %sx%s\" % (len(X),len(X[0]),1, len(classes)) )\n",
    "    np.random.seed(1)\n",
    "    last_mean_error = 1\n",
    "    #randomize weights and neurons\n",
    "    synapse_0 = 2*np.random.random((len(X[0]), hidden_neurons)) - 1\n",
    "    synapse_1 = 2*np.random.random((hidden_neurons, len(classes))) - 1\n",
    "\n",
    "    prev_synapse_0_weight_update = np.zeros_like(synapse_0)\n",
    "    prev_synapse_1_weight_update = np.zeros_like(synapse_1)\n",
    "\n",
    "    synapse_0_direction_count = np.zeros_like(synapse_0)\n",
    "    synapse_1_direction_count = np.zeros_like(synapse_1)\n",
    "        \n",
    "    for j in iter(range(epochs+1)):\n",
    "        # Feed forward through layers 0, 1, and 2\n",
    "        layer_0 = X\n",
    "        layer_1 = sigmoid(np.dot(layer_0, synapse_0))\n",
    "                \n",
    "        if(dropout):\n",
    "            layer_1 *= np.random.binomial([np.ones((len(X),hidden_neurons))],1-dropout_percent)[0] * (1.0/(1-dropout_percent))\n",
    "\n",
    "        layer_2 = sigmoid(np.dot(layer_1, synapse_1))\n",
    "\n",
    "        layer_2_error = y - layer_2\n",
    "\n",
    "        if (j% 10000) == 0 and j > 5000:\n",
    "            if np.mean(np.abs(layer_2_error)) < last_mean_error:\n",
    "                print (\"delta after \"+str(j)+\" iterations:\" + str(np.mean(np.abs(layer_2_error))) )\n",
    "                last_mean_error = np.mean(np.abs(layer_2_error))\n",
    "            else:\n",
    "                print (\"break:\", np.mean(np.abs(layer_2_error)), \">\", last_mean_error )\n",
    "                break\n",
    "                \n",
    "        layer_2_delta = layer_2_error * sigmoid_output_to_derivative(layer_2)\n",
    "\n",
    "        layer_1_error = layer_2_delta.dot(synapse_1.T)\n",
    "\n",
    "        layer_1_delta = layer_1_error * sigmoid_output_to_derivative(layer_1)\n",
    "        \n",
    "        synapse_1_weight_update = (layer_1.T.dot(layer_2_delta))\n",
    "        synapse_0_weight_update = (layer_0.T.dot(layer_1_delta))\n",
    "        \n",
    "        if(j > 0):\n",
    "            synapse_0_direction_count += np.abs(((synapse_0_weight_update > 0)+0) - ((prev_synapse_0_weight_update > 0) + 0))\n",
    "            synapse_1_direction_count += np.abs(((synapse_1_weight_update > 0)+0) - ((prev_synapse_1_weight_update > 0) + 0))        \n",
    "        \n",
    "        synapse_1 += alpha * synapse_1_weight_update\n",
    "        synapse_0 += alpha * synapse_0_weight_update\n",
    "        \n",
    "        prev_synapse_0_weight_update = synapse_0_weight_update\n",
    "        prev_synapse_1_weight_update = synapse_1_weight_update\n",
    "\n",
    "    now = datetime.datetime.now()\n",
    "\n",
    "    #make the model when training is done\n",
    "    synapse = {'synapse0': synapse_0.tolist(), 'synapse1': synapse_1.tolist(),\n",
    "               'datetime': now.strftime(\"%Y-%m-%d %H:%M\"),\n",
    "               'words': words,\n",
    "               'classes': classes\n",
    "              }\n",
    "    synapse_file = \"model.json\"\n",
    "\n",
    "    with open(synapse_file, 'w') as outfile:\n",
    "        json.dump(synapse, outfile, indent=4, sort_keys=True)\n",
    "    print (\"saved synapses to:\", synapse_file)"
   ]
  },
  {
   "cell_type": "code",
   "execution_count": 80,
   "metadata": {},
   "outputs": [
    {
     "name": "stdout",
     "output_type": "stream",
     "text": [
      "Training with 20 neurons, alpha:0.1, dropout:False \n",
      "Input matrix: 2000x4070    Output matrix: 1x2\n",
      "delta after 10000 iterations:0.0012261592590481483\n",
      "delta after 20000 iterations:0.0008816829354098885\n",
      "delta after 30000 iterations:0.0008499794863258078\n",
      "delta after 40000 iterations:0.0001619577447181775\n",
      "delta after 50000 iterations:9.926641906245379e-05\n",
      "delta after 60000 iterations:7.96690458359044e-05\n",
      "delta after 70000 iterations:6.893863187638002e-05\n",
      "delta after 80000 iterations:6.187458891688796e-05\n",
      "delta after 90000 iterations:5.6754386841135594e-05\n",
      "delta after 100000 iterations:5.281443014837247e-05\n",
      "saved synapses to: model.json\n",
      "processing time: 11130.014335155487 seconds\n"
     ]
    }
   ],
   "source": [
    "X = np.array(training)\n",
    "y = np.array(output)\n",
    "\n",
    "start_time = time.time()\n",
    "\n",
    "train(X, y, hidden_neurons=20, alpha=0.1, epochs=100000, dropout=False, dropout_percent=0.2) #start training\n",
    "\n",
    "elapsed_time = time.time() - start_time\n",
    "print (\"processing time:\", elapsed_time, \"seconds\")"
   ]
  },
  {
   "cell_type": "code",
   "execution_count": null,
   "metadata": {},
   "outputs": [],
   "source": []
  }
 ],
 "metadata": {
  "kernelspec": {
   "display_name": "Python 3",
   "language": "python",
   "name": "python3"
  },
  "language_info": {
   "codemirror_mode": {
    "name": "ipython",
    "version": 3
   },
   "file_extension": ".py",
   "mimetype": "text/x-python",
   "name": "python",
   "nbconvert_exporter": "python",
   "pygments_lexer": "ipython3",
   "version": "3.6.6"
  }
 },
 "nbformat": 4,
 "nbformat_minor": 2
}
