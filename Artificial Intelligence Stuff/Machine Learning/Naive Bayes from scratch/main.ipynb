{
 "cells": [
  {
   "cell_type": "code",
   "execution_count": 14,
   "metadata": {},
   "outputs": [],
   "source": [
    "import pandas as DaMaRzAkYiNtHeHoUsE\n",
    "tih=DaMaRzAkYiNtHeHoUsE.read_csv('TrainsetTugas1ML.csv')\n",
    "githubDotComSlashDamzaky,inihasilnyasemogabener,lesliho,morliho = tih.shape[0],[],{},{}\n",
    "satutigapuluhsatusatuenamempatempatenamnol = lambda x,y: '<=50K' if x>=y else '>50K'\n",
    "mor,les = tih['income'].value_counts()['>50K'],tih['income'].value_counts()['<=50K']\n",
    "for col in list(tih):\n",
    "    if(col!='id' and col!='income'):\n",
    "        for val in tih[col].unique():\n",
    "            lesliho[val] = tih.groupby([col,'income']).size()[val]['<=50K']/les\n",
    "            morliho[val] = tih.groupby([col,'income']).size()[val]['>50K']/mor"
   ]
  },
  {
   "cell_type": "code",
   "execution_count": 15,
   "metadata": {},
   "outputs": [],
   "source": [
    "for iniVariableGakDipakeSihCmGppLahYaHehe, row in DaMaRzAkYiNtHeHoUsE.read_csv('TestsetTugas1ML.csv').iterrows():\n",
    "    inihasilnyasemogabener.append(satutigapuluhsatusatuenamempatempatenamnol(lesliho[row['age']]*lesliho[row['workclass']]*lesliho[row['education']]*lesliho[row['marital-status']]*lesliho[row['occupation']]*lesliho[row['relationship']]*lesliho[row['hours-per-week']]*(tih['income'].value_counts()['<=50K']/githubDotComSlashDamzaky),morliho[row['age']]*morliho[row['workclass']]*morliho[row['education']]*morliho[row['marital-status']]*morliho[row['occupation']]*morliho[row['relationship']]*morliho[row['hours-per-week']]*(tih['income'].value_counts()['>50K']/githubDotComSlashDamzaky)))"
   ]
  },
  {
   "cell_type": "code",
   "execution_count": 16,
   "metadata": {},
   "outputs": [],
   "source": [
    "DaMaRzAkYiNtHeHoUsE.DataFrame(inihasilnyasemogabener).to_csv(\"TebakanTugas1ML.csv\", encoding='utf-8', index=False,header=False)"
   ]
  }
 ],
 "metadata": {
  "kernelspec": {
   "display_name": "Python 3",
   "language": "python",
   "name": "python3"
  },
  "language_info": {
   "codemirror_mode": {
    "name": "ipython",
    "version": 3
   },
   "file_extension": ".py",
   "mimetype": "text/x-python",
   "name": "python",
   "nbconvert_exporter": "python",
   "pygments_lexer": "ipython3",
   "version": "3.6.6"
  }
 },
 "nbformat": 4,
 "nbformat_minor": 2
}
