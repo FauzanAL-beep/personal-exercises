{
 "cells": [
  {
   "cell_type": "code",
   "execution_count": 2,
   "metadata": {},
   "outputs": [],
   "source": [
    "import pandas as IniBukanLibraryML#ngimpor lirbary pemabca csv\n",
    "tih,tes=IniBukanLibraryML.read_csv('TrainsetTugas1ML.csv'),IniBukanLibraryML.read_csv('TestsetTugas1ML.csv')#ngimpor data baut trianing dan tseting\n",
    "SatuTigaNolSatuSatuEnamEmpatEmpatEnamNol=lambda SayaBenciPythonJavascriptIsTheBest,LSTM_CNN_GRU_ACC_STILL_STUCK_AT_85: '<=50K' if SayaBenciPythonJavascriptIsTheBest>=LSTM_CNN_GRU_ACC_STILL_STUCK_AT_85 else '>50K'#fugnsi buat liekilohod\n",
    "githubDotComSlashDamzaky,SiMILaRiTY0peRCeNt,lesliho,morliho=tih.shape[0],[],{},{}#inisailisasi vbarialbe\n",
    "mor,les=tih['income'].value_counts()['>50K'],tih['income'].value_counts()['<=50K']#assginemnt julmah masing2 salah bnear\n",
    "for IniAdalahKolom in list(tih):#itearsi kolom liekilhood\n",
    "    if(IniAdalahKolom!='id' and IniAdalahKolom!='income'):#exlcude kolom id dan income\n",
    "        for IniAdalahIsiSetiapKolom in tih[IniAdalahKolom].unique():#itearsi baris liekilhood\n",
    "            morliho[IniAdalahIsiSetiapKolom],lesliho[IniAdalahIsiSetiapKolom]=tih.groupby([IniAdalahKolom,'income']).size().unstack().fillna(0).stack()[IniAdalahIsiSetiapKolom]['>50K']/mor,tih.groupby([IniAdalahKolom,'income']).size().unstack().fillna(0).stack()[IniAdalahIsiSetiapKolom]['<=50K']/les#mebmuat liekilhood untuk keuda kleas\n",
    "for MaafBerantakanIniKodingannyaBeneranKokCobaAjaRun,IniAdalahBaris in tes.iterrows():#ngtees pake test datsaet\n",
    "    SiMILaRiTY0peRCeNt.append(SatuTigaNolSatuSatuEnamEmpatEmpatEnamNol((0 if IniAdalahBaris['age'] not in lesliho else lesliho[IniAdalahBaris['age']])*(0 if IniAdalahBaris['workclass'] not in lesliho else lesliho[IniAdalahBaris['workclass']])*(0 if IniAdalahBaris['education'] not in lesliho else lesliho[IniAdalahBaris['education']])*(0 if IniAdalahBaris['marital-status'] not in lesliho else lesliho[IniAdalahBaris['marital-status']])*(0 if IniAdalahBaris['occupation'] not in lesliho else lesliho[IniAdalahBaris['occupation']])*(0 if IniAdalahBaris['relationship'] not in lesliho else lesliho[IniAdalahBaris['relationship']])*(0 if IniAdalahBaris['hours-per-week'] not in lesliho else lesliho[IniAdalahBaris['hours-per-week']])*(tih['income'].value_counts()['<=50K']/githubDotComSlashDamzaky),(0 if IniAdalahBaris['age'] not in morliho else morliho[IniAdalahBaris['age']])*(0 if IniAdalahBaris['workclass'] not in morliho else morliho[IniAdalahBaris['workclass']])*(0 if IniAdalahBaris['education'] not in morliho else morliho[IniAdalahBaris['education']])*(0 if IniAdalahBaris['marital-status'] not in morliho else morliho[IniAdalahBaris['marital-status']])*(0 if IniAdalahBaris['occupation'] not in morliho else morliho[IniAdalahBaris['occupation']])*(0 if IniAdalahBaris['relationship'] not in morliho else morliho[IniAdalahBaris['relationship']])*(0 if IniAdalahBaris['hours-per-week'] not in morliho else morliho[IniAdalahBaris['hours-per-week']])*(tih['income'].value_counts()['>50K']/githubDotComSlashDamzaky)))#ngeperdiksi\n",
    "IniBukanLibraryML.DataFrame(SiMILaRiTY0peRCeNt).to_csv(\"TebakanTugas1ML.csv\",encoding='utf-8',index=False,header=False)#ngkespor teabkan"
   ]
  },
  {
   "cell_type": "code",
   "execution_count": 3,
   "metadata": {},
   "outputs": [
    {
     "name": "stdout",
     "output_type": "stream",
     "text": [
      "accuracy using k=4-fold validation: 0.8312499999999999\n"
     ]
    }
   ],
   "source": [
    "fold,ss,avg=4,[],0 #K-FOLD VALIDATION, UBAH fold UNTUK MENGGANTI ANGKA K\n",
    "nt=githubDotComSlashDamzaky/fold\n",
    "for i in range(fold):\n",
    "    ttst,tiht,ss=tih[int(i*nt):int(i*nt+nt)],tih.drop(tih.index[int(i*nt):int(i*nt+nt)]),[]\n",
    "    for MaafBerantakanIniKodingannyaBeneranKokCobaAjaRun,IniAdalahBaris in ttst.iterrows():#ngtees pake test datsaet\n",
    "        ss.append(SatuTigaNolSatuSatuEnamEmpatEmpatEnamNol((0 if IniAdalahBaris['age'] not in lesliho else lesliho[IniAdalahBaris['age']])*(0 if IniAdalahBaris['workclass'] not in lesliho else lesliho[IniAdalahBaris['workclass']])*(0 if IniAdalahBaris['education'] not in lesliho else lesliho[IniAdalahBaris['education']])*(0 if IniAdalahBaris['marital-status'] not in lesliho else lesliho[IniAdalahBaris['marital-status']])*(0 if IniAdalahBaris['occupation'] not in lesliho else lesliho[IniAdalahBaris['occupation']])*(0 if IniAdalahBaris['relationship'] not in lesliho else lesliho[IniAdalahBaris['relationship']])*(0 if IniAdalahBaris['hours-per-week'] not in lesliho else lesliho[IniAdalahBaris['hours-per-week']])*(tih['income'].value_counts()['<=50K']/githubDotComSlashDamzaky),(0 if IniAdalahBaris['age'] not in morliho else morliho[IniAdalahBaris['age']])*(0 if IniAdalahBaris['workclass'] not in morliho else morliho[IniAdalahBaris['workclass']])*(0 if IniAdalahBaris['education'] not in morliho else morliho[IniAdalahBaris['education']])*(0 if IniAdalahBaris['marital-status'] not in morliho else morliho[IniAdalahBaris['marital-status']])*(0 if IniAdalahBaris['occupation'] not in morliho else morliho[IniAdalahBaris['occupation']])*(0 if IniAdalahBaris['relationship'] not in morliho else morliho[IniAdalahBaris['relationship']])*(0 if IniAdalahBaris['hours-per-week'] not in morliho else morliho[IniAdalahBaris['hours-per-week']])*(tih['income'].value_counts()['>50K']/githubDotComSlashDamzaky)))#ngeperdiksi\n",
    "    avg+=len([x for x, y in zip(ttst[\"income\"].values, ss) if x==y])/len(ss)\n",
    "print('accuracy using k='+str(fold)+'-fold validation:',avg/fold)"
   ]
  },
  {
   "cell_type": "code",
   "execution_count": null,
   "metadata": {},
   "outputs": [],
   "source": []
  }
 ],
 "metadata": {
  "kernelspec": {
   "display_name": "Python 3",
   "language": "python",
   "name": "python3"
  },
  "language_info": {
   "codemirror_mode": {
    "name": "ipython",
    "version": 3
   },
   "file_extension": ".py",
   "mimetype": "text/x-python",
   "name": "python",
   "nbconvert_exporter": "python",
   "pygments_lexer": "ipython3",
   "version": "3.6.6"
  }
 },
 "nbformat": 4,
 "nbformat_minor": 2
}
