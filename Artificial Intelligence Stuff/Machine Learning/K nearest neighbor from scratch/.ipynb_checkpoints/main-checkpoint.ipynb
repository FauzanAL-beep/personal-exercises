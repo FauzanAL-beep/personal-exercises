{
 "cells": [
  {
   "cell_type": "code",
   "execution_count": null,
   "metadata": {},
   "outputs": [],
   "source": [
    "import pandas as pd\n",
    "import numpy as np\n",
    "\n",
    "df1 = pd.read_csv('DataTrain_Tugas3_AI.csv', index_col=False, header=0);\n",
    "df2 = pd.read_csv('DataTest_Tugas3_AI.csv', index_col=False, header=0);\n",
    "\n",
    "k=3\n",
    "\n",
    "def manh(x1,x2):\n",
    "    return np.abs(x1-x2)\n",
    "\n",
    "j=0\n",
    "hasil=[]\n",
    "for index2, row2 in df2.iterrows():\n",
    "    has2=[]\n",
    "    for index1, row1 in df1.iterrows():\n",
    "        has=0\n",
    "        for i in range(5):\n",
    "            has+=(manh(row2[i+1],row1[i+1]))\n",
    "        has2.append({'class':row1[6],'distance':has})\n",
    "    has2.sort(key=lambda k : k['distance'])\n",
    "    classes={}\n",
    "    for i in range(k):\n",
    "        if has2[i]['class'] in classes:\n",
    "            classes[has2[i]['class']]+=1\n",
    "        else:\n",
    "            classes[has2[i]['class']]=1\n",
    "\n",
    "    hasil.append('%g'%(max(classes, key=classes.get)))\n",
    "\n",
    "export = pd.DataFrame(hasil)\n",
    "export.to_csv(\"TebakanTugas3.csv\", encoding='utf-8', index=False,header=False)"
   ]
  }
 ],
 "metadata": {
  "kernelspec": {
   "display_name": "Python 3",
   "language": "python",
   "name": "python3"
  },
  "language_info": {
   "codemirror_mode": {
    "name": "ipython",
    "version": 3
   },
   "file_extension": ".py",
   "mimetype": "text/x-python",
   "name": "python",
   "nbconvert_exporter": "python",
   "pygments_lexer": "ipython3",
   "version": "3.6.6"
  }
 },
 "nbformat": 4,
 "nbformat_minor": 2
}
