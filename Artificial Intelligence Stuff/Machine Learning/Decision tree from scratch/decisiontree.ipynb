{
 "cells": [
  {
   "cell_type": "code",
   "execution_count": 17,
   "metadata": {},
   "outputs": [
    {
     "data": {
      "text/html": [
       "<div>\n",
       "<style scoped>\n",
       "    .dataframe tbody tr th:only-of-type {\n",
       "        vertical-align: middle;\n",
       "    }\n",
       "\n",
       "    .dataframe tbody tr th {\n",
       "        vertical-align: top;\n",
       "    }\n",
       "\n",
       "    .dataframe thead th {\n",
       "        text-align: right;\n",
       "    }\n",
       "</style>\n",
       "<table border=\"1\" class=\"dataframe\">\n",
       "  <thead>\n",
       "    <tr style=\"text-align: right;\">\n",
       "      <th></th>\n",
       "      <th>0</th>\n",
       "      <th>1</th>\n",
       "      <th>2</th>\n",
       "      <th>3</th>\n",
       "    </tr>\n",
       "  </thead>\n",
       "  <tbody>\n",
       "    <tr>\n",
       "      <th>0</th>\n",
       "      <td>salty</td>\n",
       "      <td>hot</td>\n",
       "      <td>soft</td>\n",
       "      <td>no</td>\n",
       "    </tr>\n",
       "    <tr>\n",
       "      <th>1</th>\n",
       "      <td>spicy</td>\n",
       "      <td>hot</td>\n",
       "      <td>soft</td>\n",
       "      <td>no</td>\n",
       "    </tr>\n",
       "    <tr>\n",
       "      <th>2</th>\n",
       "      <td>spicy</td>\n",
       "      <td>hot</td>\n",
       "      <td>hard</td>\n",
       "      <td>yes</td>\n",
       "    </tr>\n",
       "    <tr>\n",
       "      <th>3</th>\n",
       "      <td>spicy</td>\n",
       "      <td>hot</td>\n",
       "      <td>hard</td>\n",
       "      <td>yes</td>\n",
       "    </tr>\n",
       "    <tr>\n",
       "      <th>4</th>\n",
       "      <td>spicy</td>\n",
       "      <td>cold</td>\n",
       "      <td>hard</td>\n",
       "      <td>no</td>\n",
       "    </tr>\n",
       "    <tr>\n",
       "      <th>5</th>\n",
       "      <td>sweet</td>\n",
       "      <td>cold</td>\n",
       "      <td>soft</td>\n",
       "      <td>yes</td>\n",
       "    </tr>\n",
       "    <tr>\n",
       "      <th>6</th>\n",
       "      <td>salty</td>\n",
       "      <td>cold</td>\n",
       "      <td>soft</td>\n",
       "      <td>no</td>\n",
       "    </tr>\n",
       "    <tr>\n",
       "      <th>7</th>\n",
       "      <td>sweet</td>\n",
       "      <td>hot</td>\n",
       "      <td>soft</td>\n",
       "      <td>yes</td>\n",
       "    </tr>\n",
       "    <tr>\n",
       "      <th>8</th>\n",
       "      <td>spicy</td>\n",
       "      <td>cold</td>\n",
       "      <td>soft</td>\n",
       "      <td>yes</td>\n",
       "    </tr>\n",
       "    <tr>\n",
       "      <th>9</th>\n",
       "      <td>salty</td>\n",
       "      <td>hot</td>\n",
       "      <td>hard</td>\n",
       "      <td>yes</td>\n",
       "    </tr>\n",
       "  </tbody>\n",
       "</table>\n",
       "</div>"
      ],
      "text/plain": [
       "       0     1     2    3\n",
       "0  salty   hot  soft   no\n",
       "1  spicy   hot  soft   no\n",
       "2  spicy   hot  hard  yes\n",
       "3  spicy   hot  hard  yes\n",
       "4  spicy  cold  hard   no\n",
       "5  sweet  cold  soft  yes\n",
       "6  salty  cold  soft   no\n",
       "7  sweet   hot  soft  yes\n",
       "8  spicy  cold  soft  yes\n",
       "9  salty   hot  hard  yes"
      ]
     },
     "execution_count": 17,
     "metadata": {},
     "output_type": "execute_result"
    }
   ],
   "source": [
    "import pandas as pd\n",
    "import numpy as np\n",
    "from collections import Counter\n",
    "import math\n",
    "\n",
    "df = pd.read_csv('dataset/kidfood.csv', header=None)\n",
    "df"
   ]
  },
  {
   "cell_type": "code",
   "execution_count": 18,
   "metadata": {},
   "outputs": [],
   "source": [
    "answer=df[df.columns[3]].values"
   ]
  },
  {
   "cell_type": "code",
   "execution_count": 24,
   "metadata": {},
   "outputs": [
    {
     "name": "stdout",
     "output_type": "stream",
     "text": [
      "['no' 'no' 'yes' 'yes' 'no' 'yes' 'no' 'yes' 'yes' 'yes']\n",
      "unique:  2\n",
      "total:  10\n",
      "{'no': 4, 'yes': 6}\n",
      "0.4\n",
      "0.6\n",
      "0.9709505944546686\n"
     ]
    }
   ],
   "source": [
    "def entropy(answer):\n",
    "    print(answer)\n",
    "    total=len(answer)\n",
    "    unique=len(set(answer))\n",
    "    print(\"unique: \",unique)\n",
    "    print(\"total: \",total)\n",
    "    count=dict(Counter(answer))\n",
    "    print(count)\n",
    "    p=count['no']/total\n",
    "    print(p)\n",
    "    e=(-p)*np.log2(p)\n",
    "    #for i in range(2,unique): #harusnya pake for, counter yes no coba jadi array, jangan dict\n",
    "    p=count['yes']/total\n",
    "    print(p)\n",
    "    e+=(-p)*np.log2(p)\n",
    "    \n",
    "    return e\n",
    "e=entropy(answer)\n",
    "print(e)"
   ]
  },
  {
   "cell_type": "code",
   "execution_count": null,
   "metadata": {},
   "outputs": [],
   "source": []
  }
 ],
 "metadata": {
  "kernelspec": {
   "display_name": "Python 3",
   "language": "python",
   "name": "python3"
  },
  "language_info": {
   "codemirror_mode": {
    "name": "ipython",
    "version": 3
   },
   "file_extension": ".py",
   "mimetype": "text/x-python",
   "name": "python",
   "nbconvert_exporter": "python",
   "pygments_lexer": "ipython3",
   "version": "3.6.6"
  }
 },
 "nbformat": 4,
 "nbformat_minor": 2
}
