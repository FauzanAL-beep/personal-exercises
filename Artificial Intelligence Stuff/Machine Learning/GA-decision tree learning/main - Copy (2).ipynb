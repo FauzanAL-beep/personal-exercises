{
 "cells": [
  {
   "cell_type": "code",
   "execution_count": 1,
   "metadata": {},
   "outputs": [],
   "source": [
    "import pandas as pd\n",
    "import numpy as np\n",
    "\n",
    "tabel = pd.read_csv('data_latih_opsi_2.csv', sep=',', header=None)"
   ]
  },
  {
   "cell_type": "code",
   "execution_count": 2,
   "metadata": {},
   "outputs": [],
   "source": [
    "#15 bit"
   ]
  },
  {
   "cell_type": "code",
   "execution_count": 3,
   "metadata": {},
   "outputs": [],
   "source": [
    "individu = 10"
   ]
  },
  {
   "cell_type": "code",
   "execution_count": 4,
   "metadata": {},
   "outputs": [],
   "source": [
    "tabel = tabel.values"
   ]
  },
  {
   "cell_type": "code",
   "execution_count": 5,
   "metadata": {},
   "outputs": [
    {
     "data": {
      "text/plain": [
       "array([[1, 0, 0, 1, 0],\n",
       "       [1, 0, 1, 1, 0],\n",
       "       [1, 1, 2, 1, 0],\n",
       "       [1, 2, 3, 0, 1],\n",
       "       [1, 3, 0, 2, 0],\n",
       "       [1, 3, 1, 1, 1],\n",
       "       [1, 1, 1, 0, 1],\n",
       "       [1, 0, 0, 0, 0],\n",
       "       [1, 2, 2, 1, 0],\n",
       "       [1, 0, 3, 0, 1],\n",
       "       [1, 2, 0, 2, 0],\n",
       "       [1, 2, 1, 0, 0],\n",
       "       [1, 1, 0, 1, 1],\n",
       "       [1, 3, 2, 0, 1],\n",
       "       [1, 1, 1, 1, 0],\n",
       "       [1, 1, 3, 1, 0],\n",
       "       [1, 3, 0, 0, 0],\n",
       "       [1, 0, 2, 2, 0],\n",
       "       [1, 1, 3, 2, 1],\n",
       "       [1, 0, 2, 0, 0],\n",
       "       [1, 3, 3, 0, 1],\n",
       "       [1, 1, 3, 0, 0],\n",
       "       [1, 2, 2, 2, 0],\n",
       "       [1, 3, 2, 2, 0],\n",
       "       [0, 2, 0, 2, 0],\n",
       "       [0, 1, 0, 0, 1],\n",
       "       [0, 0, 0, 0, 1],\n",
       "       [0, 1, 3, 1, 1],\n",
       "       [0, 3, 2, 2, 0],\n",
       "       [0, 0, 3, 1, 1],\n",
       "       [0, 2, 2, 0, 0],\n",
       "       [0, 1, 1, 0, 1],\n",
       "       [0, 2, 1, 0, 0],\n",
       "       [0, 3, 3, 0, 0],\n",
       "       [0, 3, 0, 2, 1],\n",
       "       [0, 2, 3, 0, 0],\n",
       "       [0, 2, 0, 1, 1],\n",
       "       [0, 0, 2, 1, 1],\n",
       "       [0, 1, 3, 2, 1],\n",
       "       [0, 2, 2, 2, 0],\n",
       "       [0, 1, 2, 1, 1],\n",
       "       [0, 0, 1, 1, 1],\n",
       "       [0, 1, 2, 2, 1],\n",
       "       [0, 3, 1, 1, 1],\n",
       "       [0, 1, 2, 0, 1],\n",
       "       [0, 1, 3, 0, 1],\n",
       "       [0, 0, 0, 1, 1],\n",
       "       [0, 2, 2, 1, 0],\n",
       "       [0, 1, 1, 2, 1],\n",
       "       [0, 0, 2, 0, 0],\n",
       "       [0, 1, 0, 2, 1],\n",
       "       [0, 2, 3, 2, 0],\n",
       "       [0, 0, 3, 0, 1],\n",
       "       [0, 1, 1, 1, 1],\n",
       "       [0, 3, 0, 1, 1],\n",
       "       [2, 2, 0, 0, 1],\n",
       "       [2, 1, 1, 0, 1],\n",
       "       [2, 0, 1, 2, 1],\n",
       "       [2, 0, 0, 2, 1],\n",
       "       [2, 0, 2, 2, 0],\n",
       "       [2, 1, 0, 2, 0],\n",
       "       [2, 1, 2, 1, 1],\n",
       "       [2, 0, 1, 1, 1],\n",
       "       [2, 1, 0, 1, 1],\n",
       "       [2, 2, 3, 0, 0],\n",
       "       [2, 2, 1, 0, 1],\n",
       "       [2, 1, 3, 0, 0],\n",
       "       [2, 2, 0, 1, 0],\n",
       "       [2, 1, 1, 2, 0],\n",
       "       [2, 2, 1, 1, 0],\n",
       "       [2, 3, 2, 2, 0],\n",
       "       [2, 2, 3, 2, 1],\n",
       "       [2, 3, 2, 1, 0],\n",
       "       [2, 3, 3, 1, 0],\n",
       "       [2, 2, 2, 0, 0],\n",
       "       [2, 1, 2, 0, 0],\n",
       "       [2, 1, 0, 0, 1],\n",
       "       [2, 3, 0, 1, 0],\n",
       "       [2, 3, 3, 0, 1],\n",
       "       [2, 3, 0, 2, 0]], dtype=int64)"
      ]
     },
     "execution_count": 5,
     "metadata": {},
     "output_type": "execute_result"
    }
   ],
   "source": [
    "data = tabel[:,:]\n",
    "data"
   ]
  },
  {
   "cell_type": "code",
   "execution_count": 6,
   "metadata": {},
   "outputs": [],
   "source": [
    "# bla = tabel[0,:]"
   ]
  },
  {
   "cell_type": "code",
   "execution_count": 7,
   "metadata": {},
   "outputs": [],
   "source": [
    "# bla"
   ]
  },
  {
   "cell_type": "code",
   "execution_count": 8,
   "metadata": {},
   "outputs": [],
   "source": [
    "p = lambda f, i: (f[i] / sum(f))"
   ]
  },
  {
   "cell_type": "code",
   "execution_count": 9,
   "metadata": {},
   "outputs": [],
   "source": [
    "def roulette(fit):\n",
    "    r = np.random.uniform(0,1)\n",
    "    indv = 0\n",
    "    \n",
    "    while r > 0:\n",
    "        r -= p(fit,indv)\n",
    "        \n",
    "        indv += 1\n",
    "    return indv-1"
   ]
  },
  {
   "cell_type": "code",
   "execution_count": 10,
   "metadata": {},
   "outputs": [],
   "source": [
    "def fitness(dataset,rules):\n",
    "    bnr = 0\n",
    "    tot = len(dataset)\n",
    "    for i, v in enumerate(dataset):\n",
    "        if v[-1] == tree(v[:-1], rules):\n",
    "            bnr += 1\n",
    "    return bnr/tot"
   ]
  },
  {
   "cell_type": "code",
   "execution_count": 11,
   "metadata": {},
   "outputs": [],
   "source": [
    "def oneorzero():\n",
    "    return int(np.random.rand() > .5)"
   ]
  },
  {
   "cell_type": "code",
   "execution_count": 12,
   "metadata": {},
   "outputs": [],
   "source": [
    "def encode(decoded):\n",
    "    bit1, bit2, bit3, bit4, bit5 = np.zeros(3), np.zeros(4), np.zeros(4), np.zeros(3), np.zeros(1)\n",
    "    bit1[decoded[0]] = 1\n",
    "    bit2[decoded[1]] = 1\n",
    "    bit3[decoded[2]] = 1\n",
    "    bit4[decoded[3]] = 1\n",
    "    bit5[0] = decoded[4]\n",
    "    return np.concatenate([bit1, bit2, bit3, bit4, bit5], axis=0)"
   ]
  },
  {
   "cell_type": "code",
   "execution_count": 13,
   "metadata": {},
   "outputs": [],
   "source": [
    "def decode(encoded):\n",
    "    bits = [None] * 5\n",
    "    bits[0], bits[1], bits[2], bits[3], bits[4] = encoded[:3], encoded[3:7], encoded[7:11], encoded[11:14], encoded[-1]\n",
    "    \n",
    "    nbits = []\n",
    "    for i, v in enumerate(bits[:-1]):\n",
    "        bitz = []\n",
    "        for j, k in enumerate(v):\n",
    "            if k == 1:\n",
    "                bitz.append(j)\n",
    "        nbits.append(bitz)\n",
    "    nbits.append([bits[-1]])\n",
    "    return nbits"
   ]
  },
  {
   "cell_type": "code",
   "execution_count": 14,
   "metadata": {},
   "outputs": [],
   "source": [
    "def initializeRule():\n",
    "    krom = [None] * 5\n",
    "    krom[0], krom[1], krom[2], krom[3], krom[4] = np.zeros(3), np.zeros(4), np.zeros(4), np.zeros(3), np.zeros(1)\n",
    "    \n",
    "    for i, v in enumerate(krom[:-1]):\n",
    "        while sum(krom[i]) == 0:\n",
    "            for j, k in enumerate(v):\n",
    "                krom[i][j] = oneorzero()\n",
    "    krom[4] = np.array([oneorzero()])\n",
    "    nkrom = np.concatenate(krom)\n",
    "    return nkrom"
   ]
  },
  {
   "cell_type": "code",
   "execution_count": 15,
   "metadata": {},
   "outputs": [],
   "source": [
    "def initialize(individu):\n",
    "    population = []\n",
    "    for i in range(individu):\n",
    "        population.append(np.concatenate([initializeRule(), initializeRule()], axis=0))\n",
    "    return population"
   ]
  },
  {
   "cell_type": "code",
   "execution_count": 16,
   "metadata": {},
   "outputs": [],
   "source": [
    "encodedData = []\n",
    "for i, v in enumerate(tabel[:]):\n",
    "    bitter = encode(v)\n",
    "    encodedData.append(bitter)"
   ]
  },
  {
   "cell_type": "code",
   "execution_count": 17,
   "metadata": {},
   "outputs": [
    {
     "data": {
      "text/plain": [
       "[array([0., 1., 0., 1., 0., 0., 0., 1., 0., 0., 0., 0., 1., 0., 0.]),\n",
       " array([0., 1., 0., 1., 0., 0., 0., 0., 1., 0., 0., 0., 1., 0., 0.]),\n",
       " array([0., 1., 0., 0., 1., 0., 0., 0., 0., 1., 0., 0., 1., 0., 0.]),\n",
       " array([0., 1., 0., 0., 0., 1., 0., 0., 0., 0., 1., 1., 0., 0., 1.]),\n",
       " array([0., 1., 0., 0., 0., 0., 1., 1., 0., 0., 0., 0., 0., 1., 0.]),\n",
       " array([0., 1., 0., 0., 0., 0., 1., 0., 1., 0., 0., 0., 1., 0., 1.]),\n",
       " array([0., 1., 0., 0., 1., 0., 0., 0., 1., 0., 0., 1., 0., 0., 1.]),\n",
       " array([0., 1., 0., 1., 0., 0., 0., 1., 0., 0., 0., 1., 0., 0., 0.]),\n",
       " array([0., 1., 0., 0., 0., 1., 0., 0., 0., 1., 0., 0., 1., 0., 0.]),\n",
       " array([0., 1., 0., 1., 0., 0., 0., 0., 0., 0., 1., 1., 0., 0., 1.]),\n",
       " array([0., 1., 0., 0., 0., 1., 0., 1., 0., 0., 0., 0., 0., 1., 0.]),\n",
       " array([0., 1., 0., 0., 0., 1., 0., 0., 1., 0., 0., 1., 0., 0., 0.]),\n",
       " array([0., 1., 0., 0., 1., 0., 0., 1., 0., 0., 0., 0., 1., 0., 1.]),\n",
       " array([0., 1., 0., 0., 0., 0., 1., 0., 0., 1., 0., 1., 0., 0., 1.]),\n",
       " array([0., 1., 0., 0., 1., 0., 0., 0., 1., 0., 0., 0., 1., 0., 0.]),\n",
       " array([0., 1., 0., 0., 1., 0., 0., 0., 0., 0., 1., 0., 1., 0., 0.]),\n",
       " array([0., 1., 0., 0., 0., 0., 1., 1., 0., 0., 0., 1., 0., 0., 0.]),\n",
       " array([0., 1., 0., 1., 0., 0., 0., 0., 0., 1., 0., 0., 0., 1., 0.]),\n",
       " array([0., 1., 0., 0., 1., 0., 0., 0., 0., 0., 1., 0., 0., 1., 1.]),\n",
       " array([0., 1., 0., 1., 0., 0., 0., 0., 0., 1., 0., 1., 0., 0., 0.]),\n",
       " array([0., 1., 0., 0., 0., 0., 1., 0., 0., 0., 1., 1., 0., 0., 1.]),\n",
       " array([0., 1., 0., 0., 1., 0., 0., 0., 0., 0., 1., 1., 0., 0., 0.]),\n",
       " array([0., 1., 0., 0., 0., 1., 0., 0., 0., 1., 0., 0., 0., 1., 0.]),\n",
       " array([0., 1., 0., 0., 0., 0., 1., 0., 0., 1., 0., 0., 0., 1., 0.]),\n",
       " array([1., 0., 0., 0., 0., 1., 0., 1., 0., 0., 0., 0., 0., 1., 0.]),\n",
       " array([1., 0., 0., 0., 1., 0., 0., 1., 0., 0., 0., 1., 0., 0., 1.]),\n",
       " array([1., 0., 0., 1., 0., 0., 0., 1., 0., 0., 0., 1., 0., 0., 1.]),\n",
       " array([1., 0., 0., 0., 1., 0., 0., 0., 0., 0., 1., 0., 1., 0., 1.]),\n",
       " array([1., 0., 0., 0., 0., 0., 1., 0., 0., 1., 0., 0., 0., 1., 0.]),\n",
       " array([1., 0., 0., 1., 0., 0., 0., 0., 0., 0., 1., 0., 1., 0., 1.]),\n",
       " array([1., 0., 0., 0., 0., 1., 0., 0., 0., 1., 0., 1., 0., 0., 0.]),\n",
       " array([1., 0., 0., 0., 1., 0., 0., 0., 1., 0., 0., 1., 0., 0., 1.]),\n",
       " array([1., 0., 0., 0., 0., 1., 0., 0., 1., 0., 0., 1., 0., 0., 0.]),\n",
       " array([1., 0., 0., 0., 0., 0., 1., 0., 0., 0., 1., 1., 0., 0., 0.]),\n",
       " array([1., 0., 0., 0., 0., 0., 1., 1., 0., 0., 0., 0., 0., 1., 1.]),\n",
       " array([1., 0., 0., 0., 0., 1., 0., 0., 0., 0., 1., 1., 0., 0., 0.]),\n",
       " array([1., 0., 0., 0., 0., 1., 0., 1., 0., 0., 0., 0., 1., 0., 1.]),\n",
       " array([1., 0., 0., 1., 0., 0., 0., 0., 0., 1., 0., 0., 1., 0., 1.]),\n",
       " array([1., 0., 0., 0., 1., 0., 0., 0., 0., 0., 1., 0., 0., 1., 1.]),\n",
       " array([1., 0., 0., 0., 0., 1., 0., 0., 0., 1., 0., 0., 0., 1., 0.]),\n",
       " array([1., 0., 0., 0., 1., 0., 0., 0., 0., 1., 0., 0., 1., 0., 1.]),\n",
       " array([1., 0., 0., 1., 0., 0., 0., 0., 1., 0., 0., 0., 1., 0., 1.]),\n",
       " array([1., 0., 0., 0., 1., 0., 0., 0., 0., 1., 0., 0., 0., 1., 1.]),\n",
       " array([1., 0., 0., 0., 0., 0., 1., 0., 1., 0., 0., 0., 1., 0., 1.]),\n",
       " array([1., 0., 0., 0., 1., 0., 0., 0., 0., 1., 0., 1., 0., 0., 1.]),\n",
       " array([1., 0., 0., 0., 1., 0., 0., 0., 0., 0., 1., 1., 0., 0., 1.]),\n",
       " array([1., 0., 0., 1., 0., 0., 0., 1., 0., 0., 0., 0., 1., 0., 1.]),\n",
       " array([1., 0., 0., 0., 0., 1., 0., 0., 0., 1., 0., 0., 1., 0., 0.]),\n",
       " array([1., 0., 0., 0., 1., 0., 0., 0., 1., 0., 0., 0., 0., 1., 1.]),\n",
       " array([1., 0., 0., 1., 0., 0., 0., 0., 0., 1., 0., 1., 0., 0., 0.]),\n",
       " array([1., 0., 0., 0., 1., 0., 0., 1., 0., 0., 0., 0., 0., 1., 1.]),\n",
       " array([1., 0., 0., 0., 0., 1., 0., 0., 0., 0., 1., 0., 0., 1., 0.]),\n",
       " array([1., 0., 0., 1., 0., 0., 0., 0., 0., 0., 1., 1., 0., 0., 1.]),\n",
       " array([1., 0., 0., 0., 1., 0., 0., 0., 1., 0., 0., 0., 1., 0., 1.]),\n",
       " array([1., 0., 0., 0., 0., 0., 1., 1., 0., 0., 0., 0., 1., 0., 1.]),\n",
       " array([0., 0., 1., 0., 0., 1., 0., 1., 0., 0., 0., 1., 0., 0., 1.]),\n",
       " array([0., 0., 1., 0., 1., 0., 0., 0., 1., 0., 0., 1., 0., 0., 1.]),\n",
       " array([0., 0., 1., 1., 0., 0., 0., 0., 1., 0., 0., 0., 0., 1., 1.]),\n",
       " array([0., 0., 1., 1., 0., 0., 0., 1., 0., 0., 0., 0., 0., 1., 1.]),\n",
       " array([0., 0., 1., 1., 0., 0., 0., 0., 0., 1., 0., 0., 0., 1., 0.]),\n",
       " array([0., 0., 1., 0., 1., 0., 0., 1., 0., 0., 0., 0., 0., 1., 0.]),\n",
       " array([0., 0., 1., 0., 1., 0., 0., 0., 0., 1., 0., 0., 1., 0., 1.]),\n",
       " array([0., 0., 1., 1., 0., 0., 0., 0., 1., 0., 0., 0., 1., 0., 1.]),\n",
       " array([0., 0., 1., 0., 1., 0., 0., 1., 0., 0., 0., 0., 1., 0., 1.]),\n",
       " array([0., 0., 1., 0., 0., 1., 0., 0., 0., 0., 1., 1., 0., 0., 0.]),\n",
       " array([0., 0., 1., 0., 0., 1., 0., 0., 1., 0., 0., 1., 0., 0., 1.]),\n",
       " array([0., 0., 1., 0., 1., 0., 0., 0., 0., 0., 1., 1., 0., 0., 0.]),\n",
       " array([0., 0., 1., 0., 0., 1., 0., 1., 0., 0., 0., 0., 1., 0., 0.]),\n",
       " array([0., 0., 1., 0., 1., 0., 0., 0., 1., 0., 0., 0., 0., 1., 0.]),\n",
       " array([0., 0., 1., 0., 0., 1., 0., 0., 1., 0., 0., 0., 1., 0., 0.]),\n",
       " array([0., 0., 1., 0., 0., 0., 1., 0., 0., 1., 0., 0., 0., 1., 0.]),\n",
       " array([0., 0., 1., 0., 0., 1., 0., 0., 0., 0., 1., 0., 0., 1., 1.]),\n",
       " array([0., 0., 1., 0., 0., 0., 1., 0., 0., 1., 0., 0., 1., 0., 0.]),\n",
       " array([0., 0., 1., 0., 0., 0., 1., 0., 0., 0., 1., 0., 1., 0., 0.]),\n",
       " array([0., 0., 1., 0., 0., 1., 0., 0., 0., 1., 0., 1., 0., 0., 0.]),\n",
       " array([0., 0., 1., 0., 1., 0., 0., 0., 0., 1., 0., 1., 0., 0., 0.]),\n",
       " array([0., 0., 1., 0., 1., 0., 0., 1., 0., 0., 0., 1., 0., 0., 1.]),\n",
       " array([0., 0., 1., 0., 0., 0., 1., 1., 0., 0., 0., 0., 1., 0., 0.]),\n",
       " array([0., 0., 1., 0., 0., 0., 1., 0., 0., 0., 1., 1., 0., 0., 1.]),\n",
       " array([0., 0., 1., 0., 0., 0., 1., 1., 0., 0., 0., 0., 0., 1., 0.])]"
      ]
     },
     "execution_count": 17,
     "metadata": {},
     "output_type": "execute_result"
    }
   ],
   "source": [
    "encodedData"
   ]
  },
  {
   "cell_type": "code",
   "execution_count": null,
   "metadata": {},
   "outputs": [],
   "source": []
  },
  {
   "cell_type": "code",
   "execution_count": 18,
   "metadata": {},
   "outputs": [
    {
     "data": {
      "text/plain": [
       "array([1., 0., 0., 1., 1., 1., 1., 0., 1., 0., 0., 1., 1., 0., 0.])"
      ]
     },
     "execution_count": 18,
     "metadata": {},
     "output_type": "execute_result"
    }
   ],
   "source": [
    "initializeRule()"
   ]
  },
  {
   "cell_type": "code",
   "execution_count": 19,
   "metadata": {},
   "outputs": [],
   "source": [
    "indvs = initialize(individu)"
   ]
  },
  {
   "cell_type": "code",
   "execution_count": 20,
   "metadata": {},
   "outputs": [
    {
     "name": "stdout",
     "output_type": "stream",
     "text": [
      "[0. 1. 0.] [0. 1. 1. 0.] [1. 0. 1. 1.] [1. 0. 0.] 0.0\n"
     ]
    }
   ],
   "source": [
    "print(indvs[0][:3], indvs[0][2:6], indvs[0][6:10], indvs[0][10:13], indvs[0][-1])"
   ]
  },
  {
   "cell_type": "code",
   "execution_count": 21,
   "metadata": {},
   "outputs": [
    {
     "name": "stdout",
     "output_type": "stream",
     "text": [
      "[[0, 1, 2], [1, 3], [0, 1, 2, 3], [0, 1, 2], [1.0]]\n"
     ]
    }
   ],
   "source": [
    "ex = decode([1., 1., 1., 0., 1., 0., 1., 1., 1., 1., 1., 1., 1., 1., 1.])\n",
    "print(ex)"
   ]
  },
  {
   "cell_type": "code",
   "execution_count": 22,
   "metadata": {},
   "outputs": [],
   "source": [
    "boolean = []"
   ]
  },
  {
   "cell_type": "code",
   "execution_count": 23,
   "metadata": {},
   "outputs": [],
   "source": [
    "suhu = \"suhu\"\n",
    "waktu = \"waktu\"\n",
    "kondisi = \"kondisi\"\n",
    "kelembapan = \"kelembapan\"\n",
    "terbang = \"terbang\""
   ]
  },
  {
   "cell_type": "code",
   "execution_count": 24,
   "metadata": {},
   "outputs": [],
   "source": [
    "def tree(test, rules):\n",
    "    realdata = test\n",
    "#     dtree_rules = rules\n",
    "\n",
    "    bits = [None] * 5\n",
    "    bits[0], bits[1], bits[2], bits[3], bits[4] = [], [], [], [], []\n",
    "#     print(rules)\n",
    "    dtree_rules = [np.array_split(rules, len(rules)/15)]\n",
    "#     dtree_rules = [decode(i) for i in dr]\n",
    "#     for i, v in enumerate(dr):\n",
    "#         print(v)\n",
    "#         print(decode(v))\n",
    "\n",
    "    ret = \"invalid\"\n",
    "    for p, l in enumerate(dtree_rules):\n",
    "        asem = []\n",
    "        for i, v in enumerate(l[:-1]):\n",
    "            sem = []\n",
    "            for j, k in enumerate(v):\n",
    "                \n",
    "                \n",
    "                sem.append(realdata[i] == k)\n",
    "            v = any(sem)\n",
    "            asem.append(v)\n",
    "        if all(asem) == True:\n",
    "            ret = l[-1][0]\n",
    "            break\n",
    "#     print(\"ret\",ret)\n",
    "    \n",
    "    return ret\n",
    "    "
   ]
  },
  {
   "cell_type": "code",
   "execution_count": 25,
   "metadata": {},
   "outputs": [],
   "source": [
    "# ez = [0, 1, 2]\n",
    "\n",
    "# # realdata = [1, 0, 0, 1, 0]\n",
    "# realdata = [2, 0, 1, 0, 1 ]\n",
    "# dtree_rules = [[[0, 1, 2], [1, 3], [0, 1, 2, 3], [0, 1, 2], [1.0]], [[1], [0], [0], [1], [0.0]], [[2], [0], [2], [2], [0.0]], [[0, 1, 2], [0, 1, 2, 3], [0, 1, 2, 3], [ 1], [1.0]], [[0, 1, 2], [0, 1, 2, 3], [0, 1, 2, 3], [ 0], [0.0]]]\n",
    "\n",
    "# bits = [None]*5\n",
    "# bits[0], bits[1], bits[2], bits[3], bits[4] = [], [], [], [], []\n",
    "\n",
    "# ret = \"invalid\"\n",
    "# for p, l in enumerate(dtree_rules):\n",
    "#     asem = []\n",
    "#     for i, v in enumerate(l[:-1]):\n",
    "#         sem = []\n",
    "#         for j, k in enumerate(v):\n",
    "#             sem.append(realdata[i] == k)\n",
    "#         v = any(sem)\n",
    "#         asem.append(v)\n",
    "#     if all(asem) == True:\n",
    "#         ret = l[-1]\n",
    "#         break\n",
    "# print(\"ret\",ret)"
   ]
  },
  {
   "cell_type": "code",
   "execution_count": 26,
   "metadata": {},
   "outputs": [],
   "source": [
    "# any(bits[1])"
   ]
  },
  {
   "cell_type": "code",
   "execution_count": 27,
   "metadata": {},
   "outputs": [],
   "source": [
    "# truth"
   ]
  },
  {
   "cell_type": "code",
   "execution_count": 28,
   "metadata": {},
   "outputs": [],
   "source": [
    "# any([True,False])"
   ]
  },
  {
   "cell_type": "code",
   "execution_count": 29,
   "metadata": {},
   "outputs": [
    {
     "data": {
      "text/plain": [
       "[[1], [0], [0], [1], [0.0]]"
      ]
     },
     "execution_count": 29,
     "metadata": {},
     "output_type": "execute_result"
    }
   ],
   "source": [
    "decode([0., 1., 0., 1., 0., 0., 0., 1., 0., 0., 0., 0., 1., 0., 0.])"
   ]
  },
  {
   "cell_type": "code",
   "execution_count": 30,
   "metadata": {},
   "outputs": [
    {
     "data": {
      "text/plain": [
       "[[2], [0], [1], [1], [1.0]]"
      ]
     },
     "execution_count": 30,
     "metadata": {},
     "output_type": "execute_result"
    }
   ],
   "source": [
    "decode([0., 0., 1., 1., 0., 0., 0., 0., 1., 0., 0., 0., 1., 0., 1.])"
   ]
  },
  {
   "cell_type": "code",
   "execution_count": 31,
   "metadata": {},
   "outputs": [
    {
     "data": {
      "text/plain": [
       "[[0, 1, 2], [0, 1, 2, 3], [0, 1, 2, 3], [0, 1, 2], [1.0]]"
      ]
     },
     "execution_count": 31,
     "metadata": {},
     "output_type": "execute_result"
    }
   ],
   "source": [
    "decode([1., 1., 1., 1., 1., 1., 1., 1., 1., 1., 1., 1., 1., 1., 1.])"
   ]
  },
  {
   "cell_type": "code",
   "execution_count": 32,
   "metadata": {},
   "outputs": [
    {
     "data": {
      "text/plain": [
       "True"
      ]
     },
     "execution_count": 32,
     "metadata": {},
     "output_type": "execute_result"
    }
   ],
   "source": [
    "0 == 0.0"
   ]
  },
  {
   "cell_type": "code",
   "execution_count": 33,
   "metadata": {},
   "outputs": [],
   "source": [
    "indvs = initialize(individu)"
   ]
  },
  {
   "cell_type": "code",
   "execution_count": 34,
   "metadata": {},
   "outputs": [
    {
     "data": {
      "text/plain": [
       "[array([1., 1., 1., 1., 0., 0., 0., 1., 0., 0., 0., 1., 0., 0., 1., 0., 1.,\n",
       "        0., 1., 1., 1., 0., 1., 0., 0., 1., 0., 0., 1., 0.]),\n",
       " array([0., 1., 0., 1., 1., 1., 1., 0., 1., 0., 0., 0., 0., 1., 0., 1., 0.,\n",
       "        1., 1., 0., 0., 1., 0., 0., 0., 1., 1., 1., 1., 1.]),\n",
       " array([1., 0., 0., 0., 0., 1., 0., 1., 0., 1., 0., 1., 1., 1., 1., 1., 1.,\n",
       "        0., 0., 0., 1., 0., 1., 1., 0., 1., 1., 1., 0., 1.]),\n",
       " array([0., 1., 1., 0., 1., 1., 0., 1., 0., 1., 0., 0., 0., 1., 1., 0., 1.,\n",
       "        1., 1., 0., 1., 0., 0., 0., 1., 0., 0., 1., 1., 0.]),\n",
       " array([1., 1., 1., 0., 0., 1., 1., 0., 1., 0., 0., 1., 1., 0., 0., 1., 1.,\n",
       "        0., 0., 0., 0., 1., 1., 1., 1., 1., 1., 0., 0., 0.]),\n",
       " array([1., 0., 0., 1., 0., 1., 0., 1., 0., 1., 1., 1., 1., 1., 0., 0., 0.,\n",
       "        1., 1., 1., 1., 0., 0., 1., 0., 1., 0., 1., 0., 0.]),\n",
       " array([1., 0., 1., 1., 0., 1., 0., 1., 0., 0., 1., 1., 1., 1., 1., 1., 1.,\n",
       "        1., 0., 1., 1., 0., 0., 1., 1., 0., 1., 0., 1., 0.]),\n",
       " array([1., 0., 1., 0., 1., 1., 1., 1., 0., 0., 1., 0., 1., 0., 1., 0., 0.,\n",
       "        1., 0., 0., 0., 1., 0., 0., 1., 1., 0., 1., 0., 0.]),\n",
       " array([0., 1., 0., 0., 1., 0., 1., 1., 0., 0., 0., 1., 1., 1., 0., 0., 0.,\n",
       "        1., 1., 0., 1., 0., 1., 1., 1., 1., 1., 0., 0., 1.]),\n",
       " array([1., 1., 0., 1., 0., 0., 0., 1., 0., 0., 1., 1., 0., 1., 1., 1., 1.,\n",
       "        1., 0., 1., 1., 1., 1., 0., 0., 0., 0., 1., 0., 0.])]"
      ]
     },
     "execution_count": 34,
     "metadata": {},
     "output_type": "execute_result"
    }
   ],
   "source": [
    "indvs"
   ]
  },
  {
   "cell_type": "code",
   "execution_count": 35,
   "metadata": {},
   "outputs": [
    {
     "name": "stdout",
     "output_type": "stream",
     "text": [
      "0.325\n",
      "0.3625\n",
      "0.3625\n",
      "0.325\n",
      "0.3625\n",
      "0.325\n",
      "0.3625\n",
      "0.325\n",
      "0.325\n",
      "0.3625\n"
     ]
    }
   ],
   "source": [
    "for i, v in enumerate(indvs):\n",
    "    print(fitness(data, v))"
   ]
  },
  {
   "cell_type": "code",
   "execution_count": 36,
   "metadata": {},
   "outputs": [
    {
     "data": {
      "text/plain": [
       "'invalid'"
      ]
     },
     "execution_count": 36,
     "metadata": {},
     "output_type": "execute_result"
    }
   ],
   "source": [
    "tree([2, 0, 1, 0, 1 ], [1., 1., 1., 1., 1., 1., 0., 0., 0., 1., 0., 1., 0., 0., 0., 1., 1.,\n",
    "        1., 1., 0., 0., 0., 1., 0., 1., 1., 1., 0., 0., 1.])"
   ]
  },
  {
   "cell_type": "code",
   "execution_count": 37,
   "metadata": {},
   "outputs": [
    {
     "data": {
      "text/plain": [
       "[[2], [2], [1], [1], [0.0]]"
      ]
     },
     "execution_count": 37,
     "metadata": {},
     "output_type": "execute_result"
    }
   ],
   "source": [
    "decode([0., 0., 1., 0., 0., 1., 0., 0., 1., 0., 0., 0., 1., 0., 0.])"
   ]
  },
  {
   "cell_type": "code",
   "execution_count": 38,
   "metadata": {},
   "outputs": [],
   "source": [
    "jum = len([1., 1., 1., 1., 1., 1., 0., 0., 0., 1., 0., 1., 0., 0., 0., 1., 1.,\n",
    "        1., 1., 0., 0., 0., 1., 0., 1., 1., 1., 0., 0., 1.])/15\n",
    "    \n",
    "    "
   ]
  },
  {
   "cell_type": "code",
   "execution_count": 39,
   "metadata": {},
   "outputs": [
    {
     "data": {
      "text/plain": [
       "2.0"
      ]
     },
     "execution_count": 39,
     "metadata": {},
     "output_type": "execute_result"
    }
   ],
   "source": [
    "jum"
   ]
  },
  {
   "cell_type": "code",
   "execution_count": 40,
   "metadata": {},
   "outputs": [
    {
     "data": {
      "text/plain": [
       "[array([1., 1., 1., 1., 1., 1., 0., 0., 0., 1., 0., 1., 0., 0., 0.]),\n",
       " array([1., 1., 1., 1., 0., 0., 0., 1., 0., 1., 1., 1., 0., 0., 1.])]"
      ]
     },
     "execution_count": 40,
     "metadata": {},
     "output_type": "execute_result"
    }
   ],
   "source": [
    "np.array_split([1., 1., 1., 1., 1., 1., 0., 0., 0., 1., 0., 1., 0., 0., 0., 1., 1.,\n",
    "        1., 1., 0., 0., 0., 1., 0., 1., 1., 1., 0., 0., 1.], 2)"
   ]
  },
  {
   "cell_type": "code",
   "execution_count": null,
   "metadata": {},
   "outputs": [],
   "source": []
  }
 ],
 "metadata": {
  "kernelspec": {
   "display_name": "Python 3",
   "language": "python",
   "name": "python3"
  },
  "language_info": {
   "codemirror_mode": {
    "name": "ipython",
    "version": 3
   },
   "file_extension": ".py",
   "mimetype": "text/x-python",
   "name": "python",
   "nbconvert_exporter": "python",
   "pygments_lexer": "ipython3",
   "version": "3.6.6"
  }
 },
 "nbformat": 4,
 "nbformat_minor": 2
}
