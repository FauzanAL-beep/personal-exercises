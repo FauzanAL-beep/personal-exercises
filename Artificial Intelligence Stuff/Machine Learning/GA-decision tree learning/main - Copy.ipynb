{
 "cells": [
  {
   "cell_type": "code",
   "execution_count": 78,
   "metadata": {},
   "outputs": [],
   "source": [
    "import pandas as pd\n",
    "import numpy as np\n",
    "\n",
    "tabel = pd.read_csv('data_latih_opsi_2.csv', sep=',', header=None)"
   ]
  },
  {
   "cell_type": "code",
   "execution_count": 79,
   "metadata": {},
   "outputs": [],
   "source": [
    "#15 bit"
   ]
  },
  {
   "cell_type": "code",
   "execution_count": 170,
   "metadata": {},
   "outputs": [],
   "source": [
    "individu = 10"
   ]
  },
  {
   "cell_type": "code",
   "execution_count": 80,
   "metadata": {},
   "outputs": [],
   "source": [
    "tabel = tabel.values"
   ]
  },
  {
   "cell_type": "code",
   "execution_count": 260,
   "metadata": {},
   "outputs": [
    {
     "data": {
      "text/plain": [
       "array([[1, 0, 0, 1, 0],\n",
       "       [1, 0, 1, 1, 0],\n",
       "       [1, 1, 2, 1, 0],\n",
       "       [1, 2, 3, 0, 1],\n",
       "       [1, 3, 0, 2, 0],\n",
       "       [1, 3, 1, 1, 1],\n",
       "       [1, 1, 1, 0, 1],\n",
       "       [1, 0, 0, 0, 0],\n",
       "       [1, 2, 2, 1, 0],\n",
       "       [1, 0, 3, 0, 1],\n",
       "       [1, 2, 0, 2, 0],\n",
       "       [1, 2, 1, 0, 0],\n",
       "       [1, 1, 0, 1, 1],\n",
       "       [1, 3, 2, 0, 1],\n",
       "       [1, 1, 1, 1, 0],\n",
       "       [1, 1, 3, 1, 0],\n",
       "       [1, 3, 0, 0, 0],\n",
       "       [1, 0, 2, 2, 0],\n",
       "       [1, 1, 3, 2, 1],\n",
       "       [1, 0, 2, 0, 0],\n",
       "       [1, 3, 3, 0, 1],\n",
       "       [1, 1, 3, 0, 0],\n",
       "       [1, 2, 2, 2, 0],\n",
       "       [1, 3, 2, 2, 0],\n",
       "       [0, 2, 0, 2, 0],\n",
       "       [0, 1, 0, 0, 1],\n",
       "       [0, 0, 0, 0, 1],\n",
       "       [0, 1, 3, 1, 1],\n",
       "       [0, 3, 2, 2, 0],\n",
       "       [0, 0, 3, 1, 1],\n",
       "       [0, 2, 2, 0, 0],\n",
       "       [0, 1, 1, 0, 1],\n",
       "       [0, 2, 1, 0, 0],\n",
       "       [0, 3, 3, 0, 0],\n",
       "       [0, 3, 0, 2, 1],\n",
       "       [0, 2, 3, 0, 0],\n",
       "       [0, 2, 0, 1, 1],\n",
       "       [0, 0, 2, 1, 1],\n",
       "       [0, 1, 3, 2, 1],\n",
       "       [0, 2, 2, 2, 0],\n",
       "       [0, 1, 2, 1, 1],\n",
       "       [0, 0, 1, 1, 1],\n",
       "       [0, 1, 2, 2, 1],\n",
       "       [0, 3, 1, 1, 1],\n",
       "       [0, 1, 2, 0, 1],\n",
       "       [0, 1, 3, 0, 1],\n",
       "       [0, 0, 0, 1, 1],\n",
       "       [0, 2, 2, 1, 0],\n",
       "       [0, 1, 1, 2, 1],\n",
       "       [0, 0, 2, 0, 0],\n",
       "       [0, 1, 0, 2, 1],\n",
       "       [0, 2, 3, 2, 0],\n",
       "       [0, 0, 3, 0, 1],\n",
       "       [0, 1, 1, 1, 1],\n",
       "       [0, 3, 0, 1, 1],\n",
       "       [2, 2, 0, 0, 1],\n",
       "       [2, 1, 1, 0, 1],\n",
       "       [2, 0, 1, 2, 1],\n",
       "       [2, 0, 0, 2, 1],\n",
       "       [2, 0, 2, 2, 0],\n",
       "       [2, 1, 0, 2, 0],\n",
       "       [2, 1, 2, 1, 1],\n",
       "       [2, 0, 1, 1, 1],\n",
       "       [2, 1, 0, 1, 1],\n",
       "       [2, 2, 3, 0, 0],\n",
       "       [2, 2, 1, 0, 1],\n",
       "       [2, 1, 3, 0, 0],\n",
       "       [2, 2, 0, 1, 0],\n",
       "       [2, 1, 1, 2, 0],\n",
       "       [2, 2, 1, 1, 0],\n",
       "       [2, 3, 2, 2, 0],\n",
       "       [2, 2, 3, 2, 1],\n",
       "       [2, 3, 2, 1, 0],\n",
       "       [2, 3, 3, 1, 0],\n",
       "       [2, 2, 2, 0, 0],\n",
       "       [2, 1, 2, 0, 0],\n",
       "       [2, 1, 0, 0, 1],\n",
       "       [2, 3, 0, 1, 0],\n",
       "       [2, 3, 3, 0, 1],\n",
       "       [2, 3, 0, 2, 0]], dtype=int64)"
      ]
     },
     "execution_count": 260,
     "metadata": {},
     "output_type": "execute_result"
    }
   ],
   "source": [
    "tabel[:,:]"
   ]
  },
  {
   "cell_type": "code",
   "execution_count": 81,
   "metadata": {},
   "outputs": [],
   "source": [
    "bla = tabel[0,:]"
   ]
  },
  {
   "cell_type": "code",
   "execution_count": 165,
   "metadata": {},
   "outputs": [
    {
     "data": {
      "text/plain": [
       "array([1, 0, 0, 1, 0], dtype=int64)"
      ]
     },
     "execution_count": 165,
     "metadata": {},
     "output_type": "execute_result"
    }
   ],
   "source": [
    "bla"
   ]
  },
  {
   "cell_type": "code",
   "execution_count": 132,
   "metadata": {},
   "outputs": [],
   "source": [
    "def oneorzero():\n",
    "    return int(np.random.rand() > .5)"
   ]
  },
  {
   "cell_type": "code",
   "execution_count": 106,
   "metadata": {},
   "outputs": [],
   "source": [
    "def encode(decoded):\n",
    "    bit1, bit2, bit3, bit4, bit5 = np.zeros(3), np.zeros(4), np.zeros(4), np.zeros(3), np.zeros(1)\n",
    "    bit1[decoded[0]] = 1\n",
    "    bit2[decoded[1]] = 1\n",
    "    bit3[decoded[2]] = 1\n",
    "    bit4[decoded[3]] = 1\n",
    "    bit5[0] = decoded[4]\n",
    "    return np.concatenate([bit1, bit2, bit3, bit4, bit5], axis=0)"
   ]
  },
  {
   "cell_type": "code",
   "execution_count": 211,
   "metadata": {},
   "outputs": [],
   "source": [
    "def decode(encoded):\n",
    "    bits = [None] * 5\n",
    "    bits[0], bits[1], bits[2], bits[3], bits[4] = encoded[:3], encoded[3:7], encoded[7:11], encoded[11:14], encoded[-1]\n",
    "    \n",
    "    nbits = []\n",
    "    for i, v in enumerate(bits[:-1]):\n",
    "        bitz = []\n",
    "        for j, k in enumerate(v):\n",
    "            if k == 1:\n",
    "                bitz.append(j)\n",
    "        nbits.append(bitz)\n",
    "    nbits.append([bits[-1]])\n",
    "    return nbits"
   ]
  },
  {
   "cell_type": "code",
   "execution_count": 182,
   "metadata": {},
   "outputs": [],
   "source": [
    "def initializeRule():\n",
    "    krom = [None] * 5\n",
    "    krom[0], krom[1], krom[2], krom[3], krom[4] = np.zeros(3), np.zeros(4), np.zeros(4), np.zeros(3), np.zeros(1)\n",
    "    \n",
    "    for i, v in enumerate(krom[:-1]):\n",
    "        while sum(krom[i]) == 0:\n",
    "            for j, k in enumerate(v):\n",
    "                krom[i][j] = oneorzero()\n",
    "    krom[4] = np.array([oneorzero()])\n",
    "    nkrom = np.concatenate(krom)\n",
    "    return nkrom"
   ]
  },
  {
   "cell_type": "code",
   "execution_count": 168,
   "metadata": {},
   "outputs": [],
   "source": [
    "def initialize(individu):\n",
    "    population = []\n",
    "    for i in range(individu):\n",
    "        population.append(np.concatenate([initializeRule(), initializeRule()], axis=0))\n",
    "    return population"
   ]
  },
  {
   "cell_type": "code",
   "execution_count": 166,
   "metadata": {},
   "outputs": [],
   "source": [
    "encodedData = []\n",
    "for i, v in enumerate(tabel[:]):\n",
    "    bitter = encode(v)\n",
    "    encodedData.append(bitter)"
   ]
  },
  {
   "cell_type": "code",
   "execution_count": 167,
   "metadata": {},
   "outputs": [
    {
     "data": {
      "text/plain": [
       "[array([0., 1., 0., 1., 0., 0., 0., 1., 0., 0., 0., 0., 1., 0., 0.]),\n",
       " array([0., 1., 0., 1., 0., 0., 0., 0., 1., 0., 0., 0., 1., 0., 0.]),\n",
       " array([0., 1., 0., 0., 1., 0., 0., 0., 0., 1., 0., 0., 1., 0., 0.]),\n",
       " array([0., 1., 0., 0., 0., 1., 0., 0., 0., 0., 1., 1., 0., 0., 1.]),\n",
       " array([0., 1., 0., 0., 0., 0., 1., 1., 0., 0., 0., 0., 0., 1., 0.]),\n",
       " array([0., 1., 0., 0., 0., 0., 1., 0., 1., 0., 0., 0., 1., 0., 1.]),\n",
       " array([0., 1., 0., 0., 1., 0., 0., 0., 1., 0., 0., 1., 0., 0., 1.]),\n",
       " array([0., 1., 0., 1., 0., 0., 0., 1., 0., 0., 0., 1., 0., 0., 0.]),\n",
       " array([0., 1., 0., 0., 0., 1., 0., 0., 0., 1., 0., 0., 1., 0., 0.]),\n",
       " array([0., 1., 0., 1., 0., 0., 0., 0., 0., 0., 1., 1., 0., 0., 1.]),\n",
       " array([0., 1., 0., 0., 0., 1., 0., 1., 0., 0., 0., 0., 0., 1., 0.]),\n",
       " array([0., 1., 0., 0., 0., 1., 0., 0., 1., 0., 0., 1., 0., 0., 0.]),\n",
       " array([0., 1., 0., 0., 1., 0., 0., 1., 0., 0., 0., 0., 1., 0., 1.]),\n",
       " array([0., 1., 0., 0., 0., 0., 1., 0., 0., 1., 0., 1., 0., 0., 1.]),\n",
       " array([0., 1., 0., 0., 1., 0., 0., 0., 1., 0., 0., 0., 1., 0., 0.]),\n",
       " array([0., 1., 0., 0., 1., 0., 0., 0., 0., 0., 1., 0., 1., 0., 0.]),\n",
       " array([0., 1., 0., 0., 0., 0., 1., 1., 0., 0., 0., 1., 0., 0., 0.]),\n",
       " array([0., 1., 0., 1., 0., 0., 0., 0., 0., 1., 0., 0., 0., 1., 0.]),\n",
       " array([0., 1., 0., 0., 1., 0., 0., 0., 0., 0., 1., 0., 0., 1., 1.]),\n",
       " array([0., 1., 0., 1., 0., 0., 0., 0., 0., 1., 0., 1., 0., 0., 0.]),\n",
       " array([0., 1., 0., 0., 0., 0., 1., 0., 0., 0., 1., 1., 0., 0., 1.]),\n",
       " array([0., 1., 0., 0., 1., 0., 0., 0., 0., 0., 1., 1., 0., 0., 0.]),\n",
       " array([0., 1., 0., 0., 0., 1., 0., 0., 0., 1., 0., 0., 0., 1., 0.]),\n",
       " array([0., 1., 0., 0., 0., 0., 1., 0., 0., 1., 0., 0., 0., 1., 0.]),\n",
       " array([1., 0., 0., 0., 0., 1., 0., 1., 0., 0., 0., 0., 0., 1., 0.]),\n",
       " array([1., 0., 0., 0., 1., 0., 0., 1., 0., 0., 0., 1., 0., 0., 1.]),\n",
       " array([1., 0., 0., 1., 0., 0., 0., 1., 0., 0., 0., 1., 0., 0., 1.]),\n",
       " array([1., 0., 0., 0., 1., 0., 0., 0., 0., 0., 1., 0., 1., 0., 1.]),\n",
       " array([1., 0., 0., 0., 0., 0., 1., 0., 0., 1., 0., 0., 0., 1., 0.]),\n",
       " array([1., 0., 0., 1., 0., 0., 0., 0., 0., 0., 1., 0., 1., 0., 1.]),\n",
       " array([1., 0., 0., 0., 0., 1., 0., 0., 0., 1., 0., 1., 0., 0., 0.]),\n",
       " array([1., 0., 0., 0., 1., 0., 0., 0., 1., 0., 0., 1., 0., 0., 1.]),\n",
       " array([1., 0., 0., 0., 0., 1., 0., 0., 1., 0., 0., 1., 0., 0., 0.]),\n",
       " array([1., 0., 0., 0., 0., 0., 1., 0., 0., 0., 1., 1., 0., 0., 0.]),\n",
       " array([1., 0., 0., 0., 0., 0., 1., 1., 0., 0., 0., 0., 0., 1., 1.]),\n",
       " array([1., 0., 0., 0., 0., 1., 0., 0., 0., 0., 1., 1., 0., 0., 0.]),\n",
       " array([1., 0., 0., 0., 0., 1., 0., 1., 0., 0., 0., 0., 1., 0., 1.]),\n",
       " array([1., 0., 0., 1., 0., 0., 0., 0., 0., 1., 0., 0., 1., 0., 1.]),\n",
       " array([1., 0., 0., 0., 1., 0., 0., 0., 0., 0., 1., 0., 0., 1., 1.]),\n",
       " array([1., 0., 0., 0., 0., 1., 0., 0., 0., 1., 0., 0., 0., 1., 0.]),\n",
       " array([1., 0., 0., 0., 1., 0., 0., 0., 0., 1., 0., 0., 1., 0., 1.]),\n",
       " array([1., 0., 0., 1., 0., 0., 0., 0., 1., 0., 0., 0., 1., 0., 1.]),\n",
       " array([1., 0., 0., 0., 1., 0., 0., 0., 0., 1., 0., 0., 0., 1., 1.]),\n",
       " array([1., 0., 0., 0., 0., 0., 1., 0., 1., 0., 0., 0., 1., 0., 1.]),\n",
       " array([1., 0., 0., 0., 1., 0., 0., 0., 0., 1., 0., 1., 0., 0., 1.]),\n",
       " array([1., 0., 0., 0., 1., 0., 0., 0., 0., 0., 1., 1., 0., 0., 1.]),\n",
       " array([1., 0., 0., 1., 0., 0., 0., 1., 0., 0., 0., 0., 1., 0., 1.]),\n",
       " array([1., 0., 0., 0., 0., 1., 0., 0., 0., 1., 0., 0., 1., 0., 0.]),\n",
       " array([1., 0., 0., 0., 1., 0., 0., 0., 1., 0., 0., 0., 0., 1., 1.]),\n",
       " array([1., 0., 0., 1., 0., 0., 0., 0., 0., 1., 0., 1., 0., 0., 0.]),\n",
       " array([1., 0., 0., 0., 1., 0., 0., 1., 0., 0., 0., 0., 0., 1., 1.]),\n",
       " array([1., 0., 0., 0., 0., 1., 0., 0., 0., 0., 1., 0., 0., 1., 0.]),\n",
       " array([1., 0., 0., 1., 0., 0., 0., 0., 0., 0., 1., 1., 0., 0., 1.]),\n",
       " array([1., 0., 0., 0., 1., 0., 0., 0., 1., 0., 0., 0., 1., 0., 1.]),\n",
       " array([1., 0., 0., 0., 0., 0., 1., 1., 0., 0., 0., 0., 1., 0., 1.]),\n",
       " array([0., 0., 1., 0., 0., 1., 0., 1., 0., 0., 0., 1., 0., 0., 1.]),\n",
       " array([0., 0., 1., 0., 1., 0., 0., 0., 1., 0., 0., 1., 0., 0., 1.]),\n",
       " array([0., 0., 1., 1., 0., 0., 0., 0., 1., 0., 0., 0., 0., 1., 1.]),\n",
       " array([0., 0., 1., 1., 0., 0., 0., 1., 0., 0., 0., 0., 0., 1., 1.]),\n",
       " array([0., 0., 1., 1., 0., 0., 0., 0., 0., 1., 0., 0., 0., 1., 0.]),\n",
       " array([0., 0., 1., 0., 1., 0., 0., 1., 0., 0., 0., 0., 0., 1., 0.]),\n",
       " array([0., 0., 1., 0., 1., 0., 0., 0., 0., 1., 0., 0., 1., 0., 1.]),\n",
       " array([0., 0., 1., 1., 0., 0., 0., 0., 1., 0., 0., 0., 1., 0., 1.]),\n",
       " array([0., 0., 1., 0., 1., 0., 0., 1., 0., 0., 0., 0., 1., 0., 1.]),\n",
       " array([0., 0., 1., 0., 0., 1., 0., 0., 0., 0., 1., 1., 0., 0., 0.]),\n",
       " array([0., 0., 1., 0., 0., 1., 0., 0., 1., 0., 0., 1., 0., 0., 1.]),\n",
       " array([0., 0., 1., 0., 1., 0., 0., 0., 0., 0., 1., 1., 0., 0., 0.]),\n",
       " array([0., 0., 1., 0., 0., 1., 0., 1., 0., 0., 0., 0., 1., 0., 0.]),\n",
       " array([0., 0., 1., 0., 1., 0., 0., 0., 1., 0., 0., 0., 0., 1., 0.]),\n",
       " array([0., 0., 1., 0., 0., 1., 0., 0., 1., 0., 0., 0., 1., 0., 0.]),\n",
       " array([0., 0., 1., 0., 0., 0., 1., 0., 0., 1., 0., 0., 0., 1., 0.]),\n",
       " array([0., 0., 1., 0., 0., 1., 0., 0., 0., 0., 1., 0., 0., 1., 1.]),\n",
       " array([0., 0., 1., 0., 0., 0., 1., 0., 0., 1., 0., 0., 1., 0., 0.]),\n",
       " array([0., 0., 1., 0., 0., 0., 1., 0., 0., 0., 1., 0., 1., 0., 0.]),\n",
       " array([0., 0., 1., 0., 0., 1., 0., 0., 0., 1., 0., 1., 0., 0., 0.]),\n",
       " array([0., 0., 1., 0., 1., 0., 0., 0., 0., 1., 0., 1., 0., 0., 0.]),\n",
       " array([0., 0., 1., 0., 1., 0., 0., 1., 0., 0., 0., 1., 0., 0., 1.]),\n",
       " array([0., 0., 1., 0., 0., 0., 1., 1., 0., 0., 0., 0., 1., 0., 0.]),\n",
       " array([0., 0., 1., 0., 0., 0., 1., 0., 0., 0., 1., 1., 0., 0., 1.]),\n",
       " array([0., 0., 1., 0., 0., 0., 1., 1., 0., 0., 0., 0., 0., 1., 0.])]"
      ]
     },
     "execution_count": 167,
     "metadata": {},
     "output_type": "execute_result"
    }
   ],
   "source": [
    "encodedData"
   ]
  },
  {
   "cell_type": "code",
   "execution_count": null,
   "metadata": {},
   "outputs": [],
   "source": []
  },
  {
   "cell_type": "code",
   "execution_count": 164,
   "metadata": {},
   "outputs": [
    {
     "data": {
      "text/plain": [
       "[array([1., 0., 0.]),\n",
       " array([1., 1., 1., 0.]),\n",
       " array([1., 0., 1., 1.]),\n",
       " array([1., 1., 0.]),\n",
       " array(0)]"
      ]
     },
     "execution_count": 164,
     "metadata": {},
     "output_type": "execute_result"
    }
   ],
   "source": [
    "initializeRule()"
   ]
  },
  {
   "cell_type": "code",
   "execution_count": 186,
   "metadata": {},
   "outputs": [],
   "source": [
    "indvs = initialize(individu)"
   ]
  },
  {
   "cell_type": "code",
   "execution_count": 193,
   "metadata": {},
   "outputs": [
    {
     "name": "stdout",
     "output_type": "stream",
     "text": [
      "[0. 0. 1.] [1. 1. 1. 0.] [0. 1. 0. 1.] [0. 0. 1.] 1.0\n"
     ]
    }
   ],
   "source": [
    "print(indvs[0][:3], indvs[0][2:6], indvs[0][6:10], indvs[0][10:13], indvs[0][-1])"
   ]
  },
  {
   "cell_type": "code",
   "execution_count": 215,
   "metadata": {},
   "outputs": [
    {
     "name": "stdout",
     "output_type": "stream",
     "text": [
      "[[0, 1, 2], [1, 3], [0, 1, 2, 3], [0, 1, 2], [1.0]]\n"
     ]
    }
   ],
   "source": [
    "ex = decode([1., 1., 1., 0., 1., 0., 1., 1., 1., 1., 1., 1., 1., 1., 1.])\n",
    "print(ex)"
   ]
  },
  {
   "cell_type": "code",
   "execution_count": 224,
   "metadata": {},
   "outputs": [],
   "source": [
    "boolean = []"
   ]
  },
  {
   "cell_type": "code",
   "execution_count": 225,
   "metadata": {},
   "outputs": [],
   "source": [
    "suhu = \"suhu\"\n",
    "waktu = \"waktu\"\n",
    "kondisi = \"kondisi\"\n",
    "kelembapan = \"kelembapan\"\n",
    "terbang = \"terbang\""
   ]
  },
  {
   "cell_type": "code",
   "execution_count": 282,
   "metadata": {},
   "outputs": [
    {
     "name": "stdout",
     "output_type": "stream",
     "text": [
      "ret [0.0]\n"
     ]
    }
   ],
   "source": [
    "ez = [0, 1, 2]\n",
    "\n",
    "# realdata = [1, 0, 0, 1, 0]\n",
    "realdata = [2, 0, 1, 0, 1 ]\n",
    "dtree_rules = [[[0, 1, 2], [1, 3], [0, 1, 2, 3], [0, 1, 2], [1.0]], [[1], [0], [0], [1], [0.0]], [[2], [0], [2], [2], [0.0]], [[0, 1, 2], [0, 1, 2, 3], [0, 1, 2, 3], [ 1], [1.0]], [[0, 1, 2], [0, 1, 2, 3], [0, 1, 2, 3], [ 0], [0.0]]]\n",
    "\n",
    "bits = [None]*5\n",
    "bits[0], bits[1], bits[2], bits[3], bits[4] = [], [], [], [], []\n",
    "\n",
    "ret = \"invalid\"\n",
    "for p, l in enumerate(dtree_rules):\n",
    "    asem = []\n",
    "    for i, v in enumerate(l[:-1]):\n",
    "#         print(\"v\",v)\n",
    "        sem = []\n",
    "        for j, k in enumerate(v):\n",
    "#             print(realdata[i])\n",
    "            sem.append(realdata[i] == k)\n",
    "#         print(sem)\n",
    "        v = any(sem)\n",
    "        asem.append(v)\n",
    "    if all(asem) == True:\n",
    "        ret = l[-1]\n",
    "        break\n",
    "# truth = all(bits)\n",
    "print(\"ret\",ret)"
   ]
  },
  {
   "cell_type": "code",
   "execution_count": 252,
   "metadata": {},
   "outputs": [
    {
     "data": {
      "text/plain": [
       "False"
      ]
     },
     "execution_count": 252,
     "metadata": {},
     "output_type": "execute_result"
    }
   ],
   "source": [
    "any(bits[1])"
   ]
  },
  {
   "cell_type": "code",
   "execution_count": 253,
   "metadata": {},
   "outputs": [
    {
     "data": {
      "text/plain": [
       "False"
      ]
     },
     "execution_count": 253,
     "metadata": {},
     "output_type": "execute_result"
    }
   ],
   "source": [
    "truth"
   ]
  },
  {
   "cell_type": "code",
   "execution_count": 254,
   "metadata": {},
   "outputs": [
    {
     "data": {
      "text/plain": [
       "True"
      ]
     },
     "execution_count": 254,
     "metadata": {},
     "output_type": "execute_result"
    }
   ],
   "source": [
    "any([True,False])"
   ]
  },
  {
   "cell_type": "code",
   "execution_count": 267,
   "metadata": {},
   "outputs": [
    {
     "data": {
      "text/plain": [
       "[[1], [0], [0], [1], [0.0]]"
      ]
     },
     "execution_count": 267,
     "metadata": {},
     "output_type": "execute_result"
    }
   ],
   "source": [
    "decode([0., 1., 0., 1., 0., 0., 0., 1., 0., 0., 0., 0., 1., 0., 0.])"
   ]
  },
  {
   "cell_type": "code",
   "execution_count": 271,
   "metadata": {},
   "outputs": [
    {
     "data": {
      "text/plain": [
       "[[2], [0], [1], [1], [1.0]]"
      ]
     },
     "execution_count": 271,
     "metadata": {},
     "output_type": "execute_result"
    }
   ],
   "source": [
    "decode([0., 0., 1., 1., 0., 0., 0., 0., 1., 0., 0., 0., 1., 0., 1.])"
   ]
  },
  {
   "cell_type": "code",
   "execution_count": 273,
   "metadata": {},
   "outputs": [
    {
     "data": {
      "text/plain": [
       "[[0, 1, 2], [0, 1, 2, 3], [0, 1, 2, 3], [0, 1, 2], [1.0]]"
      ]
     },
     "execution_count": 273,
     "metadata": {},
     "output_type": "execute_result"
    }
   ],
   "source": [
    "decode([1., 1., 1., 1., 1., 1., 1., 1., 1., 1., 1., 1., 1., 1., 1.])"
   ]
  },
  {
   "cell_type": "code",
   "execution_count": null,
   "metadata": {},
   "outputs": [],
   "source": []
  }
 ],
 "metadata": {
  "kernelspec": {
   "display_name": "Python 3",
   "language": "python",
   "name": "python3"
  },
  "language_info": {
   "codemirror_mode": {
    "name": "ipython",
    "version": 3
   },
   "file_extension": ".py",
   "mimetype": "text/x-python",
   "name": "python",
   "nbconvert_exporter": "python",
   "pygments_lexer": "ipython3",
   "version": "3.6.6"
  }
 },
 "nbformat": 4,
 "nbformat_minor": 2
}
